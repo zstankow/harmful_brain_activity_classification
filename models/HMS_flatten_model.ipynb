{
 "cells": [
  {
   "cell_type": "markdown",
   "metadata": {
    "id": "_RrvJ4kQ4LEr"
   },
   "source": [
    "## Flatten Model"
   ]
  },
  {
   "cell_type": "markdown",
   "metadata": {
    "id": "Ec8vTVeq4S4b"
   },
   "source": [
    "### imports"
   ]
  },
  {
   "cell_type": "code",
   "execution_count": 1,
   "metadata": {
    "id": "xsqEJZQ432YS"
   },
   "outputs": [],
   "source": [
    "import matplotlib.pyplot as plt\n",
    "import seaborn as sns\n",
    "import pandas as pd\n",
    "import numpy as np\n",
    "from sklearn.preprocessing import LabelEncoder\n",
    "from sklearn.model_selection import train_test_split\n",
    "from sklearn.ensemble import RandomForestClassifier\n",
    "from sklearn.metrics import accuracy_score, classification_report, log_loss\n",
    "from sklearn.metrics import confusion_matrix\n",
    "from scipy.stats import entropy\n",
    "from sklearn.pipeline import Pipeline\n",
    "from sklearn.impute import SimpleImputer\n",
    "from sklearn.compose import ColumnTransformer\n",
    "from tqdm import tqdm\n",
    "import time\n",
    "from sklearn.base import BaseEstimator, TransformerMixin\n",
    "from xgboost import XGBClassifier\n",
    "\n",
    "import os, gc\n",
    "os.environ[\"CUDA_VISIBLE_DEVICES\"]=\"0,1\""
   ]
  },
  {
   "cell_type": "code",
   "execution_count": 2,
   "metadata": {
    "colab": {
     "base_uri": "https://localhost:8080/"
    },
    "id": "nI1N4mBr4NmG",
    "outputId": "2f759a17-df34-4339-c2e1-ac80d892a238",
    "scrolled": true
   },
   "outputs": [
    {
     "name": "stdout",
     "output_type": "stream",
     "text": [
      "Drive already mounted at /content/drive; to attempt to forcibly remount, call drive.mount(\"/content/drive\", force_remount=True).\n"
     ]
    }
   ],
   "source": [
    "from google.colab import drive\n",
    "drive.mount('/content/drive')"
   ]
  },
  {
   "cell_type": "markdown",
   "metadata": {
    "id": "D4kSvI9C43Zi"
   },
   "source": [
    "### train.csv"
   ]
  },
  {
   "cell_type": "code",
   "execution_count": 3,
   "metadata": {
    "id": "f6R89_V54g9o"
   },
   "outputs": [],
   "source": [
    "train_file_path = '/content/drive/My Drive/HMS/train.csv'"
   ]
  },
  {
   "cell_type": "code",
   "execution_count": 4,
   "metadata": {
    "id": "bU3SjPqZ4hJB"
   },
   "outputs": [],
   "source": [
    "df = pd.read_csv(train_file_path)"
   ]
  },
  {
   "cell_type": "code",
   "execution_count": 5,
   "metadata": {
    "colab": {
     "base_uri": "https://localhost:8080/"
    },
    "id": "vBvFJnSe4ib7",
    "outputId": "fa536bcc-fcc1-4b12-fa25-e797228bc130"
   },
   "outputs": [
    {
     "data": {
      "text/plain": [
       "(106800, 15)"
      ]
     },
     "execution_count": 5,
     "metadata": {},
     "output_type": "execute_result"
    }
   ],
   "source": [
    "df.shape"
   ]
  },
  {
   "cell_type": "code",
   "execution_count": 6,
   "metadata": {
    "colab": {
     "base_uri": "https://localhost:8080/"
    },
    "id": "7uYazB8-4ion",
    "outputId": "1eaf0c35-2967-4cb5-df04-eab07fa6a022"
   },
   "outputs": [
    {
     "data": {
      "text/plain": [
       "Index(['eeg_id', 'eeg_sub_id', 'eeg_label_offset_seconds', 'spectrogram_id',\n",
       "       'spectrogram_sub_id', 'spectrogram_label_offset_seconds', 'label_id',\n",
       "       'patient_id', 'expert_consensus', 'seizure_vote', 'lpd_vote',\n",
       "       'gpd_vote', 'lrda_vote', 'grda_vote', 'other_vote'],\n",
       "      dtype='object')"
      ]
     },
     "execution_count": 6,
     "metadata": {},
     "output_type": "execute_result"
    }
   ],
   "source": [
    "df.columns"
   ]
  },
  {
   "cell_type": "code",
   "execution_count": 7,
   "metadata": {
    "colab": {
     "base_uri": "https://localhost:8080/"
    },
    "id": "zzLSoOhR4i34",
    "outputId": "b41efa07-3ebb-4d1c-d49c-cb2ebdc12df3"
   },
   "outputs": [
    {
     "data": {
      "text/plain": [
       "Seizure    20933\n",
       "GRDA       18861\n",
       "Other      18808\n",
       "GPD        16702\n",
       "LRDA       16640\n",
       "LPD        14856\n",
       "Name: expert_consensus, dtype: int64"
      ]
     },
     "execution_count": 7,
     "metadata": {},
     "output_type": "execute_result"
    }
   ],
   "source": [
    "df['expert_consensus'].value_counts()"
   ]
  },
  {
   "cell_type": "code",
   "execution_count": 8,
   "metadata": {
    "colab": {
     "base_uri": "https://localhost:8080/"
    },
    "id": "wBYEMRY15vTG",
    "outputId": "2f07cded-b6fe-4e32-b957-21539ccc5b04"
   },
   "outputs": [
    {
     "name": "stdout",
     "output_type": "stream",
     "text": [
      "Other      4699\n",
      "Seizure    2045\n",
      "GRDA       1422\n",
      "LPD        1284\n",
      "GPD        1025\n",
      "LRDA        663\n",
      "Name: expert_consensus, dtype: int64\n"
     ]
    }
   ],
   "source": [
    "filtered_df = df[df['spectrogram_sub_id'] == 0]\n",
    "value_counts = filtered_df['expert_consensus'].value_counts()\n",
    "print(value_counts)"
   ]
  },
  {
   "cell_type": "markdown",
   "metadata": {
    "id": "7flL3CD040VC"
   },
   "source": [
    "### train.pqt"
   ]
  },
  {
   "cell_type": "code",
   "execution_count": 9,
   "metadata": {
    "id": "c6ebrFAm4kB4"
   },
   "outputs": [],
   "source": [
    "train_pqt_file_path = '/content/drive/My Drive/HMS/train.pqt'"
   ]
  },
  {
   "cell_type": "code",
   "execution_count": 10,
   "metadata": {
    "id": "c8_NHNx94kSX"
   },
   "outputs": [],
   "source": [
    "df_pqt = pd.read_parquet(train_pqt_file_path, engine='pyarrow')"
   ]
  },
  {
   "cell_type": "code",
   "execution_count": 11,
   "metadata": {
    "colab": {
     "base_uri": "https://localhost:8080/"
    },
    "id": "VM5MxJ7J4kd_",
    "outputId": "1da7c510-3e60-49f9-e380-3fd15132ac90"
   },
   "outputs": [
    {
     "data": {
      "text/plain": [
       "(17089, 412)"
      ]
     },
     "execution_count": 11,
     "metadata": {},
     "output_type": "execute_result"
    }
   ],
   "source": [
    "df_pqt.shape"
   ]
  },
  {
   "cell_type": "code",
   "execution_count": 12,
   "metadata": {
    "id": "tgCYpGcz4kog"
   },
   "outputs": [],
   "source": [
    "le = LabelEncoder()\n",
    "\n",
    "df['target_encoded'] = le.fit_transform(df['expert_consensus']) "
   ]
  },
  {
   "cell_type": "markdown",
   "metadata": {
    "id": "IDGO90Fl5SFP"
   },
   "source": [
    "### specs.npy"
   ]
  },
  {
   "cell_type": "code",
   "execution_count": 13,
   "metadata": {
    "id": "Cn87-1Xy4lFn"
   },
   "outputs": [],
   "source": [
    "def load_spectrograms(path, read_spec_files=False):\n",
    "\n",
    "    if read_spec_files:\n",
    "        spectrograms = {}\n",
    "        for i,f in enumerate(files):\n",
    "            if i%100==0: print(i,', ',end='')\n",
    "            tmp = pd.read_parquet(f'{path}//{f}')\n",
    "            name = int(f.split('.')[0])\n",
    "            spectrograms[name] = tmp.iloc[:,1:].values\n",
    "    else:\n",
    "        spectrograms = np.load(f\"{path}\", allow_pickle=True).item()\n",
    "    return spectrograms"
   ]
  },
  {
   "cell_type": "code",
   "execution_count": 14,
   "metadata": {
    "id": "ovfH9-CK4lPE"
   },
   "outputs": [],
   "source": [
    "def get_column_names():\n",
    "    columns = []\n",
    "    regions = ['LL_', 'RL_', 'LP_', 'RP_']\n",
    "    increments = [\n",
    "        0.59, 0.78, 0.98, 1.17, 1.37, 1.56, 1.76, 1.95, 2.15, 2.34,\n",
    "        2.54, 2.73, 2.93, 3.13, 3.32, 3.52, 3.71, 3.91, 4.1, 4.3,\n",
    "        4.49, 4.69, 4.88, 5.08, 5.27, 5.47, 5.66, 5.86, 6.05, 6.25,\n",
    "        6.45, 6.64, 6.84, 7.03, 7.23, 7.42, 7.62, 7.81, 8.01, 8.2,\n",
    "        8.4, 8.59, 8.79, 8.98, 9.18, 9.38, 9.57, 9.77, 9.96, 10.16,\n",
    "        10.35, 10.55, 10.74, 10.94, 11.13, 11.33, 11.52, 11.72, 11.91,\n",
    "        12.11, 12.3, 12.5, 12.7, 12.89, 13.09, 13.28, 13.48, 13.67,\n",
    "        13.87, 14.06, 14.26, 14.45, 14.65, 14.84, 15.04, 15.23, 15.43,\n",
    "        15.63, 15.82, 16.02, 16.21, 16.41, 16.6, 16.8, 16.99, 17.19,\n",
    "        17.38, 17.58, 17.77, 17.97, 18.16, 18.36, 18.55, 18.75, 18.95,\n",
    "        19.14, 19.34, 19.53, 19.73, 19.92\n",
    "    ]\n",
    "\n",
    "    for r in regions:\n",
    "        for i in increments:\n",
    "            columns.extend([f'{r}{i}'])\n",
    "    return columns"
   ]
  },
  {
   "cell_type": "code",
   "execution_count": 15,
   "metadata": {
    "id": "0cZV6XIh4lYE"
   },
   "outputs": [],
   "source": [
    "def get_spect_df(spectrograms):\n",
    "    columns = get_column_names()\n",
    "    dataframes = {}\n",
    "    for key in spectrograms:\n",
    "        subset_array = spectrograms[key][:300]\n",
    "        df = pd.DataFrame(subset_array, columns=columns)\n",
    "        dataframes[key] = df\n",
    "    return dataframes"
   ]
  },
  {
   "cell_type": "code",
   "execution_count": 16,
   "metadata": {
    "id": "0rSJ7VhN4lzG"
   },
   "outputs": [],
   "source": [
    "PATH = r'/content/drive/My Drive/HMS/specs.npy'\n",
    "spectrograms = load_spectrograms(PATH)\n",
    "dataframes = get_spect_df(spectrograms)"
   ]
  },
  {
   "cell_type": "code",
   "execution_count": 17,
   "metadata": {
    "colab": {
     "base_uri": "https://localhost:8080/"
    },
    "id": "Fiho3ZO09JWp",
    "outputId": "0681b960-4c6d-499d-c282-ecea44688f21"
   },
   "outputs": [
    {
     "data": {
      "text/plain": [
       "11138"
      ]
     },
     "execution_count": 17,
     "metadata": {},
     "output_type": "execute_result"
    }
   ],
   "source": [
    "len(dataframes.keys())"
   ]
  },
  {
   "cell_type": "code",
   "execution_count": 19,
   "metadata": {
    "colab": {
     "base_uri": "https://localhost:8080/"
    },
    "id": "seIaBe4RNgjv",
    "outputId": "a155e445-175f-4575-a05b-a80940372c0d"
   },
   "outputs": [
    {
     "name": "stdout",
     "output_type": "stream",
     "text": [
      "11138\n",
      "800\n",
      "800\n",
      "[1877988893, 1986312210, 2070184703, 1101446077, 1584471894, 17388825, 896394034, 1543002583, 257386751, 517640762]\n"
     ]
    }
   ],
   "source": [
    "# for smaller array\n",
    "import random\n",
    "ran_num = 800\n",
    "random.seed(42)\n",
    "\n",
    "list_unique_values = list(dataframes.keys())  \n",
    "list_unique_value_random = random.sample(list_unique_values, ran_num) # ran_num\n",
    "\n",
    "random_dataframes_subset = {key: dataframes[key] for key in list_unique_value_random}\n",
    "\n",
    "print(len(list_unique_values))  \n",
    "print(len(list_unique_value_random))  \n",
    "print(len(random_dataframes_subset))  \n",
    "print(list(random_dataframes_subset.keys())[:10])  \n"
   ]
  },
  {
   "cell_type": "code",
   "execution_count": 20,
   "metadata": {
    "colab": {
     "base_uri": "https://localhost:8080/"
    },
    "id": "KV4mQC0ZbCna",
    "outputId": "11692874-099c-4bd6-b9fa-aea57a844192"
   },
   "outputs": [
    {
     "data": {
      "text/plain": [
       "0"
      ]
     },
     "execution_count": 20,
     "metadata": {},
     "output_type": "execute_result"
    }
   ],
   "source": [
    "del spectrograms\n",
    "del dataframes\n",
    "\n",
    "gc.collect()"
   ]
  },
  {
   "cell_type": "markdown",
   "metadata": {
    "id": "P9DLi4DP8OgS"
   },
   "source": [
    "### df_split"
   ]
  },
  {
   "cell_type": "code",
   "execution_count": 23,
   "metadata": {
    "colab": {
     "base_uri": "https://localhost:8080/",
     "height": 399
    },
    "id": "QdO-ZJQG8OEc",
    "outputId": "880c355c-e6e3-4b83-c7c4-439022e0d60f"
   },
   "outputs": [
    {
     "name": "stdout",
     "output_type": "stream",
     "text": [
      "(11138, 2)\n",
      "Index(['spectrogram_id', 'target_encoded'], dtype='object')\n"
     ]
    },
    {
     "data": {
      "application/vnd.google.colaboratory.intrinsic+json": {
       "summary": "{\n  \"name\": \"df_split\",\n  \"rows\": 11138,\n  \"fields\": [\n    {\n      \"column\": \"spectrogram_id\",\n      \"properties\": {\n        \"dtype\": \"number\",\n        \"std\": 619535202,\n        \"min\": 353733,\n        \"max\": 2147388374,\n        \"num_unique_values\": 11138,\n        \"samples\": [\n          1795186556,\n          94126804,\n          1616768321\n        ],\n        \"semantic_type\": \"\",\n        \"description\": \"\"\n      }\n    },\n    {\n      \"column\": \"target_encoded\",\n      \"properties\": {\n        \"dtype\": \"number\",\n        \"std\": 1,\n        \"min\": 0,\n        \"max\": 5,\n        \"num_unique_values\": 6,\n        \"samples\": [\n          5,\n          0,\n          2\n        ],\n        \"semantic_type\": \"\",\n        \"description\": \"\"\n      }\n    }\n  ]\n}",
       "type": "dataframe",
       "variable_name": "df_split"
      },
      "text/html": [
       "\n",
       "  <div id=\"df-4c83eb04-f8cb-42b4-ac36-7cfcb4ae87ec\" class=\"colab-df-container\">\n",
       "    <div>\n",
       "<style scoped>\n",
       "    .dataframe tbody tr th:only-of-type {\n",
       "        vertical-align: middle;\n",
       "    }\n",
       "\n",
       "    .dataframe tbody tr th {\n",
       "        vertical-align: top;\n",
       "    }\n",
       "\n",
       "    .dataframe thead th {\n",
       "        text-align: right;\n",
       "    }\n",
       "</style>\n",
       "<table border=\"1\" class=\"dataframe\">\n",
       "  <thead>\n",
       "    <tr style=\"text-align: right;\">\n",
       "      <th></th>\n",
       "      <th>spectrogram_id</th>\n",
       "      <th>target_encoded</th>\n",
       "    </tr>\n",
       "  </thead>\n",
       "  <tbody>\n",
       "    <tr>\n",
       "      <th>0</th>\n",
       "      <td>353733</td>\n",
       "      <td>5</td>\n",
       "    </tr>\n",
       "    <tr>\n",
       "      <th>9</th>\n",
       "      <td>924234</td>\n",
       "      <td>0</td>\n",
       "    </tr>\n",
       "    <tr>\n",
       "      <th>11</th>\n",
       "      <td>999431</td>\n",
       "      <td>3</td>\n",
       "    </tr>\n",
       "    <tr>\n",
       "      <th>22</th>\n",
       "      <td>1084844</td>\n",
       "      <td>3</td>\n",
       "    </tr>\n",
       "    <tr>\n",
       "      <th>28</th>\n",
       "      <td>1219001</td>\n",
       "      <td>5</td>\n",
       "    </tr>\n",
       "    <tr>\n",
       "      <th>35</th>\n",
       "      <td>1353070</td>\n",
       "      <td>4</td>\n",
       "    </tr>\n",
       "    <tr>\n",
       "      <th>36</th>\n",
       "      <td>1730458</td>\n",
       "      <td>4</td>\n",
       "    </tr>\n",
       "    <tr>\n",
       "      <th>41</th>\n",
       "      <td>1872874</td>\n",
       "      <td>3</td>\n",
       "    </tr>\n",
       "    <tr>\n",
       "      <th>49</th>\n",
       "      <td>1910466</td>\n",
       "      <td>4</td>\n",
       "    </tr>\n",
       "    <tr>\n",
       "      <th>54</th>\n",
       "      <td>2207717</td>\n",
       "      <td>4</td>\n",
       "    </tr>\n",
       "  </tbody>\n",
       "</table>\n",
       "</div>\n",
       "    <div class=\"colab-df-buttons\">\n",
       "\n",
       "  <div class=\"colab-df-container\">\n",
       "    <button class=\"colab-df-convert\" onclick=\"convertToInteractive('df-4c83eb04-f8cb-42b4-ac36-7cfcb4ae87ec')\"\n",
       "            title=\"Convert this dataframe to an interactive table.\"\n",
       "            style=\"display:none;\">\n",
       "\n",
       "  <svg xmlns=\"http://www.w3.org/2000/svg\" height=\"24px\" viewBox=\"0 -960 960 960\">\n",
       "    <path d=\"M120-120v-720h720v720H120Zm60-500h600v-160H180v160Zm220 220h160v-160H400v160Zm0 220h160v-160H400v160ZM180-400h160v-160H180v160Zm440 0h160v-160H620v160ZM180-180h160v-160H180v160Zm440 0h160v-160H620v160Z\"/>\n",
       "  </svg>\n",
       "    </button>\n",
       "\n",
       "  <style>\n",
       "    .colab-df-container {\n",
       "      display:flex;\n",
       "      gap: 12px;\n",
       "    }\n",
       "\n",
       "    .colab-df-convert {\n",
       "      background-color: #E8F0FE;\n",
       "      border: none;\n",
       "      border-radius: 50%;\n",
       "      cursor: pointer;\n",
       "      display: none;\n",
       "      fill: #1967D2;\n",
       "      height: 32px;\n",
       "      padding: 0 0 0 0;\n",
       "      width: 32px;\n",
       "    }\n",
       "\n",
       "    .colab-df-convert:hover {\n",
       "      background-color: #E2EBFA;\n",
       "      box-shadow: 0px 1px 2px rgba(60, 64, 67, 0.3), 0px 1px 3px 1px rgba(60, 64, 67, 0.15);\n",
       "      fill: #174EA6;\n",
       "    }\n",
       "\n",
       "    .colab-df-buttons div {\n",
       "      margin-bottom: 4px;\n",
       "    }\n",
       "\n",
       "    [theme=dark] .colab-df-convert {\n",
       "      background-color: #3B4455;\n",
       "      fill: #D2E3FC;\n",
       "    }\n",
       "\n",
       "    [theme=dark] .colab-df-convert:hover {\n",
       "      background-color: #434B5C;\n",
       "      box-shadow: 0px 1px 3px 1px rgba(0, 0, 0, 0.15);\n",
       "      filter: drop-shadow(0px 1px 2px rgba(0, 0, 0, 0.3));\n",
       "      fill: #FFFFFF;\n",
       "    }\n",
       "  </style>\n",
       "\n",
       "    <script>\n",
       "      const buttonEl =\n",
       "        document.querySelector('#df-4c83eb04-f8cb-42b4-ac36-7cfcb4ae87ec button.colab-df-convert');\n",
       "      buttonEl.style.display =\n",
       "        google.colab.kernel.accessAllowed ? 'block' : 'none';\n",
       "\n",
       "      async function convertToInteractive(key) {\n",
       "        const element = document.querySelector('#df-4c83eb04-f8cb-42b4-ac36-7cfcb4ae87ec');\n",
       "        const dataTable =\n",
       "          await google.colab.kernel.invokeFunction('convertToInteractive',\n",
       "                                                    [key], {});\n",
       "        if (!dataTable) return;\n",
       "\n",
       "        const docLinkHtml = 'Like what you see? Visit the ' +\n",
       "          '<a target=\"_blank\" href=https://colab.research.google.com/notebooks/data_table.ipynb>data table notebook</a>'\n",
       "          + ' to learn more about interactive tables.';\n",
       "        element.innerHTML = '';\n",
       "        dataTable['output_type'] = 'display_data';\n",
       "        await google.colab.output.renderOutput(dataTable, element);\n",
       "        const docLink = document.createElement('div');\n",
       "        docLink.innerHTML = docLinkHtml;\n",
       "        element.appendChild(docLink);\n",
       "      }\n",
       "    </script>\n",
       "  </div>\n",
       "\n",
       "\n",
       "<div id=\"df-9f610ee7-b42e-425b-9ea9-443740f0122d\">\n",
       "  <button class=\"colab-df-quickchart\" onclick=\"quickchart('df-9f610ee7-b42e-425b-9ea9-443740f0122d')\"\n",
       "            title=\"Suggest charts\"\n",
       "            style=\"display:none;\">\n",
       "\n",
       "<svg xmlns=\"http://www.w3.org/2000/svg\" height=\"24px\"viewBox=\"0 0 24 24\"\n",
       "     width=\"24px\">\n",
       "    <g>\n",
       "        <path d=\"M19 3H5c-1.1 0-2 .9-2 2v14c0 1.1.9 2 2 2h14c1.1 0 2-.9 2-2V5c0-1.1-.9-2-2-2zM9 17H7v-7h2v7zm4 0h-2V7h2v10zm4 0h-2v-4h2v4z\"/>\n",
       "    </g>\n",
       "</svg>\n",
       "  </button>\n",
       "\n",
       "<style>\n",
       "  .colab-df-quickchart {\n",
       "      --bg-color: #E8F0FE;\n",
       "      --fill-color: #1967D2;\n",
       "      --hover-bg-color: #E2EBFA;\n",
       "      --hover-fill-color: #174EA6;\n",
       "      --disabled-fill-color: #AAA;\n",
       "      --disabled-bg-color: #DDD;\n",
       "  }\n",
       "\n",
       "  [theme=dark] .colab-df-quickchart {\n",
       "      --bg-color: #3B4455;\n",
       "      --fill-color: #D2E3FC;\n",
       "      --hover-bg-color: #434B5C;\n",
       "      --hover-fill-color: #FFFFFF;\n",
       "      --disabled-bg-color: #3B4455;\n",
       "      --disabled-fill-color: #666;\n",
       "  }\n",
       "\n",
       "  .colab-df-quickchart {\n",
       "    background-color: var(--bg-color);\n",
       "    border: none;\n",
       "    border-radius: 50%;\n",
       "    cursor: pointer;\n",
       "    display: none;\n",
       "    fill: var(--fill-color);\n",
       "    height: 32px;\n",
       "    padding: 0;\n",
       "    width: 32px;\n",
       "  }\n",
       "\n",
       "  .colab-df-quickchart:hover {\n",
       "    background-color: var(--hover-bg-color);\n",
       "    box-shadow: 0 1px 2px rgba(60, 64, 67, 0.3), 0 1px 3px 1px rgba(60, 64, 67, 0.15);\n",
       "    fill: var(--button-hover-fill-color);\n",
       "  }\n",
       "\n",
       "  .colab-df-quickchart-complete:disabled,\n",
       "  .colab-df-quickchart-complete:disabled:hover {\n",
       "    background-color: var(--disabled-bg-color);\n",
       "    fill: var(--disabled-fill-color);\n",
       "    box-shadow: none;\n",
       "  }\n",
       "\n",
       "  .colab-df-spinner {\n",
       "    border: 2px solid var(--fill-color);\n",
       "    border-color: transparent;\n",
       "    border-bottom-color: var(--fill-color);\n",
       "    animation:\n",
       "      spin 1s steps(1) infinite;\n",
       "  }\n",
       "\n",
       "  @keyframes spin {\n",
       "    0% {\n",
       "      border-color: transparent;\n",
       "      border-bottom-color: var(--fill-color);\n",
       "      border-left-color: var(--fill-color);\n",
       "    }\n",
       "    20% {\n",
       "      border-color: transparent;\n",
       "      border-left-color: var(--fill-color);\n",
       "      border-top-color: var(--fill-color);\n",
       "    }\n",
       "    30% {\n",
       "      border-color: transparent;\n",
       "      border-left-color: var(--fill-color);\n",
       "      border-top-color: var(--fill-color);\n",
       "      border-right-color: var(--fill-color);\n",
       "    }\n",
       "    40% {\n",
       "      border-color: transparent;\n",
       "      border-right-color: var(--fill-color);\n",
       "      border-top-color: var(--fill-color);\n",
       "    }\n",
       "    60% {\n",
       "      border-color: transparent;\n",
       "      border-right-color: var(--fill-color);\n",
       "    }\n",
       "    80% {\n",
       "      border-color: transparent;\n",
       "      border-right-color: var(--fill-color);\n",
       "      border-bottom-color: var(--fill-color);\n",
       "    }\n",
       "    90% {\n",
       "      border-color: transparent;\n",
       "      border-bottom-color: var(--fill-color);\n",
       "    }\n",
       "  }\n",
       "</style>\n",
       "\n",
       "  <script>\n",
       "    async function quickchart(key) {\n",
       "      const quickchartButtonEl =\n",
       "        document.querySelector('#' + key + ' button');\n",
       "      quickchartButtonEl.disabled = true;  // To prevent multiple clicks.\n",
       "      quickchartButtonEl.classList.add('colab-df-spinner');\n",
       "      try {\n",
       "        const charts = await google.colab.kernel.invokeFunction(\n",
       "            'suggestCharts', [key], {});\n",
       "      } catch (error) {\n",
       "        console.error('Error during call to suggestCharts:', error);\n",
       "      }\n",
       "      quickchartButtonEl.classList.remove('colab-df-spinner');\n",
       "      quickchartButtonEl.classList.add('colab-df-quickchart-complete');\n",
       "    }\n",
       "    (() => {\n",
       "      let quickchartButtonEl =\n",
       "        document.querySelector('#df-9f610ee7-b42e-425b-9ea9-443740f0122d button');\n",
       "      quickchartButtonEl.style.display =\n",
       "        google.colab.kernel.accessAllowed ? 'block' : 'none';\n",
       "    })();\n",
       "  </script>\n",
       "</div>\n",
       "\n",
       "    </div>\n",
       "  </div>\n"
      ],
      "text/plain": [
       "    spectrogram_id  target_encoded\n",
       "0           353733               5\n",
       "9           924234               0\n",
       "11          999431               3\n",
       "22         1084844               3\n",
       "28         1219001               5\n",
       "35         1353070               4\n",
       "36         1730458               4\n",
       "41         1872874               3\n",
       "49         1910466               4\n",
       "54         2207717               4"
      ]
     },
     "execution_count": 23,
     "metadata": {},
     "output_type": "execute_result"
    }
   ],
   "source": [
    "filtered_df = df[df['spectrogram_sub_id'] == 0]\n",
    "selected_columns_df = filtered_df[['spectrogram_id', 'target_encoded']]\n",
    "df_split = selected_columns_df.drop_duplicates()\n",
    "\n",
    "print(df_split.shape)\n",
    "print(df_split.columns)\n",
    "df_split.head(10)"
   ]
  },
  {
   "cell_type": "code",
   "execution_count": 24,
   "metadata": {
    "colab": {
     "base_uri": "https://localhost:8080/",
     "height": 399
    },
    "id": "q5UpTnIEQ87e",
    "outputId": "8fc0d0c9-2030-4443-dd23-e432fb688ec3"
   },
   "outputs": [
    {
     "name": "stdout",
     "output_type": "stream",
     "text": [
      "(800, 2)\n",
      "Index(['spectrogram_id', 'target_encoded'], dtype='object')\n"
     ]
    },
    {
     "data": {
      "application/vnd.google.colaboratory.intrinsic+json": {
       "summary": "{\n  \"name\": \"filtered_df_split\",\n  \"rows\": 800,\n  \"fields\": [\n    {\n      \"column\": \"spectrogram_id\",\n      \"properties\": {\n        \"dtype\": \"number\",\n        \"std\": 618508557,\n        \"min\": 353733,\n        \"max\": 2146170054,\n        \"num_unique_values\": 800,\n        \"samples\": [\n          1845649550,\n          1751588274,\n          154799536\n        ],\n        \"semantic_type\": \"\",\n        \"description\": \"\"\n      }\n    },\n    {\n      \"column\": \"target_encoded\",\n      \"properties\": {\n        \"dtype\": \"number\",\n        \"std\": 1,\n        \"min\": 0,\n        \"max\": 5,\n        \"num_unique_values\": 6,\n        \"samples\": [\n          5,\n          3,\n          1\n        ],\n        \"semantic_type\": \"\",\n        \"description\": \"\"\n      }\n    }\n  ]\n}",
       "type": "dataframe",
       "variable_name": "filtered_df_split"
      },
      "text/html": [
       "\n",
       "  <div id=\"df-a920e90b-37bb-4ea6-aac6-62c3eca9f57e\" class=\"colab-df-container\">\n",
       "    <div>\n",
       "<style scoped>\n",
       "    .dataframe tbody tr th:only-of-type {\n",
       "        vertical-align: middle;\n",
       "    }\n",
       "\n",
       "    .dataframe tbody tr th {\n",
       "        vertical-align: top;\n",
       "    }\n",
       "\n",
       "    .dataframe thead th {\n",
       "        text-align: right;\n",
       "    }\n",
       "</style>\n",
       "<table border=\"1\" class=\"dataframe\">\n",
       "  <thead>\n",
       "    <tr style=\"text-align: right;\">\n",
       "      <th></th>\n",
       "      <th>spectrogram_id</th>\n",
       "      <th>target_encoded</th>\n",
       "    </tr>\n",
       "  </thead>\n",
       "  <tbody>\n",
       "    <tr>\n",
       "      <th>0</th>\n",
       "      <td>353733</td>\n",
       "      <td>5</td>\n",
       "    </tr>\n",
       "    <tr>\n",
       "      <th>11</th>\n",
       "      <td>999431</td>\n",
       "      <td>3</td>\n",
       "    </tr>\n",
       "    <tr>\n",
       "      <th>107</th>\n",
       "      <td>5697767</td>\n",
       "      <td>5</td>\n",
       "    </tr>\n",
       "    <tr>\n",
       "      <th>209</th>\n",
       "      <td>8440102</td>\n",
       "      <td>4</td>\n",
       "    </tr>\n",
       "    <tr>\n",
       "      <th>222</th>\n",
       "      <td>8595476</td>\n",
       "      <td>0</td>\n",
       "    </tr>\n",
       "    <tr>\n",
       "      <th>275</th>\n",
       "      <td>10381291</td>\n",
       "      <td>4</td>\n",
       "    </tr>\n",
       "    <tr>\n",
       "      <th>330</th>\n",
       "      <td>11601981</td>\n",
       "      <td>5</td>\n",
       "    </tr>\n",
       "    <tr>\n",
       "      <th>902</th>\n",
       "      <td>12916371</td>\n",
       "      <td>0</td>\n",
       "    </tr>\n",
       "    <tr>\n",
       "      <th>1262</th>\n",
       "      <td>15355234</td>\n",
       "      <td>0</td>\n",
       "    </tr>\n",
       "    <tr>\n",
       "      <th>1288</th>\n",
       "      <td>15428069</td>\n",
       "      <td>2</td>\n",
       "    </tr>\n",
       "  </tbody>\n",
       "</table>\n",
       "</div>\n",
       "    <div class=\"colab-df-buttons\">\n",
       "\n",
       "  <div class=\"colab-df-container\">\n",
       "    <button class=\"colab-df-convert\" onclick=\"convertToInteractive('df-a920e90b-37bb-4ea6-aac6-62c3eca9f57e')\"\n",
       "            title=\"Convert this dataframe to an interactive table.\"\n",
       "            style=\"display:none;\">\n",
       "\n",
       "  <svg xmlns=\"http://www.w3.org/2000/svg\" height=\"24px\" viewBox=\"0 -960 960 960\">\n",
       "    <path d=\"M120-120v-720h720v720H120Zm60-500h600v-160H180v160Zm220 220h160v-160H400v160Zm0 220h160v-160H400v160ZM180-400h160v-160H180v160Zm440 0h160v-160H620v160ZM180-180h160v-160H180v160Zm440 0h160v-160H620v160Z\"/>\n",
       "  </svg>\n",
       "    </button>\n",
       "\n",
       "  <style>\n",
       "    .colab-df-container {\n",
       "      display:flex;\n",
       "      gap: 12px;\n",
       "    }\n",
       "\n",
       "    .colab-df-convert {\n",
       "      background-color: #E8F0FE;\n",
       "      border: none;\n",
       "      border-radius: 50%;\n",
       "      cursor: pointer;\n",
       "      display: none;\n",
       "      fill: #1967D2;\n",
       "      height: 32px;\n",
       "      padding: 0 0 0 0;\n",
       "      width: 32px;\n",
       "    }\n",
       "\n",
       "    .colab-df-convert:hover {\n",
       "      background-color: #E2EBFA;\n",
       "      box-shadow: 0px 1px 2px rgba(60, 64, 67, 0.3), 0px 1px 3px 1px rgba(60, 64, 67, 0.15);\n",
       "      fill: #174EA6;\n",
       "    }\n",
       "\n",
       "    .colab-df-buttons div {\n",
       "      margin-bottom: 4px;\n",
       "    }\n",
       "\n",
       "    [theme=dark] .colab-df-convert {\n",
       "      background-color: #3B4455;\n",
       "      fill: #D2E3FC;\n",
       "    }\n",
       "\n",
       "    [theme=dark] .colab-df-convert:hover {\n",
       "      background-color: #434B5C;\n",
       "      box-shadow: 0px 1px 3px 1px rgba(0, 0, 0, 0.15);\n",
       "      filter: drop-shadow(0px 1px 2px rgba(0, 0, 0, 0.3));\n",
       "      fill: #FFFFFF;\n",
       "    }\n",
       "  </style>\n",
       "\n",
       "    <script>\n",
       "      const buttonEl =\n",
       "        document.querySelector('#df-a920e90b-37bb-4ea6-aac6-62c3eca9f57e button.colab-df-convert');\n",
       "      buttonEl.style.display =\n",
       "        google.colab.kernel.accessAllowed ? 'block' : 'none';\n",
       "\n",
       "      async function convertToInteractive(key) {\n",
       "        const element = document.querySelector('#df-a920e90b-37bb-4ea6-aac6-62c3eca9f57e');\n",
       "        const dataTable =\n",
       "          await google.colab.kernel.invokeFunction('convertToInteractive',\n",
       "                                                    [key], {});\n",
       "        if (!dataTable) return;\n",
       "\n",
       "        const docLinkHtml = 'Like what you see? Visit the ' +\n",
       "          '<a target=\"_blank\" href=https://colab.research.google.com/notebooks/data_table.ipynb>data table notebook</a>'\n",
       "          + ' to learn more about interactive tables.';\n",
       "        element.innerHTML = '';\n",
       "        dataTable['output_type'] = 'display_data';\n",
       "        await google.colab.output.renderOutput(dataTable, element);\n",
       "        const docLink = document.createElement('div');\n",
       "        docLink.innerHTML = docLinkHtml;\n",
       "        element.appendChild(docLink);\n",
       "      }\n",
       "    </script>\n",
       "  </div>\n",
       "\n",
       "\n",
       "<div id=\"df-78053a53-2124-4c65-a5dd-4cf3880462dc\">\n",
       "  <button class=\"colab-df-quickchart\" onclick=\"quickchart('df-78053a53-2124-4c65-a5dd-4cf3880462dc')\"\n",
       "            title=\"Suggest charts\"\n",
       "            style=\"display:none;\">\n",
       "\n",
       "<svg xmlns=\"http://www.w3.org/2000/svg\" height=\"24px\"viewBox=\"0 0 24 24\"\n",
       "     width=\"24px\">\n",
       "    <g>\n",
       "        <path d=\"M19 3H5c-1.1 0-2 .9-2 2v14c0 1.1.9 2 2 2h14c1.1 0 2-.9 2-2V5c0-1.1-.9-2-2-2zM9 17H7v-7h2v7zm4 0h-2V7h2v10zm4 0h-2v-4h2v4z\"/>\n",
       "    </g>\n",
       "</svg>\n",
       "  </button>\n",
       "\n",
       "<style>\n",
       "  .colab-df-quickchart {\n",
       "      --bg-color: #E8F0FE;\n",
       "      --fill-color: #1967D2;\n",
       "      --hover-bg-color: #E2EBFA;\n",
       "      --hover-fill-color: #174EA6;\n",
       "      --disabled-fill-color: #AAA;\n",
       "      --disabled-bg-color: #DDD;\n",
       "  }\n",
       "\n",
       "  [theme=dark] .colab-df-quickchart {\n",
       "      --bg-color: #3B4455;\n",
       "      --fill-color: #D2E3FC;\n",
       "      --hover-bg-color: #434B5C;\n",
       "      --hover-fill-color: #FFFFFF;\n",
       "      --disabled-bg-color: #3B4455;\n",
       "      --disabled-fill-color: #666;\n",
       "  }\n",
       "\n",
       "  .colab-df-quickchart {\n",
       "    background-color: var(--bg-color);\n",
       "    border: none;\n",
       "    border-radius: 50%;\n",
       "    cursor: pointer;\n",
       "    display: none;\n",
       "    fill: var(--fill-color);\n",
       "    height: 32px;\n",
       "    padding: 0;\n",
       "    width: 32px;\n",
       "  }\n",
       "\n",
       "  .colab-df-quickchart:hover {\n",
       "    background-color: var(--hover-bg-color);\n",
       "    box-shadow: 0 1px 2px rgba(60, 64, 67, 0.3), 0 1px 3px 1px rgba(60, 64, 67, 0.15);\n",
       "    fill: var(--button-hover-fill-color);\n",
       "  }\n",
       "\n",
       "  .colab-df-quickchart-complete:disabled,\n",
       "  .colab-df-quickchart-complete:disabled:hover {\n",
       "    background-color: var(--disabled-bg-color);\n",
       "    fill: var(--disabled-fill-color);\n",
       "    box-shadow: none;\n",
       "  }\n",
       "\n",
       "  .colab-df-spinner {\n",
       "    border: 2px solid var(--fill-color);\n",
       "    border-color: transparent;\n",
       "    border-bottom-color: var(--fill-color);\n",
       "    animation:\n",
       "      spin 1s steps(1) infinite;\n",
       "  }\n",
       "\n",
       "  @keyframes spin {\n",
       "    0% {\n",
       "      border-color: transparent;\n",
       "      border-bottom-color: var(--fill-color);\n",
       "      border-left-color: var(--fill-color);\n",
       "    }\n",
       "    20% {\n",
       "      border-color: transparent;\n",
       "      border-left-color: var(--fill-color);\n",
       "      border-top-color: var(--fill-color);\n",
       "    }\n",
       "    30% {\n",
       "      border-color: transparent;\n",
       "      border-left-color: var(--fill-color);\n",
       "      border-top-color: var(--fill-color);\n",
       "      border-right-color: var(--fill-color);\n",
       "    }\n",
       "    40% {\n",
       "      border-color: transparent;\n",
       "      border-right-color: var(--fill-color);\n",
       "      border-top-color: var(--fill-color);\n",
       "    }\n",
       "    60% {\n",
       "      border-color: transparent;\n",
       "      border-right-color: var(--fill-color);\n",
       "    }\n",
       "    80% {\n",
       "      border-color: transparent;\n",
       "      border-right-color: var(--fill-color);\n",
       "      border-bottom-color: var(--fill-color);\n",
       "    }\n",
       "    90% {\n",
       "      border-color: transparent;\n",
       "      border-bottom-color: var(--fill-color);\n",
       "    }\n",
       "  }\n",
       "</style>\n",
       "\n",
       "  <script>\n",
       "    async function quickchart(key) {\n",
       "      const quickchartButtonEl =\n",
       "        document.querySelector('#' + key + ' button');\n",
       "      quickchartButtonEl.disabled = true;  // To prevent multiple clicks.\n",
       "      quickchartButtonEl.classList.add('colab-df-spinner');\n",
       "      try {\n",
       "        const charts = await google.colab.kernel.invokeFunction(\n",
       "            'suggestCharts', [key], {});\n",
       "      } catch (error) {\n",
       "        console.error('Error during call to suggestCharts:', error);\n",
       "      }\n",
       "      quickchartButtonEl.classList.remove('colab-df-spinner');\n",
       "      quickchartButtonEl.classList.add('colab-df-quickchart-complete');\n",
       "    }\n",
       "    (() => {\n",
       "      let quickchartButtonEl =\n",
       "        document.querySelector('#df-78053a53-2124-4c65-a5dd-4cf3880462dc button');\n",
       "      quickchartButtonEl.style.display =\n",
       "        google.colab.kernel.accessAllowed ? 'block' : 'none';\n",
       "    })();\n",
       "  </script>\n",
       "</div>\n",
       "\n",
       "    </div>\n",
       "  </div>\n"
      ],
      "text/plain": [
       "      spectrogram_id  target_encoded\n",
       "0             353733               5\n",
       "11            999431               3\n",
       "107          5697767               5\n",
       "209          8440102               4\n",
       "222          8595476               0\n",
       "275         10381291               4\n",
       "330         11601981               5\n",
       "902         12916371               0\n",
       "1262        15355234               0\n",
       "1288        15428069               2"
      ]
     },
     "execution_count": 24,
     "metadata": {},
     "output_type": "execute_result"
    }
   ],
   "source": [
    "# for smaller array\n",
    "filtered_df_split = df_split[df_split['spectrogram_id'].isin(list_unique_value_random)]\n",
    "\n",
    "print(filtered_df_split.shape)\n",
    "print(filtered_df_split.columns)\n",
    "filtered_df_split.head(10)"
   ]
  },
  {
   "cell_type": "code",
   "execution_count": 25,
   "metadata": {
    "colab": {
     "base_uri": "https://localhost:8080/"
    },
    "id": "p81uSHqGSe4_",
    "outputId": "48d13f2c-e8c2-4e16-fc8f-c395b27a0f11"
   },
   "outputs": [
    {
     "data": {
      "text/plain": [
       "4    351\n",
       "5    135\n",
       "2     96\n",
       "1     92\n",
       "0     85\n",
       "3     41\n",
       "Name: target_encoded, dtype: int64"
      ]
     },
     "execution_count": 25,
     "metadata": {},
     "output_type": "execute_result"
    }
   ],
   "source": [
    "filtered_df_split['target_encoded'].value_counts()"
   ]
  },
  {
   "cell_type": "code",
   "execution_count": 26,
   "metadata": {
    "colab": {
     "base_uri": "https://localhost:8080/",
     "height": 452
    },
    "id": "A1TEiiaQBIPv",
    "outputId": "2e1473f6-78c0-48c1-d0c3-6287aa86046d"
   },
   "outputs": [
    {
     "data": {
      "image/png": "[encoded data removed]",
      "text/plain": [
       "<Figure size 640x480 with 1 Axes>"
      ]
     },
     "metadata": {},
     "output_type": "display_data"
    }
   ],
   "source": [
    "filtered_df_split['target_encoded'].plot(kind='hist', bins=20, title='target_encoded') # df_split\n",
    "plt.gca().spines[['top', 'right',]].set_visible(False)"
   ]
  },
  {
   "cell_type": "markdown",
   "metadata": {
    "id": "v3-GA54G9qEK"
   },
   "source": [
    "### train-test-split"
   ]
  },
  {
   "cell_type": "code",
   "execution_count": 29,
   "metadata": {
    "colab": {
     "base_uri": "https://localhost:8080/"
    },
    "id": "F1MSxZn94mGJ",
    "outputId": "0d5706c7-054f-4092-c1bb-3dcd3c2340ef"
   },
   "outputs": [
    {
     "data": {
      "text/plain": [
       "((640, 1), (160, 1), (640,), (160,))"
      ]
     },
     "execution_count": 29,
     "metadata": {},
     "output_type": "execute_result"
    }
   ],
   "source": [
    "# changes were made for smaller array for smaller array\n",
    "X = filtered_df_split.drop('target_encoded', axis=1) # df_split\n",
    "y = filtered_df_split['target_encoded'] # df_split\n",
    "\n",
    "X_train, X_test, y_train, y_test = train_test_split(X, y, test_size=0.2, random_state=42)\n",
    "X_train.shape, X_test.shape, y_train.shape, y_test.shape"
   ]
  },
  {
   "cell_type": "code",
   "execution_count": 30,
   "metadata": {
    "id": "2b_MtGDBDYAt"
   },
   "outputs": [],
   "source": [
    "# changes were made for smaller array for smaller array\n",
    "train_dataframes = {spectrogram_id: random_dataframes_subset[spectrogram_id] for spectrogram_id in X_train['spectrogram_id']} # dataframes\n",
    "test_dataframes = {spectrogram_id: random_dataframes_subset[spectrogram_id] for spectrogram_id in X_test['spectrogram_id']} # dataframes"
   ]
  },
  {
   "cell_type": "code",
   "execution_count": 31,
   "metadata": {
    "colab": {
     "base_uri": "https://localhost:8080/"
    },
    "id": "bgTzbU0U4mYn",
    "outputId": "4976fd96-a01e-4856-95b4-1f744d58dce0"
   },
   "outputs": [
    {
     "data": {
      "text/plain": [
       "(640, 160)"
      ]
     },
     "execution_count": 31,
     "metadata": {},
     "output_type": "execute_result"
    }
   ],
   "source": [
    "len(train_dataframes.keys()),len(test_dataframes.keys())"
   ]
  },
  {
   "cell_type": "markdown",
   "metadata": {
    "id": "hjMvoncHI8hQ"
   },
   "source": [
    "### Preprocessing"
   ]
  },
  {
   "cell_type": "code",
   "execution_count": 34,
   "metadata": {
    "id": "WhNoOaAH_xO6"
   },
   "outputs": [],
   "source": [
    "def impute_with_mean(df):\n",
    "    \"\"\"Impute missing values with the mean of the column.\"\"\"\n",
    "    return df.fillna(df.mean())"
   ]
  },
  {
   "cell_type": "code",
   "execution_count": 35,
   "metadata": {
    "id": "oP6zTjwN_xd6"
   },
   "outputs": [],
   "source": [
    "# if impute with zeros\n",
    "# def impute_with_zero(df):\n",
    "#     \"\"\"Impute missing values with 0.\"\"\"\n",
    "#     return df.fillna(0)"
   ]
  },
  {
   "cell_type": "code",
   "execution_count": 36,
   "metadata": {
    "id": "SdFGO11U_xrV"
   },
   "outputs": [],
   "source": [
    "def flatten_dataframe(df):\n",
    "    \"\"\"Flatten the DataFrame to a 1D array.\"\"\"\n",
    "    return df.values.flatten()"
   ]
  },
  {
   "cell_type": "code",
   "execution_count": 39,
   "metadata": {
    "colab": {
     "base_uri": "https://localhost:8080/"
    },
    "id": "eCIcmaO3MCxb",
    "outputId": "90fa8f6f-3f12-43cc-8b29-000b99db9673"
   },
   "outputs": [
    {
     "name": "stderr",
     "output_type": "stream",
     "text": [
      "Processing DataFrames: 100%|██████████| 640/640 [01:39<00:00,  6.45it/s]\n",
      "Processing DataFrames: 100%|██████████| 160/160 [00:24<00:00,  6.64it/s]\n"
     ]
    }
   ],
   "source": [
    "def process_dataframes_with_tqdm(dataframes_dict, impute_func):\n",
    "    \"\"\"Process the given dictionary of dataframes with the specified imputation function and flatten them, with progress indicated by tqdm.\"\"\"\n",
    "    processed_data = {}\n",
    "    for spectrogram_id, df in tqdm(dataframes_dict.items(), desc=\"Processing DataFrames\"):\n",
    "        # Impute missing values\n",
    "        imputed_df = impute_func(df)\n",
    "        # Flatten the DataFrame to a 1D array\n",
    "        flattened_array = flatten_dataframe(imputed_df)\n",
    "        # Store the flattened array in the dictionary\n",
    "        processed_data[spectrogram_id] = flattened_array\n",
    "    return processed_data\n",
    "\n",
    "# Apply the processing to train_dataframes and test_dataframes\n",
    "train_data_processed = process_dataframes_with_tqdm(train_dataframes, impute_with_mean)\n",
    "test_data_processed = process_dataframes_with_tqdm(test_dataframes, impute_with_mean)"
   ]
  },
  {
   "cell_type": "code",
   "execution_count": 42,
   "metadata": {
    "colab": {
     "base_uri": "https://localhost:8080/"
    },
    "id": "ehQWRgcxYLI-",
    "outputId": "24cf2540-a332-4937-9c8d-5d5bcf549729"
   },
   "outputs": [
    {
     "data": {
      "text/plain": [
       "(640, 160)"
      ]
     },
     "execution_count": 42,
     "metadata": {},
     "output_type": "execute_result"
    }
   ],
   "source": [
    "len(train_data_processed.keys()),len(test_data_processed.keys())"
   ]
  },
  {
   "cell_type": "code",
   "execution_count": 45,
   "metadata": {
    "id": "avS21oFp_yVI"
   },
   "outputs": [],
   "source": [
    "list_order_X_train = list(X_train['spectrogram_id']) # if bug occur list_order_X_train = list(X_train) \n",
    "list_order_X_test = list(X_test['spectrogram_id']) # if bug occur # list_order_X_test = list(X_test)"
   ]
  },
  {
   "cell_type": "code",
   "execution_count": 46,
   "metadata": {
    "id": "zTn9DxRvL6b1"
   },
   "outputs": [],
   "source": [
    "def convert_dict_to_dataframe(processed_data, order=None):\n",
    "    \"\"\"Converts processed data dictionary to a DataFrame and optionally orders the DataFrame based on the given order list.\"\"\"\n",
    "    data_list = [(k, v) for k, v in processed_data.items()]\n",
    "\n",
    "    if order is not None:\n",
    "        data_list = sorted(data_list, key=lambda x: order.index(x[0]))\n",
    "\n",
    "    processed_df = pd.DataFrame(data_list, columns=['spectrogram_id', 'flattened_array'])\n",
    "    flattened_df = pd.DataFrame(processed_df['flattened_array'].tolist())\n",
    "    flattened_df['spectrogram_id'] = processed_df['spectrogram_id']\n",
    "\n",
    "    return flattened_df\n",
    "\n",
    "train_data_df = convert_dict_to_dataframe(train_data_processed, order=list_order_X_train)\n",
    "test_data_df = convert_dict_to_dataframe(test_data_processed, order=list_order_X_test)"
   ]
  },
  {
   "cell_type": "code",
   "execution_count": null,
   "metadata": {},
   "outputs": [],
   "source": [
    "# del train_data_processed, \n",
    "# del test_data_processed\n",
    "# gc.collect()"
   ]
  },
  {
   "cell_type": "code",
   "execution_count": 48,
   "metadata": {
    "colab": {
     "base_uri": "https://localhost:8080/"
    },
    "id": "CS8Fb73YL5e2",
    "outputId": "dc701912-aea1-407e-e3aa-7b36b2a20451"
   },
   "outputs": [
    {
     "data": {
      "text/plain": [
       "(640, 120001)"
      ]
     },
     "execution_count": 48,
     "metadata": {},
     "output_type": "execute_result"
    }
   ],
   "source": [
    "train_data_df.shape"
   ]
  },
  {
   "cell_type": "code",
   "execution_count": 51,
   "metadata": {
    "id": "JY2TrqfQdV8i"
   },
   "outputs": [],
   "source": [
    "train_data_features = train_data_df.drop('spectrogram_id', axis=1)\n",
    "test_data_features = test_data_df.drop('spectrogram_id', axis=1)"
   ]
  },
  {
   "cell_type": "code",
   "execution_count": 52,
   "metadata": {
    "colab": {
     "base_uri": "https://localhost:8080/",
     "height": 904
    },
    "id": "arnVoOrjcDeO",
    "outputId": "be1f7d11-c5d3-4df2-eb63-829930a96c2c"
   },
   "outputs": [
    {
     "name": "stdout",
     "output_type": "stream",
     "text": [
      "Accuracy with random forest all components: 0.5875\n",
      "Classification Report with random forest all components:\n",
      "               precision    recall  f1-score   support\n",
      "\n",
      "           0       0.64      0.50      0.56        18\n",
      "           1       0.00      0.00      0.00        12\n",
      "           2       0.50      0.12      0.19        17\n",
      "           3       0.00      0.00      0.00         8\n",
      "           4       0.61      0.86      0.71        80\n",
      "           5       0.54      0.56      0.55        25\n",
      "\n",
      "    accuracy                           0.59       160\n",
      "   macro avg       0.38      0.34      0.34       160\n",
      "weighted avg       0.51      0.59      0.52       160\n",
      "\n"
     ]
    },
    {
     "name": "stderr",
     "output_type": "stream",
     "text": [
      "/usr/local/lib/python3.10/dist-packages/sklearn/metrics/_classification.py:1344: UndefinedMetricWarning: Precision and F-score are ill-defined and being set to 0.0 in labels with no predicted samples. Use `zero_division` parameter to control this behavior.\n",
      "  _warn_prf(average, modifier, msg_start, len(result))\n",
      "/usr/local/lib/python3.10/dist-packages/sklearn/metrics/_classification.py:1344: UndefinedMetricWarning: Precision and F-score are ill-defined and being set to 0.0 in labels with no predicted samples. Use `zero_division` parameter to control this behavior.\n",
      "  _warn_prf(average, modifier, msg_start, len(result))\n",
      "/usr/local/lib/python3.10/dist-packages/sklearn/metrics/_classification.py:1344: UndefinedMetricWarning: Precision and F-score are ill-defined and being set to 0.0 in labels with no predicted samples. Use `zero_division` parameter to control this behavior.\n",
      "  _warn_prf(average, modifier, msg_start, len(result))\n"
     ]
    },
    {
     "name": "stdout",
     "output_type": "stream",
     "text": [
      "\n",
      "Log Loss with random forest all components: 1.2522791827580302\n",
      "\n"
     ]
    },
    {
     "data": {
      "image/png": "[encoded data removed]",
      "text/plain": [
       "<Figure size 640x480 with 2 Axes>"
      ]
     },
     "metadata": {},
     "output_type": "display_data"
    }
   ],
   "source": [
    "rf_classifier = RandomForestClassifier(n_estimators=100, random_state=42)\n",
    "rf_classifier.fit(train_data_features, y_train)\n",
    "y_pred = rf_classifier.predict(test_data_features)\n",
    "\n",
    "accuracy = accuracy_score(y_test, y_pred)\n",
    "print(f\"Accuracy with random forest all components: {accuracy}\")\n",
    "\n",
    "report = classification_report(y_test, y_pred)\n",
    "print(\"Classification Report with random forest all components:\\n\", report)\n",
    "\n",
    "y_probs = rf_classifier.predict_proba(test_data_features)\n",
    "logloss = log_loss(y_test, y_probs)\n",
    "print(f\"\\nLog Loss with random forest all components: {logloss}\\n\")\n",
    "\n",
    "conf_matrix = confusion_matrix(y_test, y_pred)\n",
    "sns.heatmap(conf_matrix, annot=True, fmt=\"d\")\n",
    "plt.title(\"Confusion Matrix with random forest all components\")\n",
    "plt.xlabel(\"Predicted Label\")\n",
    "plt.ylabel(\"True Label\")\n",
    "plt.show()"
   ]
  },
  {
   "cell_type": "markdown",
   "metadata": {},
   "source": [
    "#### crushing the program (XGBoost without PCA)"
   ]
  },
  {
   "cell_type": "code",
   "execution_count": null,
   "metadata": {
    "id": "D4YICYEVoBRO"
   },
   "outputs": [],
   "source": [
    "# xgb_classifier_pca = XGBClassifier(n_estimators=100, random_state=42, use_label_encoder=False, eval_metric='mlogloss')\n",
    "\n",
    "# xgb_classifier_pca.fit(train_data_features, y_train)\n",
    "\n",
    "# y_pred = xgb_classifier_pca.predict(test_data_features)\n",
    "\n",
    "# accuracy_pca = accuracy_score(y_test, y_pred)\n",
    "# print(f\"Accuracy with XGBoost  all components: {accuracy_pca}\")\n",
    "\n",
    "# report_pca = classification_report(y_test, y_pred)\n",
    "# print(\"Classification Report with XGBoost  all components:\\n\", report_pca)\n",
    "\n",
    "# y_probs = xgb_classifier_pca.predict_proba(test_data_features)\n",
    "\n",
    "# logloss = log_loss(y_test, y_probs)\n",
    "# print(f\"Log Loss with XGBoost  all components: {logloss}\")\n",
    "\n",
    "# conf_matrix = confusion_matrix(y_test, y_pred)\n",
    "# sns.heatmap(conf_matrix, annot=True, fmt=\"d\")\n",
    "# plt.title(\"Confusion Matrix with XGBoost  all components\")\n",
    "# plt.xlabel(\"Predicted Label\")\n",
    "# plt.ylabel(\"True Label\")\n",
    "# plt.show()"
   ]
  },
  {
   "cell_type": "markdown",
   "metadata": {
    "id": "KYbCDGEBfbu-"
   },
   "source": [
    "### pca"
   ]
  },
  {
   "cell_type": "code",
   "execution_count": 54,
   "metadata": {
    "colab": {
     "base_uri": "https://localhost:8080/",
     "height": 1000
    },
    "id": "pw4sxnggfYnQ",
    "outputId": "8a1ab430-9bf5-4ef6-8f1c-642c798a35e9",
    "scrolled": false
   },
   "outputs": [
    {
     "data": {
      "image/png": "[encoded data removed]",
      "text/plain": [
       "<Figure size 1000x600 with 1 Axes>"
      ]
     },
     "metadata": {},
     "output_type": "display_data"
    },
    {
     "name": "stdout",
     "output_type": "stream",
     "text": [
      "Explained variance ratio per component:\n",
      "Component 1: 23.5160%\n",
      "Component 2: 13.0887%\n",
      "Component 3: 8.5303%\n",
      "Component 4: 7.6593%\n",
      "Component 5: 6.8445%\n",
      "Component 6: 6.0326%\n",
      "Component 7: 3.4436%\n",
      "Component 8: 3.0924%\n",
      "Component 9: 2.4263%\n",
      "Component 10: 2.2760%\n",
      "Component 11: 1.8769%\n",
      "Component 12: 1.6150%\n",
      "Component 13: 1.1931%\n",
      "Component 14: 1.0574%\n",
      "Component 15: 0.9944%\n",
      "Component 16: 0.9251%\n",
      "Component 17: 0.8698%\n",
      "Component 18: 0.8157%\n",
      "Component 19: 0.8038%\n",
      "Component 20: 0.7934%\n",
      "Component 21: 0.7767%\n",
      "Component 22: 0.7336%\n",
      "Component 23: 0.7265%\n",
      "Component 24: 0.7069%\n",
      "Component 25: 0.6674%\n",
      "Component 26: 0.6649%\n",
      "Component 27: 0.5483%\n",
      "Component 28: 0.5472%\n",
      "Component 29: 0.5308%\n",
      "Component 30: 0.5159%\n",
      "Component 31: 0.4413%\n",
      "Component 32: 0.4052%\n",
      "Component 33: 0.3810%\n",
      "Component 34: 0.3416%\n",
      "Component 35: 0.2951%\n",
      "Component 36: 0.2803%\n",
      "Component 37: 0.2769%\n",
      "Component 38: 0.2535%\n",
      "Component 39: 0.2326%\n",
      "Component 40: 0.2272%\n",
      "Component 41: 0.2115%\n",
      "Component 42: 0.2055%\n",
      "Component 43: 0.2010%\n",
      "Component 44: 0.1999%\n",
      "Component 45: 0.1701%\n",
      "Component 46: 0.1619%\n",
      "Component 47: 0.1193%\n",
      "Component 48: 0.1156%\n",
      "Component 49: 0.1133%\n",
      "Component 50: 0.1118%\n",
      "Component 51: 0.1059%\n",
      "Component 52: 0.0989%\n",
      "Component 53: 0.0816%\n",
      "Component 54: 0.0690%\n",
      "Component 55: 0.0598%\n",
      "Component 56: 0.0548%\n",
      "Component 57: 0.0545%\n",
      "Component 58: 0.0519%\n",
      "Component 59: 0.0447%\n",
      "Component 60: 0.0432%\n",
      "Component 61: 0.0313%\n",
      "Component 62: 0.0304%\n",
      "Component 63: 0.0257%\n",
      "Component 64: 0.0220%\n",
      "Component 65: 0.0209%\n",
      "Component 66: 0.0183%\n",
      "Component 67: 0.0178%\n",
      "Component 68: 0.0161%\n",
      "Component 69: 0.0144%\n",
      "Component 70: 0.0140%\n",
      "Component 71: 0.0135%\n",
      "Component 72: 0.0129%\n",
      "Component 73: 0.0122%\n",
      "Component 74: 0.0105%\n",
      "Component 75: 0.0077%\n",
      "Component 76: 0.0057%\n",
      "Component 77: 0.0045%\n",
      "Component 78: 0.0043%\n",
      "Component 79: 0.0041%\n",
      "Component 80: 0.0040%\n",
      "Component 81: 0.0034%\n",
      "Component 82: 0.0033%\n",
      "Component 83: 0.0029%\n",
      "Component 84: 0.0028%\n",
      "Component 85: 0.0023%\n",
      "Component 86: 0.0015%\n",
      "Component 87: 0.0014%\n",
      "Component 88: 0.0014%\n",
      "Component 89: 0.0012%\n",
      "Component 90: 0.0012%\n",
      "Component 91: 0.0011%\n",
      "Component 92: 0.0009%\n",
      "Component 93: 0.0006%\n",
      "Component 94: 0.0006%\n",
      "Component 95: 0.0005%\n",
      "Component 96: 0.0005%\n",
      "Component 97: 0.0004%\n",
      "Component 98: 0.0004%\n",
      "Component 99: 0.0004%\n",
      "Component 100: 0.0003%\n",
      "\n",
      "Cumulative explained variance by 100 components: 99.9985%\n"
     ]
    }
   ],
   "source": [
    "# visualise only 100  copmponents\n",
    "\n",
    "from sklearn.decomposition import PCA\n",
    "n_components = 100\n",
    "\n",
    "pca = PCA(n_components=n_components)\n",
    "pca.fit(train_data_features)\n",
    "pca_components = pca.transform(train_data_features)\n",
    "\n",
    "explained_variance_ratio = pca.explained_variance_ratio_\n",
    "\n",
    "cumulative_explained_variance = np.cumsum(explained_variance_ratio)\n",
    "\n",
    "plt.figure(figsize=(10, 6))\n",
    "plt.plot(range(1, n_components + 1), cumulative_explained_variance, marker='o', linestyle='--')\n",
    "plt.title('Cumulative Explained Variance by 100 PCA Components')\n",
    "plt.xlabel('Number of Components')\n",
    "plt.ylabel('Cumulative Explained Variance')\n",
    "plt.grid(True)\n",
    "plt.show()\n",
    "\n",
    "print(\"Explained variance ratio per component:\")\n",
    "for i, variance in enumerate(explained_variance_ratio, start=1):\n",
    "    variance_in_percentage = variance * 100\n",
    "    print(f\"Component {i}: {variance_in_percentage:.4f}%\")\n",
    "cumulative_explained_variance *= 100\n",
    "print(f\"\\nCumulative explained variance by {n_components} components: {cumulative_explained_variance[-1]:.4f}%\")"
   ]
  },
  {
   "cell_type": "code",
   "execution_count": 55,
   "metadata": {
    "colab": {
     "base_uri": "https://localhost:8080/"
    },
    "id": "08Qj7WFygVQl",
    "outputId": "317d1162-ad8d-4dab-da6c-f4ea339846a8"
   },
   "outputs": [
    {
     "name": "stdout",
     "output_type": "stream",
     "text": [
      "Cumulative explained variance of top 40 components: 97.4072%\n"
     ]
    }
   ],
   "source": [
    "top_components = 40\n",
    "print(f\"Cumulative explained variance of top {top_components} components: {cumulative_explained_variance[top_components - 1]:.4f}%\")\n"
   ]
  },
  {
   "cell_type": "code",
   "execution_count": 56,
   "metadata": {
    "id": "3Eoup1_Kh_qx"
   },
   "outputs": [],
   "source": [
    "pca_train_components = pca.transform(train_data_features)[:, :top_components]\n",
    "pca_test_components = pca.transform(test_data_features)[:, :top_components]\n",
    "X_train_selected_pca = pca_train_components\n",
    "X_test_selected_pca = pca_test_components"
   ]
  },
  {
   "cell_type": "code",
   "execution_count": 57,
   "metadata": {
    "colab": {
     "base_uri": "https://localhost:8080/"
    },
    "id": "GpIWMQb-jUPq",
    "outputId": "b5124c1f-007d-4cc5-f936-db11f17a1562"
   },
   "outputs": [
    {
     "data": {
      "text/plain": [
       "(160, 120000)"
      ]
     },
     "execution_count": 57,
     "metadata": {},
     "output_type": "execute_result"
    }
   ],
   "source": [
    "test_data_features.shape"
   ]
  },
  {
   "cell_type": "code",
   "execution_count": 58,
   "metadata": {
    "colab": {
     "base_uri": "https://localhost:8080/"
    },
    "id": "KRjVcF4pi-ic",
    "outputId": "a1be865e-d868-4ed4-f7fa-83ea39f56cd9"
   },
   "outputs": [
    {
     "data": {
      "text/plain": [
       "((640, 40), (160, 40))"
      ]
     },
     "execution_count": 58,
     "metadata": {},
     "output_type": "execute_result"
    }
   ],
   "source": [
    "X_train_selected_pca.shape,X_test_selected_pca.shape"
   ]
  },
  {
   "cell_type": "code",
   "execution_count": 59,
   "metadata": {
    "colab": {
     "base_uri": "https://localhost:8080/",
     "height": 868
    },
    "id": "SttmlhlccGWx",
    "outputId": "a665bf40-a52a-4606-fe6d-5ebb04afdda3"
   },
   "outputs": [
    {
     "name": "stdout",
     "output_type": "stream",
     "text": [
      "Accuracy with PCA RandomForest components: 0.5375\n",
      "Classification Report with PCA RandomForest components:\n",
      "               precision    recall  f1-score   support\n",
      "\n",
      "           0       0.43      0.33      0.38        18\n",
      "           1       0.25      0.08      0.12        12\n",
      "           2       0.62      0.29      0.40        17\n",
      "           3       0.00      0.00      0.00         8\n",
      "           4       0.56      0.91      0.70        80\n",
      "           5       0.25      0.04      0.07        25\n",
      "\n",
      "    accuracy                           0.54       160\n",
      "   macro avg       0.35      0.28      0.28       160\n",
      "weighted avg       0.45      0.54      0.45       160\n",
      "\n",
      "Log Loss with randomforest PCA  components: 1.4059565046404496\n"
     ]
    },
    {
     "name": "stderr",
     "output_type": "stream",
     "text": [
      "/usr/local/lib/python3.10/dist-packages/sklearn/metrics/_classification.py:1344: UndefinedMetricWarning: Precision and F-score are ill-defined and being set to 0.0 in labels with no predicted samples. Use `zero_division` parameter to control this behavior.\n",
      "  _warn_prf(average, modifier, msg_start, len(result))\n",
      "/usr/local/lib/python3.10/dist-packages/sklearn/metrics/_classification.py:1344: UndefinedMetricWarning: Precision and F-score are ill-defined and being set to 0.0 in labels with no predicted samples. Use `zero_division` parameter to control this behavior.\n",
      "  _warn_prf(average, modifier, msg_start, len(result))\n",
      "/usr/local/lib/python3.10/dist-packages/sklearn/metrics/_classification.py:1344: UndefinedMetricWarning: Precision and F-score are ill-defined and being set to 0.0 in labels with no predicted samples. Use `zero_division` parameter to control this behavior.\n",
      "  _warn_prf(average, modifier, msg_start, len(result))\n"
     ]
    },
    {
     "data": {
      "image/png": "[encoded data removed]",
      "text/plain": [
       "<Figure size 640x480 with 2 Axes>"
      ]
     },
     "metadata": {},
     "output_type": "display_data"
    }
   ],
   "source": [
    "rf_classifier_pca = RandomForestClassifier(n_estimators=100, random_state=42)\n",
    "rf_classifier_pca.fit(X_train_selected_pca, y_train)\n",
    "y_pred_pca = rf_classifier_pca.predict(X_test_selected_pca)\n",
    "\n",
    "accuracy_pca = accuracy_score(y_test, y_pred_pca)\n",
    "print(f\"Accuracy with PCA RandomForest components: {accuracy_pca}\")\n",
    "\n",
    "report_pca = classification_report(y_test, y_pred_pca)\n",
    "print(\"Classification Report with PCA RandomForest components:\\n\", report_pca)\n",
    "\n",
    "y_probs_pca = rf_classifier_pca.predict_proba(X_test_selected_pca)\n",
    "\n",
    "logloss_pca = log_loss(y_test, y_probs_pca)\n",
    "print(f\"Log Loss with randomforest PCA  components: {logloss_pca}\")\n",
    "\n",
    "conf_matrix = confusion_matrix(y_test, y_pred_pca)\n",
    "sns.heatmap(conf_matrix, annot=True, fmt=\"d\")\n",
    "plt.title(\"Confusion Matrix with PCA RandomForest components\")\n",
    "plt.xlabel(\"Predicted Label\")\n",
    "plt.ylabel(\"True Label\")\n",
    "plt.show()"
   ]
  },
  {
   "cell_type": "code",
   "execution_count": 60,
   "metadata": {
    "colab": {
     "base_uri": "https://localhost:8080/",
     "height": 760
    },
    "id": "PmdGjmmTcHFt",
    "outputId": "e65ebd45-729f-435d-f030-b33b3378c53d"
   },
   "outputs": [
    {
     "name": "stdout",
     "output_type": "stream",
     "text": [
      "Accuracy with PCA XGBoost components: 0.4375\n",
      "Classification Report with PCA XGBoost components:\n",
      "               precision    recall  f1-score   support\n",
      "\n",
      "           0       0.35      0.33      0.34        18\n",
      "           1       0.27      0.25      0.26        12\n",
      "           2       0.17      0.12      0.14        17\n",
      "           3       0.00      0.00      0.00         8\n",
      "           4       0.57      0.70      0.63        80\n",
      "           5       0.17      0.12      0.14        25\n",
      "\n",
      "    accuracy                           0.44       160\n",
      "   macro avg       0.25      0.25      0.25       160\n",
      "weighted avg       0.39      0.44      0.41       160\n",
      "\n",
      "Log Loss with XGBoost  PCA components: 1.950825586102026\n"
     ]
    },
    {
     "data": {
      "image/png": "[encoded data removed]",
      "text/plain": [
       "<Figure size 640x480 with 2 Axes>"
      ]
     },
     "metadata": {},
     "output_type": "display_data"
    }
   ],
   "source": [
    "xgb_classifier_pca = XGBClassifier(n_estimators=100, random_state=42, use_label_encoder=False, eval_metric='mlogloss')\n",
    "\n",
    "xgb_classifier_pca.fit(X_train_selected_pca, y_train)\n",
    "\n",
    "y_pred_pca = xgb_classifier_pca.predict(X_test_selected_pca)\n",
    "\n",
    "accuracy_pca = accuracy_score(y_test, y_pred_pca)\n",
    "print(f\"Accuracy with PCA XGBoost components: {accuracy_pca}\")\n",
    "\n",
    "report_pca = classification_report(y_test, y_pred_pca)\n",
    "print(\"Classification Report with PCA XGBoost components:\\n\", report_pca)\n",
    "\n",
    "y_probs_pca = xgb_classifier_pca.predict_proba(X_test_selected_pca)\n",
    "\n",
    "logloss_pca = log_loss(y_test, y_probs_pca)\n",
    "print(f\"Log Loss with XGBoost  PCA components: {logloss_pca}\")\n",
    "\n",
    "conf_matrix = confusion_matrix(y_test, y_pred_pca)\n",
    "sns.heatmap(conf_matrix, annot=True, fmt=\"d\")\n",
    "plt.title(\"Confusion Matrix\")\n",
    "plt.xlabel(\"Predicted Label\")\n",
    "plt.ylabel(\"True Label\")\n",
    "plt.show()\n"
   ]
  },
  {
   "cell_type": "markdown",
   "metadata": {},
   "source": [
    "### current problems:\n",
    " - too many smaples crush the program.\n",
    " - XGBoost without PCA crush the program.\n",
    " - doing sample which are sub_spectogram_id == 0 weren't tried here, at former runs they were better, furhter adjustment to\n",
    "   load_spectrograms is necessary for that.\n",
    " - maybe combining  the functions: process_dataframes_with_tqdm  & convert_dict_to_dataframe  will make the program ligher.    and less memory problems.\n",
    " - the entire dataset is 106800 (different spectpgrams) X 300 (rows) X 400(cols)...other processing solution is required"
   ]
  }
 ],
 "metadata": {
  "colab": {
   "provenance": []
  },
  "kernelspec": {
   "display_name": "Python 3 (ipykernel)",
   "language": "python",
   "name": "python3"
  },
  "language_info": {
   "codemirror_mode": {
    "name": "ipython",
    "version": 3
   },
   "file_extension": ".py",
   "mimetype": "text/x-python",
   "name": "python",
   "nbconvert_exporter": "python",
   "pygments_lexer": "ipython3",
   "version": "3.11.5"
  }
 },
 "nbformat": 4,
 "nbformat_minor": 1
}
