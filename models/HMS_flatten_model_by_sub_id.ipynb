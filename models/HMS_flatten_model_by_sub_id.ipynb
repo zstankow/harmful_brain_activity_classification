{
 "cells": [
  {
   "cell_type": "markdown",
   "metadata": {
    "id": "_RrvJ4kQ4LEr"
   },
   "source": [
    "## Flatten Model by spectrogram_sub_id"
   ]
  },
  {
   "cell_type": "markdown",
   "metadata": {
    "id": "Ec8vTVeq4S4b"
   },
   "source": [
    "### imports"
   ]
  },
  {
   "cell_type": "code",
   "execution_count": 1,
   "metadata": {
    "id": "xsqEJZQ432YS"
   },
   "outputs": [],
   "source": [
    "import matplotlib.pyplot as plt\n",
    "import seaborn as sns\n",
    "import pandas as pd\n",
    "import numpy as np\n",
    "from sklearn.preprocessing import LabelEncoder\n",
    "from sklearn.model_selection import train_test_split\n",
    "from sklearn.ensemble import RandomForestClassifier\n",
    "from sklearn.metrics import accuracy_score, classification_report, log_loss\n",
    "from sklearn.metrics import confusion_matrix\n",
    "from tqdm import tqdm\n",
    "import time\n",
    "from xgboost import XGBClassifier\n",
    "\n",
    "import os, gc\n",
    "os.environ[\"CUDA_VISIBLE_DEVICES\"]=\"0,1\""
   ]
  },
  {
   "cell_type": "code",
   "execution_count": 2,
   "metadata": {
    "colab": {
     "base_uri": "https://localhost:8080/"
    },
    "id": "nI1N4mBr4NmG",
    "outputId": "d5a2f636-9ba3-442d-8858-d19a1de5fec2"
   },
   "outputs": [
    {
     "name": "stdout",
     "output_type": "stream",
     "text": [
      "Drive already mounted at /content/drive; to attempt to forcibly remount, call drive.mount(\"/content/drive\", force_remount=True).\n"
     ]
    }
   ],
   "source": [
    "from google.colab import drive\n",
    "drive.mount('/content/drive')"
   ]
  },
  {
   "cell_type": "markdown",
   "metadata": {
    "id": "D4kSvI9C43Zi"
   },
   "source": [
    "### train.csv"
   ]
  },
  {
   "cell_type": "code",
   "execution_count": 3,
   "metadata": {
    "id": "f6R89_V54g9o"
   },
   "outputs": [],
   "source": [
    "train_file_path = '/content/drive/My Drive/HMS/train.csv'"
   ]
  },
  {
   "cell_type": "code",
   "execution_count": 4,
   "metadata": {
    "id": "bU3SjPqZ4hJB"
   },
   "outputs": [],
   "source": [
    "df = pd.read_csv(train_file_path)"
   ]
  },
  {
   "cell_type": "code",
   "execution_count": 5,
   "metadata": {
    "colab": {
     "base_uri": "https://localhost:8080/"
    },
    "id": "vBvFJnSe4ib7",
    "outputId": "f742a825-6ef5-4da8-a6f5-f80cd2b22fe7"
   },
   "outputs": [
    {
     "data": {
      "text/plain": [
       "(106800, 15)"
      ]
     },
     "execution_count": 5,
     "metadata": {},
     "output_type": "execute_result"
    }
   ],
   "source": [
    "df.shape"
   ]
  },
  {
   "cell_type": "code",
   "execution_count": 6,
   "metadata": {
    "colab": {
     "base_uri": "https://localhost:8080/"
    },
    "id": "7uYazB8-4ion",
    "outputId": "21b71097-156d-4168-d79a-7ab9c6856d80"
   },
   "outputs": [
    {
     "data": {
      "text/plain": [
       "Index(['eeg_id', 'eeg_sub_id', 'eeg_label_offset_seconds', 'spectrogram_id',\n",
       "       'spectrogram_sub_id', 'spectrogram_label_offset_seconds', 'label_id',\n",
       "       'patient_id', 'expert_consensus', 'seizure_vote', 'lpd_vote',\n",
       "       'gpd_vote', 'lrda_vote', 'grda_vote', 'other_vote'],\n",
       "      dtype='object')"
      ]
     },
     "execution_count": 6,
     "metadata": {},
     "output_type": "execute_result"
    }
   ],
   "source": [
    "df.columns"
   ]
  },
  {
   "cell_type": "code",
   "execution_count": 7,
   "metadata": {
    "colab": {
     "base_uri": "https://localhost:8080/"
    },
    "id": "zzLSoOhR4i34",
    "outputId": "b83304ad-1b3e-4ce9-9290-6b245c5266ad"
   },
   "outputs": [
    {
     "data": {
      "text/plain": [
       "Seizure    20933\n",
       "GRDA       18861\n",
       "Other      18808\n",
       "GPD        16702\n",
       "LRDA       16640\n",
       "LPD        14856\n",
       "Name: expert_consensus, dtype: int64"
      ]
     },
     "execution_count": 7,
     "metadata": {},
     "output_type": "execute_result"
    }
   ],
   "source": [
    "df['expert_consensus'].value_counts()"
   ]
  },
  {
   "cell_type": "code",
   "execution_count": 8,
   "metadata": {
    "colab": {
     "base_uri": "https://localhost:8080/"
    },
    "id": "wBYEMRY15vTG",
    "outputId": "0d46f3bb-eebd-44b4-923a-d157f986e553"
   },
   "outputs": [
    {
     "name": "stdout",
     "output_type": "stream",
     "text": [
      "Other      4699\n",
      "Seizure    2045\n",
      "GRDA       1422\n",
      "LPD        1284\n",
      "GPD        1025\n",
      "LRDA        663\n",
      "Name: expert_consensus, dtype: int64\n"
     ]
    }
   ],
   "source": [
    "filtered_df = df[df['spectrogram_sub_id'] == 0]\n",
    "value_counts = filtered_df['expert_consensus'].value_counts()\n",
    "print(value_counts)"
   ]
  },
  {
   "cell_type": "code",
   "execution_count": 9,
   "metadata": {
    "id": "KbXyZQ34JS5s"
   },
   "outputs": [],
   "source": [
    "le = LabelEncoder()\n",
    "\n",
    "df['target_encoded'] = le.fit_transform(df['expert_consensus']) "
   ]
  },
  {
   "cell_type": "code",
   "execution_count": 10,
   "metadata": {
    "colab": {
     "base_uri": "https://localhost:8080/",
     "height": 452
    },
    "id": "O_z4UP8XCzCb",
    "outputId": "3ed00e2a-3623-4ec2-d784-4366a402e98b"
   },
   "outputs": [
    {
     "name": "stdout",
     "output_type": "stream",
     "text": [
      "(106800, 5)\n",
      "Index(['spectrogram_id', 'spectrogram_sub_id',\n",
      "       'spectrogram_label_offset_seconds', 'target_encoded',\n",
      "       'spectrogram_name'],\n",
      "      dtype='object')\n"
     ]
    },
    {
     "data": {
      "application/vnd.google.colaboratory.intrinsic+json": {
       "type": "dataframe",
       "variable_name": "df_spec_and_sub"
      },
      "text/html": [
       "\n",
       "  <div id=\"df-d4ec188e-8759-4d28-b6bd-ce9aaaf27a29\" class=\"colab-df-container\">\n",
       "    <div>\n",
       "<style scoped>\n",
       "    .dataframe tbody tr th:only-of-type {\n",
       "        vertical-align: middle;\n",
       "    }\n",
       "\n",
       "    .dataframe tbody tr th {\n",
       "        vertical-align: top;\n",
       "    }\n",
       "\n",
       "    .dataframe thead th {\n",
       "        text-align: right;\n",
       "    }\n",
       "</style>\n",
       "<table border=\"1\" class=\"dataframe\">\n",
       "  <thead>\n",
       "    <tr style=\"text-align: right;\">\n",
       "      <th></th>\n",
       "      <th>spectrogram_id</th>\n",
       "      <th>spectrogram_sub_id</th>\n",
       "      <th>spectrogram_label_offset_seconds</th>\n",
       "      <th>target_encoded</th>\n",
       "      <th>spectrogram_name</th>\n",
       "    </tr>\n",
       "  </thead>\n",
       "  <tbody>\n",
       "    <tr>\n",
       "      <th>0</th>\n",
       "      <td>353733</td>\n",
       "      <td>0</td>\n",
       "      <td>0.0</td>\n",
       "      <td>5</td>\n",
       "      <td>353733_0</td>\n",
       "    </tr>\n",
       "    <tr>\n",
       "      <th>1</th>\n",
       "      <td>353733</td>\n",
       "      <td>1</td>\n",
       "      <td>6.0</td>\n",
       "      <td>5</td>\n",
       "      <td>353733_1</td>\n",
       "    </tr>\n",
       "    <tr>\n",
       "      <th>2</th>\n",
       "      <td>353733</td>\n",
       "      <td>2</td>\n",
       "      <td>8.0</td>\n",
       "      <td>5</td>\n",
       "      <td>353733_2</td>\n",
       "    </tr>\n",
       "    <tr>\n",
       "      <th>3</th>\n",
       "      <td>353733</td>\n",
       "      <td>3</td>\n",
       "      <td>18.0</td>\n",
       "      <td>5</td>\n",
       "      <td>353733_3</td>\n",
       "    </tr>\n",
       "    <tr>\n",
       "      <th>4</th>\n",
       "      <td>353733</td>\n",
       "      <td>4</td>\n",
       "      <td>24.0</td>\n",
       "      <td>5</td>\n",
       "      <td>353733_4</td>\n",
       "    </tr>\n",
       "    <tr>\n",
       "      <th>5</th>\n",
       "      <td>353733</td>\n",
       "      <td>5</td>\n",
       "      <td>26.0</td>\n",
       "      <td>5</td>\n",
       "      <td>353733_5</td>\n",
       "    </tr>\n",
       "    <tr>\n",
       "      <th>6</th>\n",
       "      <td>353733</td>\n",
       "      <td>6</td>\n",
       "      <td>30.0</td>\n",
       "      <td>5</td>\n",
       "      <td>353733_6</td>\n",
       "    </tr>\n",
       "    <tr>\n",
       "      <th>7</th>\n",
       "      <td>353733</td>\n",
       "      <td>7</td>\n",
       "      <td>36.0</td>\n",
       "      <td>5</td>\n",
       "      <td>353733_7</td>\n",
       "    </tr>\n",
       "    <tr>\n",
       "      <th>8</th>\n",
       "      <td>353733</td>\n",
       "      <td>8</td>\n",
       "      <td>40.0</td>\n",
       "      <td>5</td>\n",
       "      <td>353733_8</td>\n",
       "    </tr>\n",
       "    <tr>\n",
       "      <th>9</th>\n",
       "      <td>924234</td>\n",
       "      <td>0</td>\n",
       "      <td>0.0</td>\n",
       "      <td>0</td>\n",
       "      <td>924234_0</td>\n",
       "    </tr>\n",
       "  </tbody>\n",
       "</table>\n",
       "</div>\n",
       "    <div class=\"colab-df-buttons\">\n",
       "\n",
       "  <div class=\"colab-df-container\">\n",
       "    <button class=\"colab-df-convert\" onclick=\"convertToInteractive('df-d4ec188e-8759-4d28-b6bd-ce9aaaf27a29')\"\n",
       "            title=\"Convert this dataframe to an interactive table.\"\n",
       "            style=\"display:none;\">\n",
       "\n",
       "  <svg xmlns=\"http://www.w3.org/2000/svg\" height=\"24px\" viewBox=\"0 -960 960 960\">\n",
       "    <path d=\"M120-120v-720h720v720H120Zm60-500h600v-160H180v160Zm220 220h160v-160H400v160Zm0 220h160v-160H400v160ZM180-400h160v-160H180v160Zm440 0h160v-160H620v160ZM180-180h160v-160H180v160Zm440 0h160v-160H620v160Z\"/>\n",
       "  </svg>\n",
       "    </button>\n",
       "\n",
       "  <style>\n",
       "    .colab-df-container {\n",
       "      display:flex;\n",
       "      gap: 12px;\n",
       "    }\n",
       "\n",
       "    .colab-df-convert {\n",
       "      background-color: #E8F0FE;\n",
       "      border: none;\n",
       "      border-radius: 50%;\n",
       "      cursor: pointer;\n",
       "      display: none;\n",
       "      fill: #1967D2;\n",
       "      height: 32px;\n",
       "      padding: 0 0 0 0;\n",
       "      width: 32px;\n",
       "    }\n",
       "\n",
       "    .colab-df-convert:hover {\n",
       "      background-color: #E2EBFA;\n",
       "      box-shadow: 0px 1px 2px rgba(60, 64, 67, 0.3), 0px 1px 3px 1px rgba(60, 64, 67, 0.15);\n",
       "      fill: #174EA6;\n",
       "    }\n",
       "\n",
       "    .colab-df-buttons div {\n",
       "      margin-bottom: 4px;\n",
       "    }\n",
       "\n",
       "    [theme=dark] .colab-df-convert {\n",
       "      background-color: #3B4455;\n",
       "      fill: #D2E3FC;\n",
       "    }\n",
       "\n",
       "    [theme=dark] .colab-df-convert:hover {\n",
       "      background-color: #434B5C;\n",
       "      box-shadow: 0px 1px 3px 1px rgba(0, 0, 0, 0.15);\n",
       "      filter: drop-shadow(0px 1px 2px rgba(0, 0, 0, 0.3));\n",
       "      fill: #FFFFFF;\n",
       "    }\n",
       "  </style>\n",
       "\n",
       "    <script>\n",
       "      const buttonEl =\n",
       "        document.querySelector('#df-d4ec188e-8759-4d28-b6bd-ce9aaaf27a29 button.colab-df-convert');\n",
       "      buttonEl.style.display =\n",
       "        google.colab.kernel.accessAllowed ? 'block' : 'none';\n",
       "\n",
       "      async function convertToInteractive(key) {\n",
       "        const element = document.querySelector('#df-d4ec188e-8759-4d28-b6bd-ce9aaaf27a29');\n",
       "        const dataTable =\n",
       "          await google.colab.kernel.invokeFunction('convertToInteractive',\n",
       "                                                    [key], {});\n",
       "        if (!dataTable) return;\n",
       "\n",
       "        const docLinkHtml = 'Like what you see? Visit the ' +\n",
       "          '<a target=\"_blank\" href=https://colab.research.google.com/notebooks/data_table.ipynb>data table notebook</a>'\n",
       "          + ' to learn more about interactive tables.';\n",
       "        element.innerHTML = '';\n",
       "        dataTable['output_type'] = 'display_data';\n",
       "        await google.colab.output.renderOutput(dataTable, element);\n",
       "        const docLink = document.createElement('div');\n",
       "        docLink.innerHTML = docLinkHtml;\n",
       "        element.appendChild(docLink);\n",
       "      }\n",
       "    </script>\n",
       "  </div>\n",
       "\n",
       "\n",
       "<div id=\"df-55174223-3341-4fc8-ad42-fa22a1b1d61b\">\n",
       "  <button class=\"colab-df-quickchart\" onclick=\"quickchart('df-55174223-3341-4fc8-ad42-fa22a1b1d61b')\"\n",
       "            title=\"Suggest charts\"\n",
       "            style=\"display:none;\">\n",
       "\n",
       "<svg xmlns=\"http://www.w3.org/2000/svg\" height=\"24px\"viewBox=\"0 0 24 24\"\n",
       "     width=\"24px\">\n",
       "    <g>\n",
       "        <path d=\"M19 3H5c-1.1 0-2 .9-2 2v14c0 1.1.9 2 2 2h14c1.1 0 2-.9 2-2V5c0-1.1-.9-2-2-2zM9 17H7v-7h2v7zm4 0h-2V7h2v10zm4 0h-2v-4h2v4z\"/>\n",
       "    </g>\n",
       "</svg>\n",
       "  </button>\n",
       "\n",
       "<style>\n",
       "  .colab-df-quickchart {\n",
       "      --bg-color: #E8F0FE;\n",
       "      --fill-color: #1967D2;\n",
       "      --hover-bg-color: #E2EBFA;\n",
       "      --hover-fill-color: #174EA6;\n",
       "      --disabled-fill-color: #AAA;\n",
       "      --disabled-bg-color: #DDD;\n",
       "  }\n",
       "\n",
       "  [theme=dark] .colab-df-quickchart {\n",
       "      --bg-color: #3B4455;\n",
       "      --fill-color: #D2E3FC;\n",
       "      --hover-bg-color: #434B5C;\n",
       "      --hover-fill-color: #FFFFFF;\n",
       "      --disabled-bg-color: #3B4455;\n",
       "      --disabled-fill-color: #666;\n",
       "  }\n",
       "\n",
       "  .colab-df-quickchart {\n",
       "    background-color: var(--bg-color);\n",
       "    border: none;\n",
       "    border-radius: 50%;\n",
       "    cursor: pointer;\n",
       "    display: none;\n",
       "    fill: var(--fill-color);\n",
       "    height: 32px;\n",
       "    padding: 0;\n",
       "    width: 32px;\n",
       "  }\n",
       "\n",
       "  .colab-df-quickchart:hover {\n",
       "    background-color: var(--hover-bg-color);\n",
       "    box-shadow: 0 1px 2px rgba(60, 64, 67, 0.3), 0 1px 3px 1px rgba(60, 64, 67, 0.15);\n",
       "    fill: var(--button-hover-fill-color);\n",
       "  }\n",
       "\n",
       "  .colab-df-quickchart-complete:disabled,\n",
       "  .colab-df-quickchart-complete:disabled:hover {\n",
       "    background-color: var(--disabled-bg-color);\n",
       "    fill: var(--disabled-fill-color);\n",
       "    box-shadow: none;\n",
       "  }\n",
       "\n",
       "  .colab-df-spinner {\n",
       "    border: 2px solid var(--fill-color);\n",
       "    border-color: transparent;\n",
       "    border-bottom-color: var(--fill-color);\n",
       "    animation:\n",
       "      spin 1s steps(1) infinite;\n",
       "  }\n",
       "\n",
       "  @keyframes spin {\n",
       "    0% {\n",
       "      border-color: transparent;\n",
       "      border-bottom-color: var(--fill-color);\n",
       "      border-left-color: var(--fill-color);\n",
       "    }\n",
       "    20% {\n",
       "      border-color: transparent;\n",
       "      border-left-color: var(--fill-color);\n",
       "      border-top-color: var(--fill-color);\n",
       "    }\n",
       "    30% {\n",
       "      border-color: transparent;\n",
       "      border-left-color: var(--fill-color);\n",
       "      border-top-color: var(--fill-color);\n",
       "      border-right-color: var(--fill-color);\n",
       "    }\n",
       "    40% {\n",
       "      border-color: transparent;\n",
       "      border-right-color: var(--fill-color);\n",
       "      border-top-color: var(--fill-color);\n",
       "    }\n",
       "    60% {\n",
       "      border-color: transparent;\n",
       "      border-right-color: var(--fill-color);\n",
       "    }\n",
       "    80% {\n",
       "      border-color: transparent;\n",
       "      border-right-color: var(--fill-color);\n",
       "      border-bottom-color: var(--fill-color);\n",
       "    }\n",
       "    90% {\n",
       "      border-color: transparent;\n",
       "      border-bottom-color: var(--fill-color);\n",
       "    }\n",
       "  }\n",
       "</style>\n",
       "\n",
       "  <script>\n",
       "    async function quickchart(key) {\n",
       "      const quickchartButtonEl =\n",
       "        document.querySelector('#' + key + ' button');\n",
       "      quickchartButtonEl.disabled = true;  // To prevent multiple clicks.\n",
       "      quickchartButtonEl.classList.add('colab-df-spinner');\n",
       "      try {\n",
       "        const charts = await google.colab.kernel.invokeFunction(\n",
       "            'suggestCharts', [key], {});\n",
       "      } catch (error) {\n",
       "        console.error('Error during call to suggestCharts:', error);\n",
       "      }\n",
       "      quickchartButtonEl.classList.remove('colab-df-spinner');\n",
       "      quickchartButtonEl.classList.add('colab-df-quickchart-complete');\n",
       "    }\n",
       "    (() => {\n",
       "      let quickchartButtonEl =\n",
       "        document.querySelector('#df-55174223-3341-4fc8-ad42-fa22a1b1d61b button');\n",
       "      quickchartButtonEl.style.display =\n",
       "        google.colab.kernel.accessAllowed ? 'block' : 'none';\n",
       "    })();\n",
       "  </script>\n",
       "</div>\n",
       "\n",
       "    </div>\n",
       "  </div>\n"
      ],
      "text/plain": [
       "   spectrogram_id  spectrogram_sub_id  spectrogram_label_offset_seconds  \\\n",
       "0          353733                   0                               0.0   \n",
       "1          353733                   1                               6.0   \n",
       "2          353733                   2                               8.0   \n",
       "3          353733                   3                              18.0   \n",
       "4          353733                   4                              24.0   \n",
       "5          353733                   5                              26.0   \n",
       "6          353733                   6                              30.0   \n",
       "7          353733                   7                              36.0   \n",
       "8          353733                   8                              40.0   \n",
       "9          924234                   0                               0.0   \n",
       "\n",
       "   target_encoded spectrogram_name  \n",
       "0               5         353733_0  \n",
       "1               5         353733_1  \n",
       "2               5         353733_2  \n",
       "3               5         353733_3  \n",
       "4               5         353733_4  \n",
       "5               5         353733_5  \n",
       "6               5         353733_6  \n",
       "7               5         353733_7  \n",
       "8               5         353733_8  \n",
       "9               0         924234_0  "
      ]
     },
     "execution_count": 10,
     "metadata": {},
     "output_type": "execute_result"
    }
   ],
   "source": [
    "spectrogram_names = []\n",
    "df_spec_and_sub = df[['spectrogram_id', 'spectrogram_sub_id', 'spectrogram_label_offset_seconds','target_encoded']].copy()\n",
    "\n",
    "for index, row in df.iterrows():\n",
    "    spectrogram_name = f\"{row['spectrogram_id']}_{row['spectrogram_sub_id']}\"\n",
    "    spectrogram_names.append(spectrogram_name)\n",
    "df_spec_and_sub['spectrogram_name'] = spectrogram_names\n",
    "\n",
    "print(df_spec_and_sub.shape)\n",
    "print(df_spec_and_sub.columns)\n",
    "df_spec_and_sub.head(10)"
   ]
  },
  {
   "cell_type": "code",
   "execution_count": 11,
   "metadata": {
    "colab": {
     "base_uri": "https://localhost:8080/",
     "height": 542
    },
    "id": "dV25ziIjKecm",
    "outputId": "a2995048-b24e-45c8-eb9d-55e2e905cedc"
   },
   "outputs": [
    {
     "name": "stdout",
     "output_type": "stream",
     "text": [
      "Sampled DataFrame shape: (960, 5)\n",
      "Sample distribution:\n",
      " 0    160\n",
      "1    160\n",
      "2    160\n",
      "3    160\n",
      "4    160\n",
      "5    160\n",
      "Name: target_encoded, dtype: int64\n",
      "Unique spec_id values in df_split: 960\n"
     ]
    },
    {
     "data": {
      "application/vnd.google.colaboratory.intrinsic+json": {
       "summary": "{\n  \"name\": \"df_spec_and_sub_random\",\n  \"rows\": 10,\n  \"fields\": [\n    {\n      \"column\": \"spectrogram_id\",\n      \"properties\": {\n        \"dtype\": \"number\",\n        \"std\": 310792716,\n        \"min\": 60873434,\n        \"max\": 1007938258,\n        \"num_unique_values\": 10,\n        \"samples\": [\n          272214389,\n          781427162,\n          793532016\n        ],\n        \"semantic_type\": \"\",\n        \"description\": \"\"\n      }\n    },\n    {\n      \"column\": \"spectrogram_sub_id\",\n      \"properties\": {\n        \"dtype\": \"number\",\n        \"std\": 63,\n        \"min\": 1,\n        \"max\": 203,\n        \"num_unique_values\": 8,\n        \"samples\": [\n          1,\n          20,\n          32\n        ],\n        \"semantic_type\": \"\",\n        \"description\": \"\"\n      }\n    },\n    {\n      \"column\": \"spectrogram_label_offset_seconds\",\n      \"properties\": {\n        \"dtype\": \"number\",\n        \"std\": 381.9961605391691,\n        \"min\": 2.0,\n        \"max\": 1014.0,\n        \"num_unique_values\": 9,\n        \"samples\": [\n          888.0,\n          2.0,\n          82.0\n        ],\n        \"semantic_type\": \"\",\n        \"description\": \"\"\n      }\n    },\n    {\n      \"column\": \"target_encoded\",\n      \"properties\": {\n        \"dtype\": \"number\",\n        \"std\": 1,\n        \"min\": 0,\n        \"max\": 5,\n        \"num_unique_values\": 4,\n        \"samples\": [\n          2,\n          0,\n          5\n        ],\n        \"semantic_type\": \"\",\n        \"description\": \"\"\n      }\n    },\n    {\n      \"column\": \"spectrogram_name\",\n      \"properties\": {\n        \"dtype\": \"string\",\n        \"num_unique_values\": 10,\n        \"samples\": [\n          \"272214389_203\",\n          \"781427162_1\",\n          \"793532016_4\"\n        ],\n        \"semantic_type\": \"\",\n        \"description\": \"\"\n      }\n    }\n  ]\n}",
       "type": "dataframe"
      },
      "text/html": [
       "\n",
       "  <div id=\"df-894ffe3e-2a1e-4f96-b2b6-42cb9e05330b\" class=\"colab-df-container\">\n",
       "    <div>\n",
       "<style scoped>\n",
       "    .dataframe tbody tr th:only-of-type {\n",
       "        vertical-align: middle;\n",
       "    }\n",
       "\n",
       "    .dataframe tbody tr th {\n",
       "        vertical-align: top;\n",
       "    }\n",
       "\n",
       "    .dataframe thead th {\n",
       "        text-align: right;\n",
       "    }\n",
       "</style>\n",
       "<table border=\"1\" class=\"dataframe\">\n",
       "  <thead>\n",
       "    <tr style=\"text-align: right;\">\n",
       "      <th></th>\n",
       "      <th>spectrogram_id</th>\n",
       "      <th>spectrogram_sub_id</th>\n",
       "      <th>spectrogram_label_offset_seconds</th>\n",
       "      <th>target_encoded</th>\n",
       "      <th>spectrogram_name</th>\n",
       "    </tr>\n",
       "  </thead>\n",
       "  <tbody>\n",
       "    <tr>\n",
       "      <th>20469</th>\n",
       "      <td>394956001</td>\n",
       "      <td>32</td>\n",
       "      <td>180.0</td>\n",
       "      <td>5</td>\n",
       "      <td>394956001_32</td>\n",
       "    </tr>\n",
       "    <tr>\n",
       "      <th>40657</th>\n",
       "      <td>781427162</td>\n",
       "      <td>1</td>\n",
       "      <td>2.0</td>\n",
       "      <td>2</td>\n",
       "      <td>781427162_1</td>\n",
       "    </tr>\n",
       "    <tr>\n",
       "      <th>23046</th>\n",
       "      <td>447919898</td>\n",
       "      <td>17</td>\n",
       "      <td>342.0</td>\n",
       "      <td>2</td>\n",
       "      <td>447919898_17</td>\n",
       "    </tr>\n",
       "    <tr>\n",
       "      <th>8569</th>\n",
       "      <td>160482619</td>\n",
       "      <td>1</td>\n",
       "      <td>2.0</td>\n",
       "      <td>5</td>\n",
       "      <td>160482619_1</td>\n",
       "    </tr>\n",
       "    <tr>\n",
       "      <th>51337</th>\n",
       "      <td>1007938258</td>\n",
       "      <td>2</td>\n",
       "      <td>12.0</td>\n",
       "      <td>5</td>\n",
       "      <td>1007938258_2</td>\n",
       "    </tr>\n",
       "    <tr>\n",
       "      <th>41210</th>\n",
       "      <td>793532016</td>\n",
       "      <td>4</td>\n",
       "      <td>8.0</td>\n",
       "      <td>1</td>\n",
       "      <td>793532016_4</td>\n",
       "    </tr>\n",
       "    <tr>\n",
       "      <th>33507</th>\n",
       "      <td>655954200</td>\n",
       "      <td>20</td>\n",
       "      <td>82.0</td>\n",
       "      <td>1</td>\n",
       "      <td>655954200_20</td>\n",
       "    </tr>\n",
       "    <tr>\n",
       "      <th>3959</th>\n",
       "      <td>60873434</td>\n",
       "      <td>77</td>\n",
       "      <td>1014.0</td>\n",
       "      <td>2</td>\n",
       "      <td>60873434_77</td>\n",
       "    </tr>\n",
       "    <tr>\n",
       "      <th>13929</th>\n",
       "      <td>272214389</td>\n",
       "      <td>203</td>\n",
       "      <td>888.0</td>\n",
       "      <td>0</td>\n",
       "      <td>272214389_203</td>\n",
       "    </tr>\n",
       "    <tr>\n",
       "      <th>37467</th>\n",
       "      <td>740593948</td>\n",
       "      <td>4</td>\n",
       "      <td>42.0</td>\n",
       "      <td>5</td>\n",
       "      <td>740593948_4</td>\n",
       "    </tr>\n",
       "  </tbody>\n",
       "</table>\n",
       "</div>\n",
       "    <div class=\"colab-df-buttons\">\n",
       "\n",
       "  <div class=\"colab-df-container\">\n",
       "    <button class=\"colab-df-convert\" onclick=\"convertToInteractive('df-894ffe3e-2a1e-4f96-b2b6-42cb9e05330b')\"\n",
       "            title=\"Convert this dataframe to an interactive table.\"\n",
       "            style=\"display:none;\">\n",
       "\n",
       "  <svg xmlns=\"http://www.w3.org/2000/svg\" height=\"24px\" viewBox=\"0 -960 960 960\">\n",
       "    <path d=\"M120-120v-720h720v720H120Zm60-500h600v-160H180v160Zm220 220h160v-160H400v160Zm0 220h160v-160H400v160ZM180-400h160v-160H180v160Zm440 0h160v-160H620v160ZM180-180h160v-160H180v160Zm440 0h160v-160H620v160Z\"/>\n",
       "  </svg>\n",
       "    </button>\n",
       "\n",
       "  <style>\n",
       "    .colab-df-container {\n",
       "      display:flex;\n",
       "      gap: 12px;\n",
       "    }\n",
       "\n",
       "    .colab-df-convert {\n",
       "      background-color: #E8F0FE;\n",
       "      border: none;\n",
       "      border-radius: 50%;\n",
       "      cursor: pointer;\n",
       "      display: none;\n",
       "      fill: #1967D2;\n",
       "      height: 32px;\n",
       "      padding: 0 0 0 0;\n",
       "      width: 32px;\n",
       "    }\n",
       "\n",
       "    .colab-df-convert:hover {\n",
       "      background-color: #E2EBFA;\n",
       "      box-shadow: 0px 1px 2px rgba(60, 64, 67, 0.3), 0px 1px 3px 1px rgba(60, 64, 67, 0.15);\n",
       "      fill: #174EA6;\n",
       "    }\n",
       "\n",
       "    .colab-df-buttons div {\n",
       "      margin-bottom: 4px;\n",
       "    }\n",
       "\n",
       "    [theme=dark] .colab-df-convert {\n",
       "      background-color: #3B4455;\n",
       "      fill: #D2E3FC;\n",
       "    }\n",
       "\n",
       "    [theme=dark] .colab-df-convert:hover {\n",
       "      background-color: #434B5C;\n",
       "      box-shadow: 0px 1px 3px 1px rgba(0, 0, 0, 0.15);\n",
       "      filter: drop-shadow(0px 1px 2px rgba(0, 0, 0, 0.3));\n",
       "      fill: #FFFFFF;\n",
       "    }\n",
       "  </style>\n",
       "\n",
       "    <script>\n",
       "      const buttonEl =\n",
       "        document.querySelector('#df-894ffe3e-2a1e-4f96-b2b6-42cb9e05330b button.colab-df-convert');\n",
       "      buttonEl.style.display =\n",
       "        google.colab.kernel.accessAllowed ? 'block' : 'none';\n",
       "\n",
       "      async function convertToInteractive(key) {\n",
       "        const element = document.querySelector('#df-894ffe3e-2a1e-4f96-b2b6-42cb9e05330b');\n",
       "        const dataTable =\n",
       "          await google.colab.kernel.invokeFunction('convertToInteractive',\n",
       "                                                    [key], {});\n",
       "        if (!dataTable) return;\n",
       "\n",
       "        const docLinkHtml = 'Like what you see? Visit the ' +\n",
       "          '<a target=\"_blank\" href=https://colab.research.google.com/notebooks/data_table.ipynb>data table notebook</a>'\n",
       "          + ' to learn more about interactive tables.';\n",
       "        element.innerHTML = '';\n",
       "        dataTable['output_type'] = 'display_data';\n",
       "        await google.colab.output.renderOutput(dataTable, element);\n",
       "        const docLink = document.createElement('div');\n",
       "        docLink.innerHTML = docLinkHtml;\n",
       "        element.appendChild(docLink);\n",
       "      }\n",
       "    </script>\n",
       "  </div>\n",
       "\n",
       "\n",
       "<div id=\"df-e93c5f46-7fb3-4823-b8ae-e571800edf4a\">\n",
       "  <button class=\"colab-df-quickchart\" onclick=\"quickchart('df-e93c5f46-7fb3-4823-b8ae-e571800edf4a')\"\n",
       "            title=\"Suggest charts\"\n",
       "            style=\"display:none;\">\n",
       "\n",
       "<svg xmlns=\"http://www.w3.org/2000/svg\" height=\"24px\"viewBox=\"0 0 24 24\"\n",
       "     width=\"24px\">\n",
       "    <g>\n",
       "        <path d=\"M19 3H5c-1.1 0-2 .9-2 2v14c0 1.1.9 2 2 2h14c1.1 0 2-.9 2-2V5c0-1.1-.9-2-2-2zM9 17H7v-7h2v7zm4 0h-2V7h2v10zm4 0h-2v-4h2v4z\"/>\n",
       "    </g>\n",
       "</svg>\n",
       "  </button>\n",
       "\n",
       "<style>\n",
       "  .colab-df-quickchart {\n",
       "      --bg-color: #E8F0FE;\n",
       "      --fill-color: #1967D2;\n",
       "      --hover-bg-color: #E2EBFA;\n",
       "      --hover-fill-color: #174EA6;\n",
       "      --disabled-fill-color: #AAA;\n",
       "      --disabled-bg-color: #DDD;\n",
       "  }\n",
       "\n",
       "  [theme=dark] .colab-df-quickchart {\n",
       "      --bg-color: #3B4455;\n",
       "      --fill-color: #D2E3FC;\n",
       "      --hover-bg-color: #434B5C;\n",
       "      --hover-fill-color: #FFFFFF;\n",
       "      --disabled-bg-color: #3B4455;\n",
       "      --disabled-fill-color: #666;\n",
       "  }\n",
       "\n",
       "  .colab-df-quickchart {\n",
       "    background-color: var(--bg-color);\n",
       "    border: none;\n",
       "    border-radius: 50%;\n",
       "    cursor: pointer;\n",
       "    display: none;\n",
       "    fill: var(--fill-color);\n",
       "    height: 32px;\n",
       "    padding: 0;\n",
       "    width: 32px;\n",
       "  }\n",
       "\n",
       "  .colab-df-quickchart:hover {\n",
       "    background-color: var(--hover-bg-color);\n",
       "    box-shadow: 0 1px 2px rgba(60, 64, 67, 0.3), 0 1px 3px 1px rgba(60, 64, 67, 0.15);\n",
       "    fill: var(--button-hover-fill-color);\n",
       "  }\n",
       "\n",
       "  .colab-df-quickchart-complete:disabled,\n",
       "  .colab-df-quickchart-complete:disabled:hover {\n",
       "    background-color: var(--disabled-bg-color);\n",
       "    fill: var(--disabled-fill-color);\n",
       "    box-shadow: none;\n",
       "  }\n",
       "\n",
       "  .colab-df-spinner {\n",
       "    border: 2px solid var(--fill-color);\n",
       "    border-color: transparent;\n",
       "    border-bottom-color: var(--fill-color);\n",
       "    animation:\n",
       "      spin 1s steps(1) infinite;\n",
       "  }\n",
       "\n",
       "  @keyframes spin {\n",
       "    0% {\n",
       "      border-color: transparent;\n",
       "      border-bottom-color: var(--fill-color);\n",
       "      border-left-color: var(--fill-color);\n",
       "    }\n",
       "    20% {\n",
       "      border-color: transparent;\n",
       "      border-left-color: var(--fill-color);\n",
       "      border-top-color: var(--fill-color);\n",
       "    }\n",
       "    30% {\n",
       "      border-color: transparent;\n",
       "      border-left-color: var(--fill-color);\n",
       "      border-top-color: var(--fill-color);\n",
       "      border-right-color: var(--fill-color);\n",
       "    }\n",
       "    40% {\n",
       "      border-color: transparent;\n",
       "      border-right-color: var(--fill-color);\n",
       "      border-top-color: var(--fill-color);\n",
       "    }\n",
       "    60% {\n",
       "      border-color: transparent;\n",
       "      border-right-color: var(--fill-color);\n",
       "    }\n",
       "    80% {\n",
       "      border-color: transparent;\n",
       "      border-right-color: var(--fill-color);\n",
       "      border-bottom-color: var(--fill-color);\n",
       "    }\n",
       "    90% {\n",
       "      border-color: transparent;\n",
       "      border-bottom-color: var(--fill-color);\n",
       "    }\n",
       "  }\n",
       "</style>\n",
       "\n",
       "  <script>\n",
       "    async function quickchart(key) {\n",
       "      const quickchartButtonEl =\n",
       "        document.querySelector('#' + key + ' button');\n",
       "      quickchartButtonEl.disabled = true;  // To prevent multiple clicks.\n",
       "      quickchartButtonEl.classList.add('colab-df-spinner');\n",
       "      try {\n",
       "        const charts = await google.colab.kernel.invokeFunction(\n",
       "            'suggestCharts', [key], {});\n",
       "      } catch (error) {\n",
       "        console.error('Error during call to suggestCharts:', error);\n",
       "      }\n",
       "      quickchartButtonEl.classList.remove('colab-df-spinner');\n",
       "      quickchartButtonEl.classList.add('colab-df-quickchart-complete');\n",
       "    }\n",
       "    (() => {\n",
       "      let quickchartButtonEl =\n",
       "        document.querySelector('#df-e93c5f46-7fb3-4823-b8ae-e571800edf4a button');\n",
       "      quickchartButtonEl.style.display =\n",
       "        google.colab.kernel.accessAllowed ? 'block' : 'none';\n",
       "    })();\n",
       "  </script>\n",
       "</div>\n",
       "\n",
       "    </div>\n",
       "  </div>\n"
      ],
      "text/plain": [
       "       spectrogram_id  spectrogram_sub_id  spectrogram_label_offset_seconds  \\\n",
       "20469       394956001                  32                             180.0   \n",
       "40657       781427162                   1                               2.0   \n",
       "23046       447919898                  17                             342.0   \n",
       "8569        160482619                   1                               2.0   \n",
       "51337      1007938258                   2                              12.0   \n",
       "41210       793532016                   4                               8.0   \n",
       "33507       655954200                  20                              82.0   \n",
       "3959         60873434                  77                            1014.0   \n",
       "13929       272214389                 203                             888.0   \n",
       "37467       740593948                   4                              42.0   \n",
       "\n",
       "       target_encoded spectrogram_name  \n",
       "20469               5     394956001_32  \n",
       "40657               2      781427162_1  \n",
       "23046               2     447919898_17  \n",
       "8569                5      160482619_1  \n",
       "51337               5     1007938258_2  \n",
       "41210               1      793532016_4  \n",
       "33507               1     655954200_20  \n",
       "3959                2      60873434_77  \n",
       "13929               0    272214389_203  \n",
       "37467               5      740593948_4  "
      ]
     },
     "execution_count": 11,
     "metadata": {},
     "output_type": "execute_result"
    }
   ],
   "source": [
    "import random\n",
    "\n",
    "random.seed(42)\n",
    "np.random.seed(42)\n",
    "\n",
    "sampled_df = pd.DataFrame()\n",
    "sampled_spec_ids = set()\n",
    "\n",
    "for target_class in range(len(le.classes_)):\n",
    "    available_df = df_spec_and_sub[(df_spec_and_sub['target_encoded'] == target_class) & (~df_spec_and_sub['spectrogram_name'].isin(sampled_spec_ids))]\n",
    "    n_samples = min(160, len(available_df))\n",
    "    class_sample = available_df.sample(n=n_samples, random_state=42)\n",
    "    sampled_df = pd.concat([sampled_df, class_sample])\n",
    "    sampled_spec_ids.update(class_sample['spectrogram_name'].tolist())\n",
    "\n",
    "df_spec_and_sub_random = sampled_df[['spectrogram_id', 'spectrogram_sub_id',\n",
    "       'spectrogram_label_offset_seconds', 'target_encoded',\n",
    "       'spectrogram_name']]\n",
    "\n",
    "print(\"Sampled DataFrame shape:\", df_spec_and_sub_random.shape)\n",
    "print(\"Sample distribution:\\n\", df_spec_and_sub_random['target_encoded'].value_counts())\n",
    "unique_spec_ids_in_split = df_spec_and_sub_random['spectrogram_name'].nunique()\n",
    "print(\"Unique spec_id values in df_split:\", unique_spec_ids_in_split)\n",
    "df_spec_and_sub_random.sample(10)"
   ]
  },
  {
   "cell_type": "code",
   "execution_count": 12,
   "metadata": {
    "colab": {
     "base_uri": "https://localhost:8080/"
    },
    "id": "mzS3S86OcBIz",
    "outputId": "e8d56f8d-40a6-4d68-a59c-91188b4ec378"
   },
   "outputs": [
    {
     "data": {
      "text/plain": [
       "794"
      ]
     },
     "execution_count": 12,
     "metadata": {},
     "output_type": "execute_result"
    }
   ],
   "source": [
    "df_spec_and_sub_random['spectrogram_id'].nunique()"
   ]
  },
  {
   "cell_type": "code",
   "execution_count": 13,
   "metadata": {
    "colab": {
     "base_uri": "https://localhost:8080/"
    },
    "id": "B0Efh2tH8kta",
    "outputId": "0041bf13-042f-4d54-b962-5e5f3ba463cd"
   },
   "outputs": [
    {
     "data": {
      "text/plain": [
       "31"
      ]
     },
     "execution_count": 13,
     "metadata": {},
     "output_type": "execute_result"
    }
   ],
   "source": [
    "del df_spec_and_sub\n",
    "gc.collect()"
   ]
  },
  {
   "cell_type": "markdown",
   "metadata": {
    "id": "7flL3CD040VC"
   },
   "source": [
    "### train.pqt"
   ]
  },
  {
   "cell_type": "code",
   "execution_count": 14,
   "metadata": {
    "id": "c6ebrFAm4kB4"
   },
   "outputs": [],
   "source": [
    "# train_pqt_file_path = '/content/drive/My Drive/HMS/train.pqt'"
   ]
  },
  {
   "cell_type": "code",
   "execution_count": 15,
   "metadata": {
    "id": "c8_NHNx94kSX"
   },
   "outputs": [],
   "source": [
    "# df_pqt = pd.read_parquet(train_pqt_file_path, engine='pyarrow')"
   ]
  },
  {
   "cell_type": "code",
   "execution_count": 16,
   "metadata": {
    "id": "VM5MxJ7J4kd_"
   },
   "outputs": [],
   "source": [
    "# df_pqt.shape"
   ]
  },
  {
   "cell_type": "markdown",
   "metadata": {
    "id": "IDGO90Fl5SFP"
   },
   "source": [
    "### specs.npy"
   ]
  },
  {
   "cell_type": "code",
   "execution_count": 18,
   "metadata": {
    "id": "Cn87-1Xy4lFn"
   },
   "outputs": [],
   "source": [
    "def load_spectrograms(path, read_spec_files=False):\n",
    "\n",
    "    if read_spec_files:\n",
    "        spectrograms = {}\n",
    "        for i,f in enumerate(files):\n",
    "            if i%100==0: print(i,', ',end='')\n",
    "            tmp = pd.read_parquet(f'{path}//{f}')\n",
    "            name = int(f.split('.')[0])\n",
    "            spectrograms[name] = tmp.iloc[:,1:].values\n",
    "    else:\n",
    "        spectrograms = np.load(f\"{path}\", allow_pickle=True).item()\n",
    "    return spectrograms"
   ]
  },
  {
   "cell_type": "code",
   "execution_count": 20,
   "metadata": {
    "id": "ovfH9-CK4lPE"
   },
   "outputs": [],
   "source": [
    "def get_column_names():\n",
    "    columns = []\n",
    "    regions = ['LL_', 'RL_', 'LP_', 'RP_']\n",
    "    increments = [\n",
    "        0.59, 0.78, 0.98, 1.17, 1.37, 1.56, 1.76, 1.95, 2.15, 2.34,\n",
    "        2.54, 2.73, 2.93, 3.13, 3.32, 3.52, 3.71, 3.91, 4.1, 4.3,\n",
    "        4.49, 4.69, 4.88, 5.08, 5.27, 5.47, 5.66, 5.86, 6.05, 6.25,\n",
    "        6.45, 6.64, 6.84, 7.03, 7.23, 7.42, 7.62, 7.81, 8.01, 8.2,\n",
    "        8.4, 8.59, 8.79, 8.98, 9.18, 9.38, 9.57, 9.77, 9.96, 10.16,\n",
    "        10.35, 10.55, 10.74, 10.94, 11.13, 11.33, 11.52, 11.72, 11.91,\n",
    "        12.11, 12.3, 12.5, 12.7, 12.89, 13.09, 13.28, 13.48, 13.67,\n",
    "        13.87, 14.06, 14.26, 14.45, 14.65, 14.84, 15.04, 15.23, 15.43,\n",
    "        15.63, 15.82, 16.02, 16.21, 16.41, 16.6, 16.8, 16.99, 17.19,\n",
    "        17.38, 17.58, 17.77, 17.97, 18.16, 18.36, 18.55, 18.75, 18.95,\n",
    "        19.14, 19.34, 19.53, 19.73, 19.92\n",
    "    ]\n",
    "\n",
    "    for r in regions:\n",
    "        for i in increments:\n",
    "            columns.extend([f'{r}{i}'])\n",
    "    return columns"
   ]
  },
  {
   "cell_type": "code",
   "execution_count": 24,
   "metadata": {
    "id": "8_D61rxxkwk3"
   },
   "outputs": [],
   "source": [
    "def create_lookup_dict(df):\n",
    "    lookup_dict = {}\n",
    "    for _, row in df.iterrows():\n",
    "        key = f\"{row['spectrogram_id']}_{row['spectrogram_sub_id']}\"\n",
    "        lookup_dict[key] = row['spectrogram_label_offset_seconds']\n",
    "    return lookup_dict"
   ]
  },
  {
   "cell_type": "code",
   "execution_count": 36,
   "metadata": {
    "id": "jTizYy8u509F"
   },
   "outputs": [],
   "source": [
    "def get_spect_df(filtered_spectrograms, offset_lookup, columns):\n",
    "\n",
    "    dataframes = {}\n",
    "\n",
    "    for key, offset_time in offset_lookup.items():\n",
    "        first_part_key = key.split('_')[0]\n",
    "        temp_df = filtered_spectrograms.get(int(first_part_key))\n",
    "        if temp_df is not None:\n",
    "            if offset_time == int(0.0):\n",
    "                start_row = 0\n",
    "            else:\n",
    "                start_row = int(offset_time / 2)\n",
    "            end_row = start_row + 300 \n",
    "            end_row = min(end_row, len(temp_df))\n",
    "\n",
    "            subset_array = temp_df[start_row:end_row, :]\n",
    "\n",
    "            if isinstance(temp_df, pd.DataFrame):\n",
    "                subset_df = temp_df.iloc[start_row:end_row]\n",
    "            else: \n",
    "                subset_df = pd.DataFrame(subset_array, columns=columns[:subset_array.shape[1]])\n",
    "            dataframes[key] = subset_df\n",
    "    return dataframes"
   ]
  },
  {
   "cell_type": "code",
   "execution_count": 45,
   "metadata": {
    "id": "n-f4c0WiT9uK"
   },
   "outputs": [],
   "source": [
    "PATH = r'/content/drive/My Drive/HMS/specs.npy'\n",
    "\n",
    "spectrogram_names_to_load = df_spec_and_sub_random['spectrogram_name'].tolist()\n",
    "\n",
    "spectrograms = load_spectrograms(PATH)\n",
    "\n",
    "filtered_spectrograms = {k: v for k, v in spectrograms.items() if f\"{k}\" in df_spec_and_sub_random['spectrogram_id'].astype(str).tolist()}\n",
    "offset_lookup = create_lookup_dict(df_spec_and_sub_random)\n",
    "columns = get_column_names()\n",
    "\n",
    "sub_dataframes = get_spect_df(filtered_spectrograms, offset_lookup, columns)"
   ]
  },
  {
   "cell_type": "code",
   "execution_count": 46,
   "metadata": {
    "colab": {
     "base_uri": "https://localhost:8080/"
    },
    "id": "9AG2HmpO-_Cj",
    "outputId": "f2505a05-eac6-445c-ba71-0457c30bafc9"
   },
   "outputs": [
    {
     "data": {
      "text/plain": [
       "0"
      ]
     },
     "execution_count": 46,
     "metadata": {},
     "output_type": "execute_result"
    }
   ],
   "source": [
    "del spectrogram_names_to_load\n",
    "del spectrograms\n",
    "del offset_lookup\n",
    "del columns\n",
    "\n",
    "gc.collect()"
   ]
  },
  {
   "cell_type": "markdown",
   "metadata": {
    "id": "P9DLi4DP8OgS"
   },
   "source": [
    "### df_split"
   ]
  },
  {
   "cell_type": "code",
   "execution_count": 60,
   "metadata": {
    "id": "6euxOgpHBUJS"
   },
   "outputs": [],
   "source": [
    "filtered_df_split=df_spec_and_sub_random[['spectrogram_name', 'target_encoded']]"
   ]
  },
  {
   "cell_type": "code",
   "execution_count": 61,
   "metadata": {
    "colab": {
     "base_uri": "https://localhost:8080/",
     "height": 224
    },
    "id": "WKw_-99fBin2",
    "outputId": "4469233b-fe35-4f84-e231-aca2365c832d"
   },
   "outputs": [
    {
     "name": "stdout",
     "output_type": "stream",
     "text": [
      "(960, 2)\n"
     ]
    },
    {
     "data": {
      "application/vnd.google.colaboratory.intrinsic+json": {
       "summary": "{\n  \"name\": \"filtered_df_split\",\n  \"rows\": 960,\n  \"fields\": [\n    {\n      \"column\": \"spectrogram_name\",\n      \"properties\": {\n        \"dtype\": \"string\",\n        \"num_unique_values\": 960,\n        \"samples\": [\n          \"394956001_32\",\n          \"781427162_1\",\n          \"447919898_17\"\n        ],\n        \"semantic_type\": \"\",\n        \"description\": \"\"\n      }\n    },\n    {\n      \"column\": \"target_encoded\",\n      \"properties\": {\n        \"dtype\": \"number\",\n        \"std\": 1,\n        \"min\": 0,\n        \"max\": 5,\n        \"num_unique_values\": 6,\n        \"samples\": [\n          0,\n          1,\n          5\n        ],\n        \"semantic_type\": \"\",\n        \"description\": \"\"\n      }\n    }\n  ]\n}",
       "type": "dataframe",
       "variable_name": "filtered_df_split"
      },
      "text/html": [
       "\n",
       "  <div id=\"df-779ca615-2ec3-4581-a010-5857fc55eb10\" class=\"colab-df-container\">\n",
       "    <div>\n",
       "<style scoped>\n",
       "    .dataframe tbody tr th:only-of-type {\n",
       "        vertical-align: middle;\n",
       "    }\n",
       "\n",
       "    .dataframe tbody tr th {\n",
       "        vertical-align: top;\n",
       "    }\n",
       "\n",
       "    .dataframe thead th {\n",
       "        text-align: right;\n",
       "    }\n",
       "</style>\n",
       "<table border=\"1\" class=\"dataframe\">\n",
       "  <thead>\n",
       "    <tr style=\"text-align: right;\">\n",
       "      <th></th>\n",
       "      <th>spectrogram_name</th>\n",
       "      <th>target_encoded</th>\n",
       "    </tr>\n",
       "  </thead>\n",
       "  <tbody>\n",
       "    <tr>\n",
       "      <th>29444</th>\n",
       "      <td>574244954_0</td>\n",
       "      <td>0</td>\n",
       "    </tr>\n",
       "    <tr>\n",
       "      <th>57414</th>\n",
       "      <td>1156202173_20</td>\n",
       "      <td>0</td>\n",
       "    </tr>\n",
       "    <tr>\n",
       "      <th>11564</th>\n",
       "      <td>224763524_12</td>\n",
       "      <td>0</td>\n",
       "    </tr>\n",
       "    <tr>\n",
       "      <th>106402</th>\n",
       "      <td>2137439191_0</td>\n",
       "      <td>0</td>\n",
       "    </tr>\n",
       "    <tr>\n",
       "      <th>26283</th>\n",
       "      <td>514202944_53</td>\n",
       "      <td>0</td>\n",
       "    </tr>\n",
       "  </tbody>\n",
       "</table>\n",
       "</div>\n",
       "    <div class=\"colab-df-buttons\">\n",
       "\n",
       "  <div class=\"colab-df-container\">\n",
       "    <button class=\"colab-df-convert\" onclick=\"convertToInteractive('df-779ca615-2ec3-4581-a010-5857fc55eb10')\"\n",
       "            title=\"Convert this dataframe to an interactive table.\"\n",
       "            style=\"display:none;\">\n",
       "\n",
       "  <svg xmlns=\"http://www.w3.org/2000/svg\" height=\"24px\" viewBox=\"0 -960 960 960\">\n",
       "    <path d=\"M120-120v-720h720v720H120Zm60-500h600v-160H180v160Zm220 220h160v-160H400v160Zm0 220h160v-160H400v160ZM180-400h160v-160H180v160Zm440 0h160v-160H620v160ZM180-180h160v-160H180v160Zm440 0h160v-160H620v160Z\"/>\n",
       "  </svg>\n",
       "    </button>\n",
       "\n",
       "  <style>\n",
       "    .colab-df-container {\n",
       "      display:flex;\n",
       "      gap: 12px;\n",
       "    }\n",
       "\n",
       "    .colab-df-convert {\n",
       "      background-color: #E8F0FE;\n",
       "      border: none;\n",
       "      border-radius: 50%;\n",
       "      cursor: pointer;\n",
       "      display: none;\n",
       "      fill: #1967D2;\n",
       "      height: 32px;\n",
       "      padding: 0 0 0 0;\n",
       "      width: 32px;\n",
       "    }\n",
       "\n",
       "    .colab-df-convert:hover {\n",
       "      background-color: #E2EBFA;\n",
       "      box-shadow: 0px 1px 2px rgba(60, 64, 67, 0.3), 0px 1px 3px 1px rgba(60, 64, 67, 0.15);\n",
       "      fill: #174EA6;\n",
       "    }\n",
       "\n",
       "    .colab-df-buttons div {\n",
       "      margin-bottom: 4px;\n",
       "    }\n",
       "\n",
       "    [theme=dark] .colab-df-convert {\n",
       "      background-color: #3B4455;\n",
       "      fill: #D2E3FC;\n",
       "    }\n",
       "\n",
       "    [theme=dark] .colab-df-convert:hover {\n",
       "      background-color: #434B5C;\n",
       "      box-shadow: 0px 1px 3px 1px rgba(0, 0, 0, 0.15);\n",
       "      filter: drop-shadow(0px 1px 2px rgba(0, 0, 0, 0.3));\n",
       "      fill: #FFFFFF;\n",
       "    }\n",
       "  </style>\n",
       "\n",
       "    <script>\n",
       "      const buttonEl =\n",
       "        document.querySelector('#df-779ca615-2ec3-4581-a010-5857fc55eb10 button.colab-df-convert');\n",
       "      buttonEl.style.display =\n",
       "        google.colab.kernel.accessAllowed ? 'block' : 'none';\n",
       "\n",
       "      async function convertToInteractive(key) {\n",
       "        const element = document.querySelector('#df-779ca615-2ec3-4581-a010-5857fc55eb10');\n",
       "        const dataTable =\n",
       "          await google.colab.kernel.invokeFunction('convertToInteractive',\n",
       "                                                    [key], {});\n",
       "        if (!dataTable) return;\n",
       "\n",
       "        const docLinkHtml = 'Like what you see? Visit the ' +\n",
       "          '<a target=\"_blank\" href=https://colab.research.google.com/notebooks/data_table.ipynb>data table notebook</a>'\n",
       "          + ' to learn more about interactive tables.';\n",
       "        element.innerHTML = '';\n",
       "        dataTable['output_type'] = 'display_data';\n",
       "        await google.colab.output.renderOutput(dataTable, element);\n",
       "        const docLink = document.createElement('div');\n",
       "        docLink.innerHTML = docLinkHtml;\n",
       "        element.appendChild(docLink);\n",
       "      }\n",
       "    </script>\n",
       "  </div>\n",
       "\n",
       "\n",
       "<div id=\"df-3b4f48a1-8c55-4738-b15b-f8858393e8dd\">\n",
       "  <button class=\"colab-df-quickchart\" onclick=\"quickchart('df-3b4f48a1-8c55-4738-b15b-f8858393e8dd')\"\n",
       "            title=\"Suggest charts\"\n",
       "            style=\"display:none;\">\n",
       "\n",
       "<svg xmlns=\"http://www.w3.org/2000/svg\" height=\"24px\"viewBox=\"0 0 24 24\"\n",
       "     width=\"24px\">\n",
       "    <g>\n",
       "        <path d=\"M19 3H5c-1.1 0-2 .9-2 2v14c0 1.1.9 2 2 2h14c1.1 0 2-.9 2-2V5c0-1.1-.9-2-2-2zM9 17H7v-7h2v7zm4 0h-2V7h2v10zm4 0h-2v-4h2v4z\"/>\n",
       "    </g>\n",
       "</svg>\n",
       "  </button>\n",
       "\n",
       "<style>\n",
       "  .colab-df-quickchart {\n",
       "      --bg-color: #E8F0FE;\n",
       "      --fill-color: #1967D2;\n",
       "      --hover-bg-color: #E2EBFA;\n",
       "      --hover-fill-color: #174EA6;\n",
       "      --disabled-fill-color: #AAA;\n",
       "      --disabled-bg-color: #DDD;\n",
       "  }\n",
       "\n",
       "  [theme=dark] .colab-df-quickchart {\n",
       "      --bg-color: #3B4455;\n",
       "      --fill-color: #D2E3FC;\n",
       "      --hover-bg-color: #434B5C;\n",
       "      --hover-fill-color: #FFFFFF;\n",
       "      --disabled-bg-color: #3B4455;\n",
       "      --disabled-fill-color: #666;\n",
       "  }\n",
       "\n",
       "  .colab-df-quickchart {\n",
       "    background-color: var(--bg-color);\n",
       "    border: none;\n",
       "    border-radius: 50%;\n",
       "    cursor: pointer;\n",
       "    display: none;\n",
       "    fill: var(--fill-color);\n",
       "    height: 32px;\n",
       "    padding: 0;\n",
       "    width: 32px;\n",
       "  }\n",
       "\n",
       "  .colab-df-quickchart:hover {\n",
       "    background-color: var(--hover-bg-color);\n",
       "    box-shadow: 0 1px 2px rgba(60, 64, 67, 0.3), 0 1px 3px 1px rgba(60, 64, 67, 0.15);\n",
       "    fill: var(--button-hover-fill-color);\n",
       "  }\n",
       "\n",
       "  .colab-df-quickchart-complete:disabled,\n",
       "  .colab-df-quickchart-complete:disabled:hover {\n",
       "    background-color: var(--disabled-bg-color);\n",
       "    fill: var(--disabled-fill-color);\n",
       "    box-shadow: none;\n",
       "  }\n",
       "\n",
       "  .colab-df-spinner {\n",
       "    border: 2px solid var(--fill-color);\n",
       "    border-color: transparent;\n",
       "    border-bottom-color: var(--fill-color);\n",
       "    animation:\n",
       "      spin 1s steps(1) infinite;\n",
       "  }\n",
       "\n",
       "  @keyframes spin {\n",
       "    0% {\n",
       "      border-color: transparent;\n",
       "      border-bottom-color: var(--fill-color);\n",
       "      border-left-color: var(--fill-color);\n",
       "    }\n",
       "    20% {\n",
       "      border-color: transparent;\n",
       "      border-left-color: var(--fill-color);\n",
       "      border-top-color: var(--fill-color);\n",
       "    }\n",
       "    30% {\n",
       "      border-color: transparent;\n",
       "      border-left-color: var(--fill-color);\n",
       "      border-top-color: var(--fill-color);\n",
       "      border-right-color: var(--fill-color);\n",
       "    }\n",
       "    40% {\n",
       "      border-color: transparent;\n",
       "      border-right-color: var(--fill-color);\n",
       "      border-top-color: var(--fill-color);\n",
       "    }\n",
       "    60% {\n",
       "      border-color: transparent;\n",
       "      border-right-color: var(--fill-color);\n",
       "    }\n",
       "    80% {\n",
       "      border-color: transparent;\n",
       "      border-right-color: var(--fill-color);\n",
       "      border-bottom-color: var(--fill-color);\n",
       "    }\n",
       "    90% {\n",
       "      border-color: transparent;\n",
       "      border-bottom-color: var(--fill-color);\n",
       "    }\n",
       "  }\n",
       "</style>\n",
       "\n",
       "  <script>\n",
       "    async function quickchart(key) {\n",
       "      const quickchartButtonEl =\n",
       "        document.querySelector('#' + key + ' button');\n",
       "      quickchartButtonEl.disabled = true;  // To prevent multiple clicks.\n",
       "      quickchartButtonEl.classList.add('colab-df-spinner');\n",
       "      try {\n",
       "        const charts = await google.colab.kernel.invokeFunction(\n",
       "            'suggestCharts', [key], {});\n",
       "      } catch (error) {\n",
       "        console.error('Error during call to suggestCharts:', error);\n",
       "      }\n",
       "      quickchartButtonEl.classList.remove('colab-df-spinner');\n",
       "      quickchartButtonEl.classList.add('colab-df-quickchart-complete');\n",
       "    }\n",
       "    (() => {\n",
       "      let quickchartButtonEl =\n",
       "        document.querySelector('#df-3b4f48a1-8c55-4738-b15b-f8858393e8dd button');\n",
       "      quickchartButtonEl.style.display =\n",
       "        google.colab.kernel.accessAllowed ? 'block' : 'none';\n",
       "    })();\n",
       "  </script>\n",
       "</div>\n",
       "\n",
       "    </div>\n",
       "  </div>\n"
      ],
      "text/plain": [
       "       spectrogram_name  target_encoded\n",
       "29444       574244954_0               0\n",
       "57414     1156202173_20               0\n",
       "11564      224763524_12               0\n",
       "106402     2137439191_0               0\n",
       "26283      514202944_53               0"
      ]
     },
     "execution_count": 61,
     "metadata": {},
     "output_type": "execute_result"
    }
   ],
   "source": [
    "print(filtered_df_split.shape)\n",
    "filtered_df_split.head(5)"
   ]
  },
  {
   "cell_type": "markdown",
   "metadata": {
    "id": "v3-GA54G9qEK"
   },
   "source": [
    "### train-test-split"
   ]
  },
  {
   "cell_type": "code",
   "execution_count": 68,
   "metadata": {
    "colab": {
     "base_uri": "https://localhost:8080/"
    },
    "id": "F1MSxZn94mGJ",
    "outputId": "765cb4fb-b9db-4374-d6a5-e767d0ddfe34"
   },
   "outputs": [
    {
     "data": {
      "text/plain": [
       "((768, 1), (192, 1), (768,), (192,))"
      ]
     },
     "execution_count": 68,
     "metadata": {},
     "output_type": "execute_result"
    }
   ],
   "source": [
    "X = filtered_df_split.drop('target_encoded', axis=1) \n",
    "y = filtered_df_split['target_encoded'] \n",
    "\n",
    "X_train, X_test, y_train, y_test = train_test_split(X, y, test_size=0.2, random_state=42)\n",
    "X_train.shape, X_test.shape, y_train.shape, y_test.shape"
   ]
  },
  {
   "cell_type": "code",
   "execution_count": 69,
   "metadata": {
    "colab": {
     "base_uri": "https://localhost:8080/",
     "height": 424
    },
    "id": "0O7mXAN14mPU",
    "outputId": "a30182fd-95d7-4e59-816d-2685cb4f62ba"
   },
   "outputs": [
    {
     "data": {
      "application/vnd.google.colaboratory.intrinsic+json": {
       "summary": "{\n  \"name\": \"X_train\",\n  \"rows\": 768,\n  \"fields\": [\n    {\n      \"column\": \"spectrogram_name\",\n      \"properties\": {\n        \"dtype\": \"string\",\n        \"num_unique_values\": 768,\n        \"samples\": [\n          \"216555269_1\",\n          \"1497441371_2\",\n          \"1353377955_1\"\n        ],\n        \"semantic_type\": \"\",\n        \"description\": \"\"\n      }\n    }\n  ]\n}",
       "type": "dataframe",
       "variable_name": "X_train"
      },
      "text/html": [
       "\n",
       "  <div id=\"df-f6a88a26-80fc-424a-98f9-90eb16b5318d\" class=\"colab-df-container\">\n",
       "    <div>\n",
       "<style scoped>\n",
       "    .dataframe tbody tr th:only-of-type {\n",
       "        vertical-align: middle;\n",
       "    }\n",
       "\n",
       "    .dataframe tbody tr th {\n",
       "        vertical-align: top;\n",
       "    }\n",
       "\n",
       "    .dataframe thead th {\n",
       "        text-align: right;\n",
       "    }\n",
       "</style>\n",
       "<table border=\"1\" class=\"dataframe\">\n",
       "  <thead>\n",
       "    <tr style=\"text-align: right;\">\n",
       "      <th></th>\n",
       "      <th>spectrogram_name</th>\n",
       "    </tr>\n",
       "  </thead>\n",
       "  <tbody>\n",
       "    <tr>\n",
       "      <th>38846</th>\n",
       "      <td>761743893_10</td>\n",
       "    </tr>\n",
       "    <tr>\n",
       "      <th>82607</th>\n",
       "      <td>1685216144_16</td>\n",
       "    </tr>\n",
       "    <tr>\n",
       "      <th>8166</th>\n",
       "      <td>152656867_117</td>\n",
       "    </tr>\n",
       "    <tr>\n",
       "      <th>64390</th>\n",
       "      <td>1296208724_0</td>\n",
       "    </tr>\n",
       "    <tr>\n",
       "      <th>101179</th>\n",
       "      <td>2026519881_1</td>\n",
       "    </tr>\n",
       "    <tr>\n",
       "      <th>...</th>\n",
       "      <td>...</td>\n",
       "    </tr>\n",
       "    <tr>\n",
       "      <th>93899</th>\n",
       "      <td>1902315832_11</td>\n",
       "    </tr>\n",
       "    <tr>\n",
       "      <th>87428</th>\n",
       "      <td>1792610132_5</td>\n",
       "    </tr>\n",
       "    <tr>\n",
       "      <th>95029</th>\n",
       "      <td>1924208433_12</td>\n",
       "    </tr>\n",
       "    <tr>\n",
       "      <th>32391</th>\n",
       "      <td>627370907_5</td>\n",
       "    </tr>\n",
       "    <tr>\n",
       "      <th>75581</th>\n",
       "      <td>1516671583_44</td>\n",
       "    </tr>\n",
       "  </tbody>\n",
       "</table>\n",
       "<p>768 rows × 1 columns</p>\n",
       "</div>\n",
       "    <div class=\"colab-df-buttons\">\n",
       "\n",
       "  <div class=\"colab-df-container\">\n",
       "    <button class=\"colab-df-convert\" onclick=\"convertToInteractive('df-f6a88a26-80fc-424a-98f9-90eb16b5318d')\"\n",
       "            title=\"Convert this dataframe to an interactive table.\"\n",
       "            style=\"display:none;\">\n",
       "\n",
       "  <svg xmlns=\"http://www.w3.org/2000/svg\" height=\"24px\" viewBox=\"0 -960 960 960\">\n",
       "    <path d=\"M120-120v-720h720v720H120Zm60-500h600v-160H180v160Zm220 220h160v-160H400v160Zm0 220h160v-160H400v160ZM180-400h160v-160H180v160Zm440 0h160v-160H620v160ZM180-180h160v-160H180v160Zm440 0h160v-160H620v160Z\"/>\n",
       "  </svg>\n",
       "    </button>\n",
       "\n",
       "  <style>\n",
       "    .colab-df-container {\n",
       "      display:flex;\n",
       "      gap: 12px;\n",
       "    }\n",
       "\n",
       "    .colab-df-convert {\n",
       "      background-color: #E8F0FE;\n",
       "      border: none;\n",
       "      border-radius: 50%;\n",
       "      cursor: pointer;\n",
       "      display: none;\n",
       "      fill: #1967D2;\n",
       "      height: 32px;\n",
       "      padding: 0 0 0 0;\n",
       "      width: 32px;\n",
       "    }\n",
       "\n",
       "    .colab-df-convert:hover {\n",
       "      background-color: #E2EBFA;\n",
       "      box-shadow: 0px 1px 2px rgba(60, 64, 67, 0.3), 0px 1px 3px 1px rgba(60, 64, 67, 0.15);\n",
       "      fill: #174EA6;\n",
       "    }\n",
       "\n",
       "    .colab-df-buttons div {\n",
       "      margin-bottom: 4px;\n",
       "    }\n",
       "\n",
       "    [theme=dark] .colab-df-convert {\n",
       "      background-color: #3B4455;\n",
       "      fill: #D2E3FC;\n",
       "    }\n",
       "\n",
       "    [theme=dark] .colab-df-convert:hover {\n",
       "      background-color: #434B5C;\n",
       "      box-shadow: 0px 1px 3px 1px rgba(0, 0, 0, 0.15);\n",
       "      filter: drop-shadow(0px 1px 2px rgba(0, 0, 0, 0.3));\n",
       "      fill: #FFFFFF;\n",
       "    }\n",
       "  </style>\n",
       "\n",
       "    <script>\n",
       "      const buttonEl =\n",
       "        document.querySelector('#df-f6a88a26-80fc-424a-98f9-90eb16b5318d button.colab-df-convert');\n",
       "      buttonEl.style.display =\n",
       "        google.colab.kernel.accessAllowed ? 'block' : 'none';\n",
       "\n",
       "      async function convertToInteractive(key) {\n",
       "        const element = document.querySelector('#df-f6a88a26-80fc-424a-98f9-90eb16b5318d');\n",
       "        const dataTable =\n",
       "          await google.colab.kernel.invokeFunction('convertToInteractive',\n",
       "                                                    [key], {});\n",
       "        if (!dataTable) return;\n",
       "\n",
       "        const docLinkHtml = 'Like what you see? Visit the ' +\n",
       "          '<a target=\"_blank\" href=https://colab.research.google.com/notebooks/data_table.ipynb>data table notebook</a>'\n",
       "          + ' to learn more about interactive tables.';\n",
       "        element.innerHTML = '';\n",
       "        dataTable['output_type'] = 'display_data';\n",
       "        await google.colab.output.renderOutput(dataTable, element);\n",
       "        const docLink = document.createElement('div');\n",
       "        docLink.innerHTML = docLinkHtml;\n",
       "        element.appendChild(docLink);\n",
       "      }\n",
       "    </script>\n",
       "  </div>\n",
       "\n",
       "\n",
       "<div id=\"df-feb91b57-925f-456b-9265-97ba94d1d972\">\n",
       "  <button class=\"colab-df-quickchart\" onclick=\"quickchart('df-feb91b57-925f-456b-9265-97ba94d1d972')\"\n",
       "            title=\"Suggest charts\"\n",
       "            style=\"display:none;\">\n",
       "\n",
       "<svg xmlns=\"http://www.w3.org/2000/svg\" height=\"24px\"viewBox=\"0 0 24 24\"\n",
       "     width=\"24px\">\n",
       "    <g>\n",
       "        <path d=\"M19 3H5c-1.1 0-2 .9-2 2v14c0 1.1.9 2 2 2h14c1.1 0 2-.9 2-2V5c0-1.1-.9-2-2-2zM9 17H7v-7h2v7zm4 0h-2V7h2v10zm4 0h-2v-4h2v4z\"/>\n",
       "    </g>\n",
       "</svg>\n",
       "  </button>\n",
       "\n",
       "<style>\n",
       "  .colab-df-quickchart {\n",
       "      --bg-color: #E8F0FE;\n",
       "      --fill-color: #1967D2;\n",
       "      --hover-bg-color: #E2EBFA;\n",
       "      --hover-fill-color: #174EA6;\n",
       "      --disabled-fill-color: #AAA;\n",
       "      --disabled-bg-color: #DDD;\n",
       "  }\n",
       "\n",
       "  [theme=dark] .colab-df-quickchart {\n",
       "      --bg-color: #3B4455;\n",
       "      --fill-color: #D2E3FC;\n",
       "      --hover-bg-color: #434B5C;\n",
       "      --hover-fill-color: #FFFFFF;\n",
       "      --disabled-bg-color: #3B4455;\n",
       "      --disabled-fill-color: #666;\n",
       "  }\n",
       "\n",
       "  .colab-df-quickchart {\n",
       "    background-color: var(--bg-color);\n",
       "    border: none;\n",
       "    border-radius: 50%;\n",
       "    cursor: pointer;\n",
       "    display: none;\n",
       "    fill: var(--fill-color);\n",
       "    height: 32px;\n",
       "    padding: 0;\n",
       "    width: 32px;\n",
       "  }\n",
       "\n",
       "  .colab-df-quickchart:hover {\n",
       "    background-color: var(--hover-bg-color);\n",
       "    box-shadow: 0 1px 2px rgba(60, 64, 67, 0.3), 0 1px 3px 1px rgba(60, 64, 67, 0.15);\n",
       "    fill: var(--button-hover-fill-color);\n",
       "  }\n",
       "\n",
       "  .colab-df-quickchart-complete:disabled,\n",
       "  .colab-df-quickchart-complete:disabled:hover {\n",
       "    background-color: var(--disabled-bg-color);\n",
       "    fill: var(--disabled-fill-color);\n",
       "    box-shadow: none;\n",
       "  }\n",
       "\n",
       "  .colab-df-spinner {\n",
       "    border: 2px solid var(--fill-color);\n",
       "    border-color: transparent;\n",
       "    border-bottom-color: var(--fill-color);\n",
       "    animation:\n",
       "      spin 1s steps(1) infinite;\n",
       "  }\n",
       "\n",
       "  @keyframes spin {\n",
       "    0% {\n",
       "      border-color: transparent;\n",
       "      border-bottom-color: var(--fill-color);\n",
       "      border-left-color: var(--fill-color);\n",
       "    }\n",
       "    20% {\n",
       "      border-color: transparent;\n",
       "      border-left-color: var(--fill-color);\n",
       "      border-top-color: var(--fill-color);\n",
       "    }\n",
       "    30% {\n",
       "      border-color: transparent;\n",
       "      border-left-color: var(--fill-color);\n",
       "      border-top-color: var(--fill-color);\n",
       "      border-right-color: var(--fill-color);\n",
       "    }\n",
       "    40% {\n",
       "      border-color: transparent;\n",
       "      border-right-color: var(--fill-color);\n",
       "      border-top-color: var(--fill-color);\n",
       "    }\n",
       "    60% {\n",
       "      border-color: transparent;\n",
       "      border-right-color: var(--fill-color);\n",
       "    }\n",
       "    80% {\n",
       "      border-color: transparent;\n",
       "      border-right-color: var(--fill-color);\n",
       "      border-bottom-color: var(--fill-color);\n",
       "    }\n",
       "    90% {\n",
       "      border-color: transparent;\n",
       "      border-bottom-color: var(--fill-color);\n",
       "    }\n",
       "  }\n",
       "</style>\n",
       "\n",
       "  <script>\n",
       "    async function quickchart(key) {\n",
       "      const quickchartButtonEl =\n",
       "        document.querySelector('#' + key + ' button');\n",
       "      quickchartButtonEl.disabled = true;  // To prevent multiple clicks.\n",
       "      quickchartButtonEl.classList.add('colab-df-spinner');\n",
       "      try {\n",
       "        const charts = await google.colab.kernel.invokeFunction(\n",
       "            'suggestCharts', [key], {});\n",
       "      } catch (error) {\n",
       "        console.error('Error during call to suggestCharts:', error);\n",
       "      }\n",
       "      quickchartButtonEl.classList.remove('colab-df-spinner');\n",
       "      quickchartButtonEl.classList.add('colab-df-quickchart-complete');\n",
       "    }\n",
       "    (() => {\n",
       "      let quickchartButtonEl =\n",
       "        document.querySelector('#df-feb91b57-925f-456b-9265-97ba94d1d972 button');\n",
       "      quickchartButtonEl.style.display =\n",
       "        google.colab.kernel.accessAllowed ? 'block' : 'none';\n",
       "    })();\n",
       "  </script>\n",
       "</div>\n",
       "\n",
       "  <div id=\"id_2e467bbb-8106-4895-b961-7382bf422788\">\n",
       "    <style>\n",
       "      .colab-df-generate {\n",
       "        background-color: #E8F0FE;\n",
       "        border: none;\n",
       "        border-radius: 50%;\n",
       "        cursor: pointer;\n",
       "        display: none;\n",
       "        fill: #1967D2;\n",
       "        height: 32px;\n",
       "        padding: 0 0 0 0;\n",
       "        width: 32px;\n",
       "      }\n",
       "\n",
       "      .colab-df-generate:hover {\n",
       "        background-color: #E2EBFA;\n",
       "        box-shadow: 0px 1px 2px rgba(60, 64, 67, 0.3), 0px 1px 3px 1px rgba(60, 64, 67, 0.15);\n",
       "        fill: #174EA6;\n",
       "      }\n",
       "\n",
       "      [theme=dark] .colab-df-generate {\n",
       "        background-color: #3B4455;\n",
       "        fill: #D2E3FC;\n",
       "      }\n",
       "\n",
       "      [theme=dark] .colab-df-generate:hover {\n",
       "        background-color: #434B5C;\n",
       "        box-shadow: 0px 1px 3px 1px rgba(0, 0, 0, 0.15);\n",
       "        filter: drop-shadow(0px 1px 2px rgba(0, 0, 0, 0.3));\n",
       "        fill: #FFFFFF;\n",
       "      }\n",
       "    </style>\n",
       "    <button class=\"colab-df-generate\" onclick=\"generateWithVariable('X_train')\"\n",
       "            title=\"Generate code using this dataframe.\"\n",
       "            style=\"display:none;\">\n",
       "\n",
       "  <svg xmlns=\"http://www.w3.org/2000/svg\" height=\"24px\"viewBox=\"0 0 24 24\"\n",
       "       width=\"24px\">\n",
       "    <path d=\"M7,19H8.4L18.45,9,17,7.55,7,17.6ZM5,21V16.75L18.45,3.32a2,2,0,0,1,2.83,0l1.4,1.43a1.91,1.91,0,0,1,.58,1.4,1.91,1.91,0,0,1-.58,1.4L9.25,21ZM18.45,9,17,7.55Zm-12,3A5.31,5.31,0,0,0,4.9,8.1,5.31,5.31,0,0,0,1,6.5,5.31,5.31,0,0,0,4.9,4.9,5.31,5.31,0,0,0,6.5,1,5.31,5.31,0,0,0,8.1,4.9,5.31,5.31,0,0,0,12,6.5,5.46,5.46,0,0,0,6.5,12Z\"/>\n",
       "  </svg>\n",
       "    </button>\n",
       "    <script>\n",
       "      (() => {\n",
       "      const buttonEl =\n",
       "        document.querySelector('#id_2e467bbb-8106-4895-b961-7382bf422788 button.colab-df-generate');\n",
       "      buttonEl.style.display =\n",
       "        google.colab.kernel.accessAllowed ? 'block' : 'none';\n",
       "\n",
       "      buttonEl.onclick = () => {\n",
       "        google.colab.notebook.generateWithVariable('X_train');\n",
       "      }\n",
       "      })();\n",
       "    </script>\n",
       "  </div>\n",
       "\n",
       "    </div>\n",
       "  </div>\n"
      ],
      "text/plain": [
       "       spectrogram_name\n",
       "38846      761743893_10\n",
       "82607     1685216144_16\n",
       "8166      152656867_117\n",
       "64390      1296208724_0\n",
       "101179     2026519881_1\n",
       "...                 ...\n",
       "93899     1902315832_11\n",
       "87428      1792610132_5\n",
       "95029     1924208433_12\n",
       "32391       627370907_5\n",
       "75581     1516671583_44\n",
       "\n",
       "[768 rows x 1 columns]"
      ]
     },
     "execution_count": 69,
     "metadata": {},
     "output_type": "execute_result"
    }
   ],
   "source": [
    "X_train"
   ]
  },
  {
   "cell_type": "code",
   "execution_count": 70,
   "metadata": {
    "id": "2b_MtGDBDYAt"
   },
   "outputs": [],
   "source": [
    "# Create the train_dataframes and test_dataframes dictionaries\n",
    "train_dataframes = {spectrogram_name: sub_dataframes[spectrogram_name] for spectrogram_name in X_train['spectrogram_name']} # dataframes\n",
    "test_dataframes = {spectrogram_name: sub_dataframes[spectrogram_name] for spectrogram_name in X_test['spectrogram_name']} # dataframes"
   ]
  },
  {
   "cell_type": "code",
   "execution_count": 71,
   "metadata": {
    "colab": {
     "base_uri": "https://localhost:8080/"
    },
    "id": "bgTzbU0U4mYn",
    "outputId": "802ca18b-24c9-4d5f-e127-117f0ad30b20"
   },
   "outputs": [
    {
     "data": {
      "text/plain": [
       "(768, 192)"
      ]
     },
     "execution_count": 71,
     "metadata": {},
     "output_type": "execute_result"
    }
   ],
   "source": [
    "len(train_dataframes.keys()),len(test_dataframes.keys())"
   ]
  },
  {
   "cell_type": "code",
   "execution_count": 72,
   "metadata": {
    "colab": {
     "base_uri": "https://localhost:8080/"
    },
    "id": "sT4smcAXC0Pq",
    "outputId": "6cb47def-e240-498d-cf54-61c4378cf003"
   },
   "outputs": [
    {
     "data": {
      "text/plain": [
       "(768, 192)"
      ]
     },
     "execution_count": 72,
     "metadata": {},
     "output_type": "execute_result"
    }
   ],
   "source": [
    "len(train_dataframes.items()),len(test_dataframes.items())"
   ]
  },
  {
   "cell_type": "code",
   "execution_count": 73,
   "metadata": {
    "colab": {
     "base_uri": "https://localhost:8080/",
     "height": 206
    },
    "id": "FYaYbd4L4mh7",
    "outputId": "709681a9-4b87-4365-d92a-984ecfcf2bbc"
   },
   "outputs": [
    {
     "data": {
      "application/vnd.google.colaboratory.intrinsic+json": {
       "summary": "{\n  \"name\": \"X_train\",\n  \"rows\": 768,\n  \"fields\": [\n    {\n      \"column\": \"spectrogram_name\",\n      \"properties\": {\n        \"dtype\": \"string\",\n        \"num_unique_values\": 768,\n        \"samples\": [\n          \"216555269_1\",\n          \"1497441371_2\",\n          \"1353377955_1\"\n        ],\n        \"semantic_type\": \"\",\n        \"description\": \"\"\n      }\n    }\n  ]\n}",
       "type": "dataframe",
       "variable_name": "X_train"
      },
      "text/html": [
       "\n",
       "  <div id=\"df-14da8421-90ef-4268-923e-e36da55699cb\" class=\"colab-df-container\">\n",
       "    <div>\n",
       "<style scoped>\n",
       "    .dataframe tbody tr th:only-of-type {\n",
       "        vertical-align: middle;\n",
       "    }\n",
       "\n",
       "    .dataframe tbody tr th {\n",
       "        vertical-align: top;\n",
       "    }\n",
       "\n",
       "    .dataframe thead th {\n",
       "        text-align: right;\n",
       "    }\n",
       "</style>\n",
       "<table border=\"1\" class=\"dataframe\">\n",
       "  <thead>\n",
       "    <tr style=\"text-align: right;\">\n",
       "      <th></th>\n",
       "      <th>spectrogram_name</th>\n",
       "    </tr>\n",
       "  </thead>\n",
       "  <tbody>\n",
       "    <tr>\n",
       "      <th>38846</th>\n",
       "      <td>761743893_10</td>\n",
       "    </tr>\n",
       "    <tr>\n",
       "      <th>82607</th>\n",
       "      <td>1685216144_16</td>\n",
       "    </tr>\n",
       "    <tr>\n",
       "      <th>8166</th>\n",
       "      <td>152656867_117</td>\n",
       "    </tr>\n",
       "    <tr>\n",
       "      <th>64390</th>\n",
       "      <td>1296208724_0</td>\n",
       "    </tr>\n",
       "    <tr>\n",
       "      <th>101179</th>\n",
       "      <td>2026519881_1</td>\n",
       "    </tr>\n",
       "  </tbody>\n",
       "</table>\n",
       "</div>\n",
       "    <div class=\"colab-df-buttons\">\n",
       "\n",
       "  <div class=\"colab-df-container\">\n",
       "    <button class=\"colab-df-convert\" onclick=\"convertToInteractive('df-14da8421-90ef-4268-923e-e36da55699cb')\"\n",
       "            title=\"Convert this dataframe to an interactive table.\"\n",
       "            style=\"display:none;\">\n",
       "\n",
       "  <svg xmlns=\"http://www.w3.org/2000/svg\" height=\"24px\" viewBox=\"0 -960 960 960\">\n",
       "    <path d=\"M120-120v-720h720v720H120Zm60-500h600v-160H180v160Zm220 220h160v-160H400v160Zm0 220h160v-160H400v160ZM180-400h160v-160H180v160Zm440 0h160v-160H620v160ZM180-180h160v-160H180v160Zm440 0h160v-160H620v160Z\"/>\n",
       "  </svg>\n",
       "    </button>\n",
       "\n",
       "  <style>\n",
       "    .colab-df-container {\n",
       "      display:flex;\n",
       "      gap: 12px;\n",
       "    }\n",
       "\n",
       "    .colab-df-convert {\n",
       "      background-color: #E8F0FE;\n",
       "      border: none;\n",
       "      border-radius: 50%;\n",
       "      cursor: pointer;\n",
       "      display: none;\n",
       "      fill: #1967D2;\n",
       "      height: 32px;\n",
       "      padding: 0 0 0 0;\n",
       "      width: 32px;\n",
       "    }\n",
       "\n",
       "    .colab-df-convert:hover {\n",
       "      background-color: #E2EBFA;\n",
       "      box-shadow: 0px 1px 2px rgba(60, 64, 67, 0.3), 0px 1px 3px 1px rgba(60, 64, 67, 0.15);\n",
       "      fill: #174EA6;\n",
       "    }\n",
       "\n",
       "    .colab-df-buttons div {\n",
       "      margin-bottom: 4px;\n",
       "    }\n",
       "\n",
       "    [theme=dark] .colab-df-convert {\n",
       "      background-color: #3B4455;\n",
       "      fill: #D2E3FC;\n",
       "    }\n",
       "\n",
       "    [theme=dark] .colab-df-convert:hover {\n",
       "      background-color: #434B5C;\n",
       "      box-shadow: 0px 1px 3px 1px rgba(0, 0, 0, 0.15);\n",
       "      filter: drop-shadow(0px 1px 2px rgba(0, 0, 0, 0.3));\n",
       "      fill: #FFFFFF;\n",
       "    }\n",
       "  </style>\n",
       "\n",
       "    <script>\n",
       "      const buttonEl =\n",
       "        document.querySelector('#df-14da8421-90ef-4268-923e-e36da55699cb button.colab-df-convert');\n",
       "      buttonEl.style.display =\n",
       "        google.colab.kernel.accessAllowed ? 'block' : 'none';\n",
       "\n",
       "      async function convertToInteractive(key) {\n",
       "        const element = document.querySelector('#df-14da8421-90ef-4268-923e-e36da55699cb');\n",
       "        const dataTable =\n",
       "          await google.colab.kernel.invokeFunction('convertToInteractive',\n",
       "                                                    [key], {});\n",
       "        if (!dataTable) return;\n",
       "\n",
       "        const docLinkHtml = 'Like what you see? Visit the ' +\n",
       "          '<a target=\"_blank\" href=https://colab.research.google.com/notebooks/data_table.ipynb>data table notebook</a>'\n",
       "          + ' to learn more about interactive tables.';\n",
       "        element.innerHTML = '';\n",
       "        dataTable['output_type'] = 'display_data';\n",
       "        await google.colab.output.renderOutput(dataTable, element);\n",
       "        const docLink = document.createElement('div');\n",
       "        docLink.innerHTML = docLinkHtml;\n",
       "        element.appendChild(docLink);\n",
       "      }\n",
       "    </script>\n",
       "  </div>\n",
       "\n",
       "\n",
       "<div id=\"df-8cf5d2f2-fa6c-4932-ae30-b0547f4bf727\">\n",
       "  <button class=\"colab-df-quickchart\" onclick=\"quickchart('df-8cf5d2f2-fa6c-4932-ae30-b0547f4bf727')\"\n",
       "            title=\"Suggest charts\"\n",
       "            style=\"display:none;\">\n",
       "\n",
       "<svg xmlns=\"http://www.w3.org/2000/svg\" height=\"24px\"viewBox=\"0 0 24 24\"\n",
       "     width=\"24px\">\n",
       "    <g>\n",
       "        <path d=\"M19 3H5c-1.1 0-2 .9-2 2v14c0 1.1.9 2 2 2h14c1.1 0 2-.9 2-2V5c0-1.1-.9-2-2-2zM9 17H7v-7h2v7zm4 0h-2V7h2v10zm4 0h-2v-4h2v4z\"/>\n",
       "    </g>\n",
       "</svg>\n",
       "  </button>\n",
       "\n",
       "<style>\n",
       "  .colab-df-quickchart {\n",
       "      --bg-color: #E8F0FE;\n",
       "      --fill-color: #1967D2;\n",
       "      --hover-bg-color: #E2EBFA;\n",
       "      --hover-fill-color: #174EA6;\n",
       "      --disabled-fill-color: #AAA;\n",
       "      --disabled-bg-color: #DDD;\n",
       "  }\n",
       "\n",
       "  [theme=dark] .colab-df-quickchart {\n",
       "      --bg-color: #3B4455;\n",
       "      --fill-color: #D2E3FC;\n",
       "      --hover-bg-color: #434B5C;\n",
       "      --hover-fill-color: #FFFFFF;\n",
       "      --disabled-bg-color: #3B4455;\n",
       "      --disabled-fill-color: #666;\n",
       "  }\n",
       "\n",
       "  .colab-df-quickchart {\n",
       "    background-color: var(--bg-color);\n",
       "    border: none;\n",
       "    border-radius: 50%;\n",
       "    cursor: pointer;\n",
       "    display: none;\n",
       "    fill: var(--fill-color);\n",
       "    height: 32px;\n",
       "    padding: 0;\n",
       "    width: 32px;\n",
       "  }\n",
       "\n",
       "  .colab-df-quickchart:hover {\n",
       "    background-color: var(--hover-bg-color);\n",
       "    box-shadow: 0 1px 2px rgba(60, 64, 67, 0.3), 0 1px 3px 1px rgba(60, 64, 67, 0.15);\n",
       "    fill: var(--button-hover-fill-color);\n",
       "  }\n",
       "\n",
       "  .colab-df-quickchart-complete:disabled,\n",
       "  .colab-df-quickchart-complete:disabled:hover {\n",
       "    background-color: var(--disabled-bg-color);\n",
       "    fill: var(--disabled-fill-color);\n",
       "    box-shadow: none;\n",
       "  }\n",
       "\n",
       "  .colab-df-spinner {\n",
       "    border: 2px solid var(--fill-color);\n",
       "    border-color: transparent;\n",
       "    border-bottom-color: var(--fill-color);\n",
       "    animation:\n",
       "      spin 1s steps(1) infinite;\n",
       "  }\n",
       "\n",
       "  @keyframes spin {\n",
       "    0% {\n",
       "      border-color: transparent;\n",
       "      border-bottom-color: var(--fill-color);\n",
       "      border-left-color: var(--fill-color);\n",
       "    }\n",
       "    20% {\n",
       "      border-color: transparent;\n",
       "      border-left-color: var(--fill-color);\n",
       "      border-top-color: var(--fill-color);\n",
       "    }\n",
       "    30% {\n",
       "      border-color: transparent;\n",
       "      border-left-color: var(--fill-color);\n",
       "      border-top-color: var(--fill-color);\n",
       "      border-right-color: var(--fill-color);\n",
       "    }\n",
       "    40% {\n",
       "      border-color: transparent;\n",
       "      border-right-color: var(--fill-color);\n",
       "      border-top-color: var(--fill-color);\n",
       "    }\n",
       "    60% {\n",
       "      border-color: transparent;\n",
       "      border-right-color: var(--fill-color);\n",
       "    }\n",
       "    80% {\n",
       "      border-color: transparent;\n",
       "      border-right-color: var(--fill-color);\n",
       "      border-bottom-color: var(--fill-color);\n",
       "    }\n",
       "    90% {\n",
       "      border-color: transparent;\n",
       "      border-bottom-color: var(--fill-color);\n",
       "    }\n",
       "  }\n",
       "</style>\n",
       "\n",
       "  <script>\n",
       "    async function quickchart(key) {\n",
       "      const quickchartButtonEl =\n",
       "        document.querySelector('#' + key + ' button');\n",
       "      quickchartButtonEl.disabled = true;  // To prevent multiple clicks.\n",
       "      quickchartButtonEl.classList.add('colab-df-spinner');\n",
       "      try {\n",
       "        const charts = await google.colab.kernel.invokeFunction(\n",
       "            'suggestCharts', [key], {});\n",
       "      } catch (error) {\n",
       "        console.error('Error during call to suggestCharts:', error);\n",
       "      }\n",
       "      quickchartButtonEl.classList.remove('colab-df-spinner');\n",
       "      quickchartButtonEl.classList.add('colab-df-quickchart-complete');\n",
       "    }\n",
       "    (() => {\n",
       "      let quickchartButtonEl =\n",
       "        document.querySelector('#df-8cf5d2f2-fa6c-4932-ae30-b0547f4bf727 button');\n",
       "      quickchartButtonEl.style.display =\n",
       "        google.colab.kernel.accessAllowed ? 'block' : 'none';\n",
       "    })();\n",
       "  </script>\n",
       "</div>\n",
       "\n",
       "    </div>\n",
       "  </div>\n"
      ],
      "text/plain": [
       "       spectrogram_name\n",
       "38846      761743893_10\n",
       "82607     1685216144_16\n",
       "8166      152656867_117\n",
       "64390      1296208724_0\n",
       "101179     2026519881_1"
      ]
     },
     "execution_count": 73,
     "metadata": {},
     "output_type": "execute_result"
    }
   ],
   "source": [
    "X_train.head(5) # check of same order"
   ]
  },
  {
   "cell_type": "code",
   "execution_count": 74,
   "metadata": {
    "colab": {
     "base_uri": "https://localhost:8080/"
    },
    "id": "0vHSk5zT_w_0",
    "outputId": "531d974f-393c-4f30-eb0c-b8ea531f3ce3"
   },
   "outputs": [
    {
     "data": {
      "text/plain": [
       "dict_keys(['761743893_10', '1685216144_16', '152656867_117', '1296208724_0', '2026519881_1', '1381868883_11', '1194143774_14', '1256736597_4', '1974785580_597', '1643788791_71', '1041114675_58', '735193322_7', '912089765_9', '785443725_8', '528154654_2', '1700039650_3', '224763524_12', '1233339936_10', '1863712617_239', '183066887_7', '76942742_19', '1974785580_118', '1391458063_477', '454686859_32', '2119328988_0', '482265776_17', '1824934500_26', '2088054239_22', '1410762470_14', '18243001_66', '258420520_0', '139548553_5', '172731638_69', '1556104233_4', '630916495_6', '665585319_3', '465078132_8', '313593792_43', '1455661633_60', '556413443_42', '1399016604_1', '1321405304_6', '18243001_35', '764146759_882', '365931891_448', '747230293_104', '264461237_10', '1188151069_13', '180069666_16', '1077924650_5', '15355234_1', '1623195435_26', '1960101375_3', '1099444437_2', '1467844917_2', '2063104016_196', '764146759_386', '1808961741_5', '1975750757_11', '1254544437_138', '2006954597_12', '1974785580_23', '1924846876_4', '1244627957_17', '867078717_10', '1497099492_13', '1663167516_0', '754423276_4', '1850515270_1', '1138721090_0', '1404338130_5', '1974785580_160', '1992601983_20', '764146759_991', '1490474482_1', '2114622625_1', '500831388_0', '484774238_1', '1458135053_3', '1818039110_112', '1958194618_61', '1078756274_5', '1118939548_0', '1987400764_100', '1991805460_0', '571305351_3', '2080241879_23', '1406575567_1', '525426737_23', '1524721337_6', '749100979_1', '319287046_37', '1189194577_0', '365931891_247', '1919815740_4', '307192224_3', '763010907_4', '682917955_35', '1246884404_2', '1974785580_129', '1804278181_9', '822886851_5', '1724654603_2', '2136019795_0', '705358082_0', '1834251506_148', '904625502_5', '1101743820_72', '1255933990_42', '1218072833_6', '764146759_2', '574244954_0', '1109809660_2', '1503906458_3', '1683484371_0', '966159100_50', '1473215297_0', '2115705798_1', '1459145426_58', '840003147_17', '8412233_1', '444214561_3', '746887357_3', '1877608673_27', '2088409244_6', '1552083466_10', '1661726739_37', '2089000336_6', '33423347_89', '764478042_6', '683350709_4', '773868465_5', '1137481986_1', '2031636451_47', '1374977711_18', '1722272591_76', '991739212_34', '1331062402_135', '737654948_9', '1974785580_817', '390930661_5', '1007658782_0', '343526854_60', '152062458_17', '731201762_6', '1990764185_43', '1195203174_3', '937997326_9', '1414783800_3', '577118473_461', '1270981369_0', '918091117_1', '213948957_24', '513069562_206', '934830567_4', '1156825996_115', '1491410313_17', '2003040655_6', '620066539_4', '1666406597_12', '1992601983_15', '1568768668_253', '123692155_5', '468382538_3', '267794218_78', '105099795_4', '567999657_0', '119042997_0', '1617336659_17', '1615073307_13', '1287487001_11', '1118150020_58', '923194776_1', '1671531299_0', '1501925171_1', '215559912_28', '1863712617_466', '1428188984_4', '518696643_8', '732135990_1', '18243001_170', '257158387_7', '1547288977_17', '904861281_2', '912089765_2', '1707096204_2', '407867562_50', '2060129542_4', '365931891_520', '1423909229_1', '975427267_8', '356026222_8', '707115644_0', '764146759_605', '1196150994_8', '273116110_0', '214892846_8', '1050123564_7', '846047506_7', '928279765_0', '1101743820_183', '479250878_0', '626368852_6', '1367858923_5', '485515869_10', '679452008_12', '841227593_8', '6075641_10', '1509968105_1', '589979261_22', '1191921424_9', '365931891_393', '152656867_94', '791693064_5', '409255230_7', '1750691983_1', '1531539487_11', '1719086995_15', '454686859_80', '1887222811_2', '1978896661_1', '2141866254_10', '581341699_6', '1238991345_39', '1198529646_66', '653013606_9', '1818952733_6', '843472550_1', '1255149279_4', '492373983_84', '1954324115_19', '764146759_65', '120618565_15', '362245747_25', '557486857_1', '1814936601_56', '1391458063_93', '1192717089_0', '142835949_6', '813554932_10', '1381092172_4', '525426737_205', '890767140_14', '1262001225_98', '312549532_1', '2071572835_11', '1506750828_1', '999431_3', '1391458063_234', '722500281_107', '455954856_0', '1135006191_1', '1745913294_75', '1131401938_4', '365931891_213', '1027952218_62', '12849827_382', '19384736_69', '1661726739_31', '1659812292_25', '500831388_50', '863759257_123', '1885553695_0', '1471495980_103', '638656716_33', '440339322_29', '1603401654_5', '307238753_2', '1180342528_186', '1353286216_6', '844076644_22', '178213061_80', '975427267_6', '442901632_102', '840003147_348', '2137439191_0', '747230293_271', '2018400688_8', '304136804_10', '1928950632_0', '837389417_1', '1573327368_20', '207810720_1', '1057040168_8', '1749338618_1', '1940415234_106', '1902680694_1', '879008002_12', '140880712_13', '1142270140_0', '292200982_25', '320541876_7', '1916485880_1', '1961265419_30', '2119511562_16', '2006355958_4', '2145358771_3', '408200811_13', '1252990839_6', '1488773884_1', '611499373_113', '1208105800_2', '2027466253_7', '1497787133_1', '1818772278_9', '300274240_161', '288313780_0', '513069562_104', '861818572_1', '300274240_145', '1643788791_21', '1002394133_39', '1992601983_49', '691892885_7', '236028112_99', '2013976408_10', '161378078_1', '1834251506_227', '1666966167_0', '407867562_25', '1391458063_106', '481365981_0', '2029861763_22', '851586553_7', '1497441371_2', '1316260868_16', '655087439_26', '80281365_51', '1597167674_6', '1663539677_3', '1148540291_19', '602682830_15', '666145139_20', '339500651_44', '1603288796_2', '1306526317_0', '1927296996_3', '1611682490_0', '1568768668_265', '613581831_5', '1974785580_737', '12849827_249', '1506750828_4', '1177679457_14', '650655925_1', '1559079605_1', '1959040606_4', '6333554_19', '1960959049_1', '1392914314_13', '700322838_0', '1888996493_3', '983652519_6', '723086110_8', '1818039110_24', '777081883_1', '1333504999_55', '1758794835_3', '1371867778_2', '437873085_23', '1834251506_181', '1641427612_1', '128825550_6', '300274240_178', '1797059851_7', '1635687242_4', '819166850_2', '1430808324_6', '172731638_73', '1713429049_86', '485515869_9', '272214389_168', '155584006_7', '768297036_17', '862174834_3', '1679514581_0', '882918945_2', '887698287_0', '1087520720_4', '232750367_9', '299897233_6', '12741486_14', '1844488744_7', '766358488_23', '2099328860_1', '2033704237_6', '40722820_53', '642926510_1', '1540613004_10', '211577275_10', '1391458063_9', '525426737_197', '1283216023_1', '1863432749_1', '1343094925_295', '1412716826_1', '2023408475_19', '2020358595_2', '837176107_4', '1222041030_9', '309062860_1', '898484641_6', '1169545693_6', '333732566_36', '1436618624_5', '572444744_46', '1908433744_18', '609376202_0', '80281365_132', '623532936_6', '378051858_13', '580876713_4', '1484395502_0', '513500121_0', '1871121025_4', '1067342787_114', '1218682575_10', '939602436_135', '1536896510_0', '1258207181_39', '1875568468_15', '447919898_10', '1521362813_17', '1433063610_0', '51346992_2', '1005228554_20', '1049084276_10', '656460159_5', '495433108_6', '380192515_4', '292517073_7', '529294845_2', '383037322_1', '1343094925_89', '1838440778_0', '1403405993_1', '1217486326_1', '962532797_1', '1713226242_1', '991585543_2', '1469831475_66', '1939613071_1', '50982229_1', '1942112626_1', '2059318274_17', '1017379890_14', '1707184456_25', '463266290_0', '1863712617_108', '470580984_7', '862412718_4', '2080241879_26', '454566327_0', '1603611748_2', '993302181_2', '547147373_117', '1979428720_22', '319458267_2', '1234695920_1', '1808873879_2', '354906605_13', '294315456_3', '354906605_5', '1381868883_0', '1738237625_12', '1296779512_0', '892767331_18', '743127550_22', '777140947_2', '1287487001_9', '1363899022_42', '1943821262_1', '2111614335_2', '1975750757_36', '1443665631_15', '302667296_8', '1254968875_2', '939602436_55', '1845579280_1', '1568430759_0', '898426011_2', '129142053_5', '427524238_0', '1762589450_35', '840003147_64', '272214389_21', '861679938_6', '1101111339_3', '269371321_0', '256507197_1', '136718854_2', '1361034496_2', '394227767_249', '1572657637_8', '33423347_86', '795651120_3', '863759257_244', '625236923_2', '160509439_15', '441340469_8', '1153501866_3', '1346714815_4', '692011718_11', '25403391_3', '596236451_43', '1640395363_5', '1453523441_21', '1238991345_87', '1960395796_19', '263125681_3', '1008302041_4', '1712544511_3', '958732703_17', '1391458063_701', '12741486_68', '265875687_2', '1208429612_9', '849899253_1', '258482685_0', '1240941687_0', '1110306968_0', '211319746_23', '1169659087_8', '2121305288_2', '1515109158_11', '2070246712_0', '1016584114_4', '1915498449_12', '1863712617_501', '947422988_13', '2102491271_6', '709417294_6', '2080062068_0', '1238991345_166', '1707184456_53', '1734847819_26', '1469891977_3', '1974785580_361', '2013976408_6', '704582674_26', '995785734_47', '1980523509_0', '300618433_13', '1693103967_2', '767122824_2', '655202395_7', '343578284_1', '38412976_20', '55500882_0', '1160200817_9', '1923882262_0', '1890994241_4', '1467510074_28', '851586553_2', '1231929915_5', '703595821_0', '841227593_10', '447337990_48', '1222625047_17', '375579775_5', '1063832313_13', '757577629_0', '1596477038_3', '833403421_13', '139548553_0', '504853479_14', '2142698477_9', '595654986_9', '757577629_1', '247439982_0', '51553185_26', '2141866254_24', '994484294_1', '320116531_8', '611499373_164', '588328608_42', '2011177737_136', '1035367939_3', '1799831387_6', '2032242585_4', '1585815557_16', '989905716_19', '11018916_27', '863759257_170', '368617727_2', '313786522_1', '1045416210_2', '2041438181_2', '1782733277_4', '1772108216_6', '1180342528_46', '840003147_198', '672344686_4', '298598998_8', '1745176117_3', '1494842466_13', '481081757_38', '1735558388_0', '1262001225_87', '1927665559_2', '1070604823_11', '51264408_9', '1139500469_2', '172731638_175', '266277986_2', '1185207880_7', '726743020_4', '514202944_53', '819823439_12', '698975277_5', '2077398559_20', '1313048283_9', '47995415_3', '1136480650_1', '528989655_3', '1019922126_0', '1469831475_5', '1129967002_9', '1029363580_8', '419969456_10', '764146759_371', '2020382699_4', '722500281_0', '1686111709_9', '1353377955_1', '6333554_4', '878407546_1', '1113010806_16', '960941607_9', '1578376681_4', '1336340733_3', '134653761_4', '796957931_15', '1012034843_5', '200303629_59', '794762189_41', '605108414_5', '1038491962_51', '2002177722_7', '1818039110_18', '731201762_47', '1065437182_4', '1114714193_6', '1839298704_8', '1243331866_2', '504853479_17', '707210069_24', '513069562_268', '393314082_1', '215420157_1', '586037134_1', '1469831475_61', '780890284_15', '939592836_11', '1701641676_1', '1034546753_14', '1753989993_2', '1452021322_5', '1643788791_37', '945833097_1', '471860660_0', '388950302_1', '1971352179_4', '1491410313_16', '295816730_2', '1952091959_3', '667423905_6', '1863712617_688', '216555269_1', '960941607_11', '2028972067_0', '611720794_11', '40722820_0', '540713431_18', '257683462_14', '1659812292_71', '547002968_6', '1565219696_7', '400534850_1', '59149277_6', '668167696_8', '925851584_4', '1870621922_14', '897241319_18', '50617328_5', '1156202173_20', '631957787_33', '340209816_10', '2080241879_20', '1469831475_75', '747230293_46', '2037534387_3', '729928289_3', '570768683_0', '1742275033_1', '1878395417_4', '738204901_19', '872499902_16', '945833097_10', '1872874_2', '764146759_702', '197500909_4', '354818406_1', '513069562_145', '253763411_19', '1869649925_28', '796957931_83', '1762994934_39', '1840957312_10', '1330263275_5', '966625757_18', '2026904854_0', '473809305_8', '841227593_23', '274989544_2', '296461438_0', '1847113163_1', '1949530090_121', '536397604_95', '1211595389_0', '616240880_2', '1310472512_1', '691892885_1', '753940878_1', '775471877_5', '19384736_17', '1066187081_3', '536397604_126', '2030551557_0', '959520999_4', '1524392344_43', '1397658319_7', '458032757_3', '1120455438_4', '1391458063_259', '766071386_1', '1399281636_0', '1307483611_42', '1880721318_15', '38412976_11', '104642259_1', '1074679891_5', '59952310_15', '1987400764_152', '701519913_3', '1770232095_48', '892767331_15', '2085292171_0', '978166025_60', '1577398066_2', '1373237175_11', '899376171_13', '1884763769_7', '547147373_18', '764146759_438', '140880712_19', '1036036028_31', '1085147433_25', '308589636_2', '712491750_5', '630291020_1', '252062229_1', '828595307_6', '1902315832_11', '1792610132_5', '1924208433_12', '627370907_5', '1516671583_44'])"
      ]
     },
     "execution_count": 74,
     "metadata": {},
     "output_type": "execute_result"
    }
   ],
   "source": [
    "train_dataframes.keys() # check of same order"
   ]
  },
  {
   "cell_type": "markdown",
   "metadata": {
    "id": "hjMvoncHI8hQ"
   },
   "source": [
    "### Preprocessing"
   ]
  },
  {
   "cell_type": "code",
   "execution_count": 76,
   "metadata": {
    "id": "oP6zTjwN_xd6"
   },
   "outputs": [],
   "source": [
    "def impute_with_zero(df):\n",
    "    \"\"\"Impute missing values with 0.\"\"\"\n",
    "    return df.fillna(0)"
   ]
  },
  {
   "cell_type": "code",
   "execution_count": 77,
   "metadata": {
    "id": "SdFGO11U_xrV"
   },
   "outputs": [],
   "source": [
    "def flatten_dataframe(df):\n",
    "    \"\"\"Flatten the DataFrame to a 1D array.\"\"\"\n",
    "    return df.values.flatten()"
   ]
  },
  {
   "cell_type": "code",
   "execution_count": 81,
   "metadata": {
    "colab": {
     "base_uri": "https://localhost:8080/"
    },
    "id": "xoW51vTyynac",
    "outputId": "243e6a5a-1f9c-4683-f767-02bbcf4c866d"
   },
   "outputs": [
    {
     "name": "stderr",
     "output_type": "stream",
     "text": [
      "Processing DataFrames: 100%|██████████| 768/768 [00:00<00:00, 1674.29it/s]\n",
      "Processing DataFrames: 100%|██████████| 192/192 [00:00<00:00, 683.18it/s]\n"
     ]
    }
   ],
   "source": [
    "list_order_X_train = list(X_train['spectrogram_name'])\n",
    "list_order_X_test = list(X_test['spectrogram_name'])\n",
    "\n",
    "\n",
    "def process_and_convert_dataframes(dataframes_dict, impute_func, order=None):\n",
    "    \"\"\"\n",
    "    Process the given dictionary of dataframes with the specified imputation function,\n",
    "    flatten them, and convert to a DataFrame, optionally ordered by the given list.\n",
    "\n",
    "    Args:\n",
    "    - dataframes_dict: Dictionary of DataFrames to process.\n",
    "    - impute_func: Function to impute missing values in the DataFrame.\n",
    "    - order: Optional list to specify the order of rows in the final DataFrame.\n",
    "\n",
    "    Returns:\n",
    "    - A DataFrame containing processed data from dataframes_dict.\n",
    "    \"\"\"\n",
    "    processed_data = []\n",
    "    for spectrogram_id, df in tqdm(dataframes_dict.items(), desc=\"Processing DataFrames\"):\n",
    "        imputed_df = impute_func(df)\n",
    "        flattened_array = imputed_df.values.flatten()\n",
    "\n",
    "        # note: for attempt of averaging columns - so far reduced accuracy\n",
    "        # averaged_df = imputed_df.groupby(np.arange(len(imputed_df)) // 10).mean()\n",
    "        # flattened_array = flatten_dataframe(averaged_df)\n",
    "\n",
    "        processed_data.append((spectrogram_id, flattened_array))\n",
    "\n",
    "    if order is not None:\n",
    "        processed_data = sorted(processed_data, key=lambda x: order.index(x[0]))\n",
    "\n",
    "    processed_df = pd.DataFrame.from_records(processed_data, columns=['spectrogram_name', 'flattened_array']) # spectrogram_id\n",
    "\n",
    "    flattened_df = pd.DataFrame(processed_df['flattened_array'].tolist())\n",
    "    flattened_df['spectrogram_name'] = processed_df['spectrogram_name']  # spectrogram_id\n",
    "\n",
    "    return flattened_df\n",
    "\n",
    "train_data_df = process_and_convert_dataframes(train_dataframes, impute_with_zero, order=list_order_X_train) # impute_with_mean\n",
    "test_data_df = process_and_convert_dataframes(test_dataframes, impute_with_zero, order=list_order_X_test) # impute_with_mean"
   ]
  },
  {
   "cell_type": "code",
   "execution_count": 83,
   "metadata": {
    "id": "hSffNIhlGa29"
   },
   "outputs": [],
   "source": [
    "# debugging\n",
    "# train_data_df[train_data_df.duplicated()] # check duplicated rows "
   ]
  },
  {
   "cell_type": "code",
   "execution_count": 86,
   "metadata": {
    "colab": {
     "base_uri": "https://localhost:8080/"
    },
    "id": "V5-7p9zkHHdq",
    "outputId": "79e50824-a9f4-4f99-c392-c7a7b0ccf7c5"
   },
   "outputs": [
    {
     "data": {
      "text/plain": [
       "Series([], dtype: float64)"
      ]
     },
     "execution_count": 86,
     "metadata": {},
     "output_type": "execute_result"
    }
   ],
   "source": [
    "# debugging\n",
    "# train_data_df.isnull().mean()[train_data_df.isnull().mean() > 0] * 100 # show percentage of all above 0 missing values"
   ]
  },
  {
   "cell_type": "code",
   "execution_count": 88,
   "metadata": {
    "colab": {
     "base_uri": "https://localhost:8080/"
    },
    "id": "GLodkG1mFKIv",
    "outputId": "b517e5e2-f63a-45ae-de5a-148421b23213"
   },
   "outputs": [
    {
     "data": {
      "text/plain": [
       "0"
      ]
     },
     "execution_count": 88,
     "metadata": {},
     "output_type": "execute_result"
    }
   ],
   "source": [
    "del list_order_X_train\n",
    "del list_order_X_test\n",
    "del train_dataframes\n",
    "del test_dataframes\n",
    "\n",
    "gc.collect()"
   ]
  },
  {
   "cell_type": "code",
   "execution_count": 98,
   "metadata": {
    "colab": {
     "base_uri": "https://localhost:8080/"
    },
    "id": "CS8Fb73YL5e2",
    "outputId": "54938147-cd98-4ae5-8ba0-ebc896d2b2fb"
   },
   "outputs": [
    {
     "data": {
      "text/plain": [
       "((768, 120001), (192, 120001))"
      ]
     },
     "execution_count": 98,
     "metadata": {},
     "output_type": "execute_result"
    }
   ],
   "source": [
    "train_data_df.shape, test_data_df.shape"
   ]
  },
  {
   "cell_type": "code",
   "execution_count": 100,
   "metadata": {
    "colab": {
     "base_uri": "https://localhost:8080/"
    },
    "id": "mxp3R0lQshGl",
    "outputId": "05f50cd5-ecdd-456d-f522-bcedba64a05e"
   },
   "outputs": [
    {
     "data": {
      "text/plain": [
       "0"
      ]
     },
     "execution_count": 100,
     "metadata": {},
     "output_type": "execute_result"
    }
   ],
   "source": [
    "gc.collect()"
   ]
  },
  {
   "cell_type": "code",
   "execution_count": 102,
   "metadata": {
    "id": "JY2TrqfQdV8i"
   },
   "outputs": [],
   "source": [
    "train_data_features = train_data_df.drop('spectrogram_name', axis=1) # spectrogram_id\n",
    "test_data_features = test_data_df.drop('spectrogram_name', axis=1) # spectrogram_id"
   ]
  },
  {
   "cell_type": "code",
   "execution_count": 103,
   "metadata": {
    "colab": {
     "base_uri": "https://localhost:8080/"
    },
    "id": "IYbJbZDTHfLQ",
    "outputId": "e561907c-5693-4de8-d5af-1150ad38d3fa"
   },
   "outputs": [
    {
     "data": {
      "text/plain": [
       "((768, 120000), (192, 120000))"
      ]
     },
     "execution_count": 103,
     "metadata": {},
     "output_type": "execute_result"
    }
   ],
   "source": [
    "train_data_features.shape, test_data_features.shape"
   ]
  },
  {
   "cell_type": "code",
   "execution_count": 104,
   "metadata": {
    "colab": {
     "base_uri": "https://localhost:8080/"
    },
    "id": "QAZ1plvMzaSe",
    "outputId": "bd23a1f9-ed16-46f2-82f1-4ea4ef645fae"
   },
   "outputs": [
    {
     "data": {
      "text/plain": [
       "0"
      ]
     },
     "execution_count": 104,
     "metadata": {},
     "output_type": "execute_result"
    }
   ],
   "source": [
    "del train_data_df\n",
    "del test_data_df\n",
    "\n",
    "gc.collect()"
   ]
  },
  {
   "cell_type": "code",
   "execution_count": 105,
   "metadata": {
    "colab": {
     "base_uri": "https://localhost:8080/",
     "height": 794
    },
    "id": "arnVoOrjcDeO",
    "outputId": "cd1ab876-bd1d-43ec-e735-16f84f678da8"
   },
   "outputs": [
    {
     "name": "stdout",
     "output_type": "stream",
     "text": [
      "Accuracy with random forest all components: 44.27%\n",
      "Classification Report with random forest all components:\n",
      "               precision    recall  f1-score   support\n",
      "\n",
      "           0       0.47      0.61      0.53        28\n",
      "           1       0.41      0.52      0.46        31\n",
      "           2       0.45      0.70      0.55        27\n",
      "           3       0.46      0.26      0.33        42\n",
      "           4       0.16      0.13      0.15        30\n",
      "           5       0.69      0.53      0.60        34\n",
      "\n",
      "    accuracy                           0.44       192\n",
      "   macro avg       0.44      0.46      0.44       192\n",
      "weighted avg       0.45      0.44      0.43       192\n",
      "\n",
      "\n",
      "Log Loss with random forest all components: 1.3811837397121192\n",
      "\n"
     ]
    },
    {
     "data": {
      "image/png": "[encoded data removed]",
      "text/plain": [
       "<Figure size 640x480 with 2 Axes>"
      ]
     },
     "metadata": {},
     "output_type": "display_data"
    }
   ],
   "source": [
    "rf_classifier = RandomForestClassifier(n_estimators=100, random_state=42)\n",
    "rf_classifier.fit(train_data_features, y_train)\n",
    "y_pred = rf_classifier.predict(test_data_features)\n",
    "\n",
    "accuracy = accuracy_score(y_test, y_pred)\n",
    "print(f\"Accuracy with random forest all components: {accuracy * 100:.2f}%\")\n",
    "\n",
    "report = classification_report(y_test, y_pred)\n",
    "print(\"Classification Report with random forest all components:\\n\", report)\n",
    "\n",
    "y_probs = rf_classifier.predict_proba(test_data_features)\n",
    "logloss = log_loss(y_test, y_probs)\n",
    "print(f\"\\nLog Loss with random forest all components: {logloss}\\n\")\n",
    "\n",
    "conf_matrix = confusion_matrix(y_test, y_pred)\n",
    "sns.heatmap(conf_matrix, annot=True, fmt=\"d\")\n",
    "plt.title(\"Confusion Matrix with random forest all components\")\n",
    "plt.xlabel(\"Predicted Label\")\n",
    "plt.ylabel(\"True Label\")\n",
    "plt.show()"
   ]
  },
  {
   "cell_type": "markdown",
   "metadata": {},
   "source": [
    "### crushing model"
   ]
  },
  {
   "cell_type": "code",
   "execution_count": 106,
   "metadata": {
    "id": "D4YICYEVoBRO"
   },
   "outputs": [],
   "source": [
    "# xgb_classifier_pca = XGBClassifier(n_estimators=100, random_state=42, use_label_encoder=False, eval_metric='mlogloss')\n",
    "\n",
    "# xgb_classifier_pca.fit(train_data_features, y_train)\n",
    "\n",
    "# y_pred = xgb_classifier_pca.predict(test_data_features)\n",
    "\n",
    "# accuracy_pca = accuracy_score(y_test, y_pred)\n",
    "# print(f\"Accuracy with XGBoost  all components: {accuracy_pca * 100:.2f}%\")\n",
    "\n",
    "# report_pca = classification_report(y_test, y_pred)\n",
    "# print(\"Classification Report with XGBoost  all components:\\n\", report_pca)\n",
    "\n",
    "# y_probs = xgb_classifier_pca.predict_proba(test_data_features)\n",
    "\n",
    "# logloss = log_loss(y_test, y_probs)\n",
    "# print(f\"Log Loss with XGBoost  all components: {logloss}\")\n",
    "\n",
    "# conf_matrix = confusion_matrix(y_test, y_pred)\n",
    "# sns.heatmap(conf_matrix, annot=True, fmt=\"d\")\n",
    "# plt.title(\"Confusion Matrix with XGBoost  all components\")\n",
    "# plt.xlabel(\"Predicted Label\")\n",
    "# plt.ylabel(\"True Label\")\n",
    "# plt.show()"
   ]
  },
  {
   "cell_type": "markdown",
   "metadata": {
    "id": "KYbCDGEBfbu-"
   },
   "source": [
    "### pca"
   ]
  },
  {
   "cell_type": "code",
   "execution_count": 107,
   "metadata": {
    "colab": {
     "base_uri": "https://localhost:8080/",
     "height": 1000
    },
    "id": "pw4sxnggfYnQ",
    "outputId": "2a93b4b8-c43a-4bfd-e44f-6182c23a5587"
   },
   "outputs": [
    {
     "data": {
      "image/png": "[encoded data removed]",
      "text/plain": [
       "<Figure size 1000x600 with 1 Axes>"
      ]
     },
     "metadata": {},
     "output_type": "display_data"
    },
    {
     "name": "stdout",
     "output_type": "stream",
     "text": [
      "Explained variance ratio per component:\n",
      "Component 1: 17.4062%\n",
      "Component 2: 12.0584%\n",
      "Component 3: 9.5501%\n",
      "Component 4: 6.8555%\n",
      "Component 5: 5.9476%\n",
      "Component 6: 4.8862%\n",
      "Component 7: 3.7294%\n",
      "Component 8: 3.4779%\n",
      "Component 9: 3.1499%\n",
      "Component 10: 3.0037%\n",
      "Component 11: 2.4508%\n",
      "Component 12: 2.3299%\n",
      "Component 13: 2.3076%\n",
      "Component 14: 1.9247%\n",
      "Component 15: 1.7948%\n",
      "Component 16: 1.5008%\n",
      "Component 17: 1.4576%\n",
      "Component 18: 1.3898%\n",
      "Component 19: 1.2846%\n",
      "Component 20: 1.1571%\n",
      "Component 21: 1.1484%\n",
      "Component 22: 0.8332%\n",
      "Component 23: 0.8028%\n",
      "Component 24: 0.6255%\n",
      "Component 25: 0.5887%\n",
      "Component 26: 0.5209%\n",
      "Component 27: 0.4622%\n",
      "Component 28: 0.4542%\n",
      "Component 29: 0.3745%\n",
      "Component 30: 0.3713%\n",
      "Component 31: 0.3514%\n",
      "Component 32: 0.3320%\n",
      "Component 33: 0.3277%\n",
      "Component 34: 0.3252%\n",
      "Component 35: 0.3239%\n",
      "Component 36: 0.2905%\n",
      "Component 37: 0.2814%\n",
      "Component 38: 0.2674%\n",
      "Component 39: 0.2555%\n",
      "Component 40: 0.2221%\n",
      "Component 41: 0.2090%\n",
      "Component 42: 0.2063%\n",
      "Component 43: 0.1955%\n",
      "Component 44: 0.1851%\n",
      "Component 45: 0.1751%\n",
      "Component 46: 0.1674%\n",
      "Component 47: 0.1638%\n",
      "Component 48: 0.1624%\n",
      "Component 49: 0.1590%\n",
      "Component 50: 0.1559%\n",
      "Component 51: 0.1551%\n",
      "Component 52: 0.1454%\n",
      "Component 53: 0.1210%\n",
      "Component 54: 0.1130%\n",
      "Component 55: 0.0915%\n",
      "Component 56: 0.0820%\n",
      "Component 57: 0.0807%\n",
      "Component 58: 0.0727%\n",
      "Component 59: 0.0690%\n",
      "Component 60: 0.0621%\n",
      "Component 61: 0.0523%\n",
      "Component 62: 0.0480%\n",
      "Component 63: 0.0381%\n",
      "Component 64: 0.0339%\n",
      "Component 65: 0.0242%\n",
      "Component 66: 0.0240%\n",
      "Component 67: 0.0210%\n",
      "Component 68: 0.0188%\n",
      "Component 69: 0.0177%\n",
      "Component 70: 0.0165%\n",
      "Component 71: 0.0119%\n",
      "Component 72: 0.0096%\n",
      "Component 73: 0.0093%\n",
      "Component 74: 0.0081%\n",
      "Component 75: 0.0073%\n",
      "Component 76: 0.0062%\n",
      "Component 77: 0.0057%\n",
      "Component 78: 0.0051%\n",
      "Component 79: 0.0050%\n",
      "Component 80: 0.0047%\n",
      "Component 81: 0.0046%\n",
      "Component 82: 0.0038%\n",
      "Component 83: 0.0035%\n",
      "Component 84: 0.0033%\n",
      "Component 85: 0.0033%\n",
      "Component 86: 0.0032%\n",
      "Component 87: 0.0030%\n",
      "Component 88: 0.0030%\n",
      "Component 89: 0.0025%\n",
      "Component 90: 0.0010%\n",
      "Component 91: 0.0010%\n",
      "Component 92: 0.0008%\n",
      "Component 93: 0.0006%\n",
      "Component 94: 0.0005%\n",
      "Component 95: 0.0005%\n",
      "Component 96: 0.0005%\n",
      "Component 97: 0.0003%\n",
      "Component 98: 0.0003%\n",
      "Component 99: 0.0003%\n",
      "Component 100: 0.0002%\n",
      "\n",
      "Cumulative explained variance by 100 components: 100.00%\n"
     ]
    }
   ],
   "source": [
    "# visualise only 100  copmponents\n",
    "\n",
    "from sklearn.decomposition import PCA\n",
    "n_components = 100\n",
    "\n",
    "pca = PCA(n_components=n_components)\n",
    "pca.fit(train_data_features)\n",
    "pca_components = pca.transform(train_data_features)\n",
    "\n",
    "explained_variance_ratio = pca.explained_variance_ratio_\n",
    "\n",
    "cumulative_explained_variance = np.cumsum(explained_variance_ratio)\n",
    "\n",
    "plt.figure(figsize=(10, 6))\n",
    "plt.plot(range(1, n_components + 1), cumulative_explained_variance, marker='o', linestyle='--')\n",
    "plt.title('Cumulative Explained Variance by 100 PCA Components')\n",
    "plt.xlabel('Number of Components')\n",
    "plt.ylabel('Cumulative Explained Variance')\n",
    "plt.grid(True)\n",
    "plt.show()\n",
    "\n",
    "print(\"Explained variance ratio per component:\")\n",
    "for i, variance in enumerate(explained_variance_ratio, start=1):\n",
    "    variance_in_percentage = variance * 100\n",
    "    print(f\"Component {i}: {variance_in_percentage:.4f}%\")\n",
    "cumulative_explained_variance *= 100\n",
    "print(f\"\\nCumulative explained variance by {n_components} components: {cumulative_explained_variance[-1]:.2f}%\")"
   ]
  },
  {
   "cell_type": "code",
   "execution_count": 108,
   "metadata": {
    "colab": {
     "base_uri": "https://localhost:8080/"
    },
    "id": "08Qj7WFygVQl",
    "outputId": "22e688bf-460d-4a79-c1df-dee1339de510"
   },
   "outputs": [
    {
     "name": "stdout",
     "output_type": "stream",
     "text": [
      "Cumulative explained variance of top 35 components: 95.50%\n"
     ]
    }
   ],
   "source": [
    "top_components = 35\n",
    "print(f\"Cumulative explained variance of top {top_components} components: {cumulative_explained_variance[top_components - 1]:.2f}%\")"
   ]
  },
  {
   "cell_type": "code",
   "execution_count": 109,
   "metadata": {
    "id": "3Eoup1_Kh_qx"
   },
   "outputs": [],
   "source": [
    "pca_train_components = pca.transform(train_data_features)[:, :top_components]\n",
    "pca_test_components = pca.transform(test_data_features)[:, :top_components]\n",
    "X_train_selected_pca = pca_train_components\n",
    "X_test_selected_pca = pca_test_components"
   ]
  },
  {
   "cell_type": "code",
   "execution_count": 110,
   "metadata": {
    "colab": {
     "base_uri": "https://localhost:8080/"
    },
    "id": "GpIWMQb-jUPq",
    "outputId": "66ff3afd-f619-4d79-e108-b766081cddcb"
   },
   "outputs": [
    {
     "data": {
      "text/plain": [
       "(192, 120000)"
      ]
     },
     "execution_count": 110,
     "metadata": {},
     "output_type": "execute_result"
    }
   ],
   "source": [
    "test_data_features.shape"
   ]
  },
  {
   "cell_type": "code",
   "execution_count": 111,
   "metadata": {
    "colab": {
     "base_uri": "https://localhost:8080/"
    },
    "id": "KRjVcF4pi-ic",
    "outputId": "58135972-4522-4288-bc02-21ccfe220a27"
   },
   "outputs": [
    {
     "data": {
      "text/plain": [
       "((768, 35), (192, 35))"
      ]
     },
     "execution_count": 111,
     "metadata": {},
     "output_type": "execute_result"
    }
   ],
   "source": [
    "X_train_selected_pca.shape,X_test_selected_pca.shape"
   ]
  },
  {
   "cell_type": "code",
   "execution_count": 112,
   "metadata": {
    "colab": {
     "base_uri": "https://localhost:8080/",
     "height": 758
    },
    "id": "SttmlhlccGWx",
    "outputId": "cde9d477-ad8f-4cd9-b59b-dd0b931cfc8c"
   },
   "outputs": [
    {
     "name": "stdout",
     "output_type": "stream",
     "text": [
      "Accuracy with PCA RandomForest components: 39.06%\n",
      "Classification Report with PCA RandomForest components:\n",
      "               precision    recall  f1-score   support\n",
      "\n",
      "           0       0.48      0.57      0.52        28\n",
      "           1       0.38      0.48      0.43        31\n",
      "           2       0.35      0.41      0.38        27\n",
      "           3       0.65      0.31      0.42        42\n",
      "           4       0.21      0.23      0.22        30\n",
      "           5       0.37      0.38      0.38        34\n",
      "\n",
      "    accuracy                           0.39       192\n",
      "   macro avg       0.41      0.40      0.39       192\n",
      "weighted avg       0.42      0.39      0.39       192\n",
      "\n",
      "Log Loss with randomforest PCA  components: 1.523083710602674\n"
     ]
    },
    {
     "data": {
      "image/png": "[encoded data removed]",
      "text/plain": [
       "<Figure size 640x480 with 2 Axes>"
      ]
     },
     "metadata": {},
     "output_type": "display_data"
    }
   ],
   "source": [
    "rf_classifier_pca = RandomForestClassifier(n_estimators=100, random_state=42)\n",
    "rf_classifier_pca.fit(X_train_selected_pca, y_train)\n",
    "y_pred_pca = rf_classifier_pca.predict(X_test_selected_pca)\n",
    "\n",
    "accuracy_pca = accuracy_score(y_test, y_pred_pca)\n",
    "print(f\"Accuracy with PCA RandomForest components: {accuracy_pca * 100:.2f}%\")\n",
    "\n",
    "report_pca = classification_report(y_test, y_pred_pca)\n",
    "print(\"Classification Report with PCA RandomForest components:\\n\", report_pca)\n",
    "\n",
    "y_probs_pca = rf_classifier_pca.predict_proba(X_test_selected_pca)\n",
    "\n",
    "logloss_pca = log_loss(y_test, y_probs_pca)\n",
    "print(f\"Log Loss with randomforest PCA  components: {logloss_pca}\")\n",
    "\n",
    "conf_matrix = confusion_matrix(y_test, y_pred_pca)\n",
    "sns.heatmap(conf_matrix, annot=True, fmt=\"d\")\n",
    "plt.title(\"Confusion Matrix with PCA RandomForest components\")\n",
    "plt.xlabel(\"Predicted Label\")\n",
    "plt.ylabel(\"True Label\")\n",
    "plt.show()"
   ]
  },
  {
   "cell_type": "code",
   "execution_count": 113,
   "metadata": {
    "colab": {
     "base_uri": "https://localhost:8080/",
     "height": 758
    },
    "id": "PmdGjmmTcHFt",
    "outputId": "1daa3658-879f-4641-aef1-f821205d67b6"
   },
   "outputs": [
    {
     "name": "stdout",
     "output_type": "stream",
     "text": [
      "Accuracy with PCA XGBoost components: 38.54%\n",
      "Classification Report with PCA XGBoost components:\n",
      "               precision    recall  f1-score   support\n",
      "\n",
      "           0       0.53      0.61      0.57        28\n",
      "           1       0.35      0.42      0.38        31\n",
      "           2       0.42      0.48      0.45        27\n",
      "           3       0.43      0.21      0.29        42\n",
      "           4       0.21      0.30      0.25        30\n",
      "           5       0.45      0.38      0.41        34\n",
      "\n",
      "    accuracy                           0.39       192\n",
      "   macro avg       0.40      0.40      0.39       192\n",
      "weighted avg       0.40      0.39      0.38       192\n",
      "\n",
      "Log Loss with XGBoost  PCA components: 1.9562272603380872\n"
     ]
    },
    {
     "data": {
      "image/png": "[encoded data removed]",
      "text/plain": [
       "<Figure size 640x480 with 2 Axes>"
      ]
     },
     "metadata": {},
     "output_type": "display_data"
    }
   ],
   "source": [
    "xgb_classifier_pca = XGBClassifier(n_estimators=100, random_state=42, use_label_encoder=False, eval_metric='mlogloss')\n",
    "\n",
    "xgb_classifier_pca.fit(X_train_selected_pca, y_train)\n",
    "\n",
    "y_pred_pca = xgb_classifier_pca.predict(X_test_selected_pca)\n",
    "\n",
    "accuracy_pca = accuracy_score(y_test, y_pred_pca)\n",
    "print(f\"Accuracy with PCA XGBoost components: {accuracy_pca * 100:.2f}%\")\n",
    "\n",
    "report_pca = classification_report(y_test, y_pred_pca)\n",
    "print(\"Classification Report with PCA XGBoost components:\\n\", report_pca)\n",
    "\n",
    "y_probs_pca = xgb_classifier_pca.predict_proba(X_test_selected_pca)\n",
    "\n",
    "logloss_pca = log_loss(y_test, y_probs_pca)\n",
    "print(f\"Log Loss with XGBoost  PCA components: {logloss_pca}\")\n",
    "\n",
    "conf_matrix = confusion_matrix(y_test, y_pred_pca)\n",
    "sns.heatmap(conf_matrix, annot=True, fmt=\"d\")\n",
    "plt.title(\"Confusion Matrix\")\n",
    "plt.xlabel(\"Predicted Label\")\n",
    "plt.ylabel(\"True Label\")\n",
    "plt.show()\n"
   ]
  },
  {
   "cell_type": "markdown",
   "metadata": {
    "id": "3PUh1-UocImA"
   },
   "source": [
    "### current problems:\n",
    " - too many smaples crush the program.\n",
    " - XGBoost without PCA crush the program.\n",
    " - doing sample which are not sub_spectogram_id == 0 were tried here and didn't changed anytihng. \n",
    " - the entire dataset is 106800 (different spectpgrams) X 300 (rows) X 400(cols)...other processing solution is required\n",
    " - furthermore, an attempt to use the original baseline model flawed logic was done here (baseline model flatten with random forest) which show worest result than before, which raise the suspicion that the data was polluted while processed there.."
   ]
  }
 ],
 "metadata": {
  "colab": {
   "provenance": []
  },
  "kernelspec": {
   "display_name": "Python 3 (ipykernel)",
   "language": "python",
   "name": "python3"
  },
  "language_info": {
   "codemirror_mode": {
    "name": "ipython",
    "version": 3
   },
   "file_extension": ".py",
   "mimetype": "text/x-python",
   "name": "python",
   "nbconvert_exporter": "python",
   "pygments_lexer": "ipython3",
   "version": "3.11.5"
  }
 },
 "nbformat": 4,
 "nbformat_minor": 1
}
